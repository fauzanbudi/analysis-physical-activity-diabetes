{
 "cells": [
  {
   "cell_type": "markdown",
   "metadata": {},
   "source": [
    "# Import packages"
   ]
  },
  {
   "cell_type": "code",
   "execution_count": 1,
   "metadata": {},
   "outputs": [],
   "source": [
    "library(foreign)"
   ]
  },
  {
   "cell_type": "code",
   "execution_count": 2,
   "metadata": {},
   "outputs": [],
   "source": [
    "library(plyr)"
   ]
  },
  {
   "cell_type": "code",
   "execution_count": 3,
   "metadata": {},
   "outputs": [
    {
     "name": "stderr",
     "output_type": "stream",
     "text": [
      "\n",
      "Attaching package: ‘dplyr’\n",
      "\n",
      "The following objects are masked from ‘package:plyr’:\n",
      "\n",
      "    arrange, count, desc, failwith, id, mutate, rename, summarise,\n",
      "    summarize\n",
      "\n",
      "The following objects are masked from ‘package:stats’:\n",
      "\n",
      "    filter, lag\n",
      "\n",
      "The following objects are masked from ‘package:base’:\n",
      "\n",
      "    intersect, setdiff, setequal, union\n",
      "\n"
     ]
    }
   ],
   "source": [
    "library(dplyr)"
   ]
  },
  {
   "cell_type": "code",
   "execution_count": 4,
   "metadata": {},
   "outputs": [],
   "source": [
    "library(ggplot2)"
   ]
  },
  {
   "cell_type": "code",
   "execution_count": 5,
   "metadata": {},
   "outputs": [],
   "source": [
    "library(tidyr)"
   ]
  },
  {
   "cell_type": "code",
   "execution_count": 6,
   "metadata": {},
   "outputs": [
    {
     "name": "stderr",
     "output_type": "stream",
     "text": [
      "Updating HTML index of packages in '.Library'\n",
      "Making 'packages.html' ... done\n"
     ]
    }
   ],
   "source": [
    "install.packages(\"epiR\", repos='http://cran.us.r-project.org')"
   ]
  },
  {
   "cell_type": "code",
   "execution_count": 7,
   "metadata": {},
   "outputs": [
    {
     "name": "stderr",
     "output_type": "stream",
     "text": [
      "Loading required package: survival\n",
      "Package epiR 1.0-2 is loaded\n",
      "Type help(epi.about) for summary information\n",
      "\n",
      "\n"
     ]
    }
   ],
   "source": [
    "library(epiR)"
   ]
  },
  {
   "cell_type": "code",
   "execution_count": 8,
   "metadata": {},
   "outputs": [
    {
     "name": "stderr",
     "output_type": "stream",
     "text": [
      "Updating HTML index of packages in '.Library'\n",
      "Making 'packages.html' ... done\n"
     ]
    }
   ],
   "source": [
    "install.packages(\"gmodels\", repos='http://cran.us.r-project.org')"
   ]
  },
  {
   "cell_type": "code",
   "execution_count": 9,
   "metadata": {},
   "outputs": [],
   "source": [
    "library(gmodels)"
   ]
  },
  {
   "cell_type": "code",
   "execution_count": 10,
   "metadata": {},
   "outputs": [
    {
     "name": "stderr",
     "output_type": "stream",
     "text": [
      "Updating HTML index of packages in '.Library'\n",
      "Making 'packages.html' ... done\n"
     ]
    }
   ],
   "source": [
    "install.packages(\"gplots\", repos='http://cran.us.r-project.org')"
   ]
  },
  {
   "cell_type": "code",
   "execution_count": 11,
   "metadata": {},
   "outputs": [
    {
     "name": "stderr",
     "output_type": "stream",
     "text": [
      "\n",
      "Attaching package: ‘gplots’\n",
      "\n",
      "The following object is masked from ‘package:stats’:\n",
      "\n",
      "    lowess\n",
      "\n"
     ]
    }
   ],
   "source": [
    "library(gplots)"
   ]
  },
  {
   "cell_type": "code",
   "execution_count": 12,
   "metadata": {},
   "outputs": [],
   "source": [
    "options(scipen = 999)"
   ]
  },
  {
   "cell_type": "markdown",
   "metadata": {},
   "source": [
    "# Variable preparation - Select only related variable needed then scoring to each ID's"
   ]
  },
  {
   "cell_type": "code",
   "execution_count": 13,
   "metadata": {
    "scrolled": true
   },
   "outputs": [
    {
     "data": {
      "text/html": [
       "<table>\n",
       "<thead><tr><th scope=col>hhid14_9</th><th scope=col>pid14</th><th scope=col>cdtype</th><th scope=col>cd05</th><th scope=col>cd06</th><th scope=col>cd07x</th><th scope=col>cd07mth</th><th scope=col>cd07yr</th><th scope=col>cd07a</th><th scope=col>cd08</th><th scope=col>⋯</th><th scope=col>cd09b3</th><th scope=col>cd09b4</th><th scope=col>cd09b5</th><th scope=col>cd09b6</th><th scope=col>cd09c</th><th scope=col>cd10</th><th scope=col>hhid14</th><th scope=col>pidlink</th><th scope=col>version</th><th scope=col>module</th></tr></thead>\n",
       "<tbody>\n",
       "\t<tr><td>001060000</td><td>1        </td><td>A        </td><td>3:No     </td><td>         </td><td>NA       </td><td>NA       </td><td>NA       </td><td>NA       </td><td>NA       </td><td>⋯        </td><td>NA       </td><td>NA       </td><td>NA       </td><td>NA       </td><td>         </td><td>NA       </td><td>0010600  </td><td>001060001</td><td>1.3      </td><td>B3B_CD3  </td></tr>\n",
       "\t<tr><td>001060000</td><td>1        </td><td>B        </td><td>3:No     </td><td>         </td><td>NA       </td><td>NA       </td><td>NA       </td><td>NA       </td><td>NA       </td><td>⋯        </td><td>NA       </td><td>NA       </td><td>NA       </td><td>NA       </td><td>         </td><td>NA       </td><td>0010600  </td><td>001060001</td><td>1.3      </td><td>B3B_CD3  </td></tr>\n",
       "\t<tr><td>001060000</td><td>1        </td><td>C        </td><td>3:No     </td><td>         </td><td>NA       </td><td>NA       </td><td>NA       </td><td>NA       </td><td>NA       </td><td>⋯        </td><td>NA       </td><td>NA       </td><td>NA       </td><td>NA       </td><td>         </td><td>NA       </td><td>0010600  </td><td>001060001</td><td>1.3      </td><td>B3B_CD3  </td></tr>\n",
       "\t<tr><td>001060000</td><td>1        </td><td>D        </td><td>3:No     </td><td>         </td><td>NA       </td><td>NA       </td><td>NA       </td><td>NA       </td><td>NA       </td><td>⋯        </td><td>NA       </td><td>NA       </td><td>NA       </td><td>NA       </td><td>         </td><td>NA       </td><td>0010600  </td><td>001060001</td><td>1.3      </td><td>B3B_CD3  </td></tr>\n",
       "\t<tr><td>001060000</td><td>1        </td><td>E        </td><td>3:No     </td><td>         </td><td>NA       </td><td>NA       </td><td>NA       </td><td>NA       </td><td>NA       </td><td>⋯        </td><td>NA       </td><td>NA       </td><td>NA       </td><td>NA       </td><td>         </td><td>NA       </td><td>0010600  </td><td>001060001</td><td>1.3      </td><td>B3B_CD3  </td></tr>\n",
       "\t<tr><td>001060000</td><td>1        </td><td>F        </td><td>3:No     </td><td>         </td><td>NA       </td><td>NA       </td><td>NA       </td><td>NA       </td><td>NA       </td><td>⋯        </td><td>NA       </td><td>NA       </td><td>NA       </td><td>NA       </td><td>         </td><td>NA       </td><td>0010600  </td><td>001060001</td><td>1.3      </td><td>B3B_CD3  </td></tr>\n",
       "</tbody>\n",
       "</table>\n"
      ],
      "text/latex": [
       "\\begin{tabular}{r|llllllllllllllllllllllll}\n",
       " hhid14\\_9 & pid14 & cdtype & cd05 & cd06 & cd07x & cd07mth & cd07yr & cd07a & cd08 & ⋯ & cd09b3 & cd09b4 & cd09b5 & cd09b6 & cd09c & cd10 & hhid14 & pidlink & version & module\\\\\n",
       "\\hline\n",
       "\t 001060000 & 1         & A         & 3:No      &           & NA        & NA        & NA        & NA        & NA        & ⋯         & NA        & NA        & NA        & NA        &           & NA        & 0010600   & 001060001 & 1.3       & B3B\\_CD3\\\\\n",
       "\t 001060000 & 1         & B         & 3:No      &           & NA        & NA        & NA        & NA        & NA        & ⋯         & NA        & NA        & NA        & NA        &           & NA        & 0010600   & 001060001 & 1.3       & B3B\\_CD3\\\\\n",
       "\t 001060000 & 1         & C         & 3:No      &           & NA        & NA        & NA        & NA        & NA        & ⋯         & NA        & NA        & NA        & NA        &           & NA        & 0010600   & 001060001 & 1.3       & B3B\\_CD3\\\\\n",
       "\t 001060000 & 1         & D         & 3:No      &           & NA        & NA        & NA        & NA        & NA        & ⋯         & NA        & NA        & NA        & NA        &           & NA        & 0010600   & 001060001 & 1.3       & B3B\\_CD3\\\\\n",
       "\t 001060000 & 1         & E         & 3:No      &           & NA        & NA        & NA        & NA        & NA        & ⋯         & NA        & NA        & NA        & NA        &           & NA        & 0010600   & 001060001 & 1.3       & B3B\\_CD3\\\\\n",
       "\t 001060000 & 1         & F         & 3:No      &           & NA        & NA        & NA        & NA        & NA        & ⋯         & NA        & NA        & NA        & NA        &           & NA        & 0010600   & 001060001 & 1.3       & B3B\\_CD3\\\\\n",
       "\\end{tabular}\n"
      ],
      "text/markdown": [
       "\n",
       "hhid14_9 | pid14 | cdtype | cd05 | cd06 | cd07x | cd07mth | cd07yr | cd07a | cd08 | ⋯ | cd09b3 | cd09b4 | cd09b5 | cd09b6 | cd09c | cd10 | hhid14 | pidlink | version | module | \n",
       "|---|---|---|---|---|---|\n",
       "| 001060000 | 1         | A         | 3:No      |           | NA        | NA        | NA        | NA        | NA        | ⋯         | NA        | NA        | NA        | NA        |           | NA        | 0010600   | 001060001 | 1.3       | B3B_CD3   | \n",
       "| 001060000 | 1         | B         | 3:No      |           | NA        | NA        | NA        | NA        | NA        | ⋯         | NA        | NA        | NA        | NA        |           | NA        | 0010600   | 001060001 | 1.3       | B3B_CD3   | \n",
       "| 001060000 | 1         | C         | 3:No      |           | NA        | NA        | NA        | NA        | NA        | ⋯         | NA        | NA        | NA        | NA        |           | NA        | 0010600   | 001060001 | 1.3       | B3B_CD3   | \n",
       "| 001060000 | 1         | D         | 3:No      |           | NA        | NA        | NA        | NA        | NA        | ⋯         | NA        | NA        | NA        | NA        |           | NA        | 0010600   | 001060001 | 1.3       | B3B_CD3   | \n",
       "| 001060000 | 1         | E         | 3:No      |           | NA        | NA        | NA        | NA        | NA        | ⋯         | NA        | NA        | NA        | NA        |           | NA        | 0010600   | 001060001 | 1.3       | B3B_CD3   | \n",
       "| 001060000 | 1         | F         | 3:No      |           | NA        | NA        | NA        | NA        | NA        | ⋯         | NA        | NA        | NA        | NA        |           | NA        | 0010600   | 001060001 | 1.3       | B3B_CD3   | \n",
       "\n",
       "\n"
      ],
      "text/plain": [
       "  hhid14_9  pid14 cdtype cd05 cd06 cd07x cd07mth cd07yr cd07a cd08 ⋯ cd09b3\n",
       "1 001060000 1     A      3:No      NA    NA      NA     NA    NA   ⋯ NA    \n",
       "2 001060000 1     B      3:No      NA    NA      NA     NA    NA   ⋯ NA    \n",
       "3 001060000 1     C      3:No      NA    NA      NA     NA    NA   ⋯ NA    \n",
       "4 001060000 1     D      3:No      NA    NA      NA     NA    NA   ⋯ NA    \n",
       "5 001060000 1     E      3:No      NA    NA      NA     NA    NA   ⋯ NA    \n",
       "6 001060000 1     F      3:No      NA    NA      NA     NA    NA   ⋯ NA    \n",
       "  cd09b4 cd09b5 cd09b6 cd09c cd10 hhid14  pidlink   version module \n",
       "1 NA     NA     NA           NA   0010600 001060001 1.3     B3B_CD3\n",
       "2 NA     NA     NA           NA   0010600 001060001 1.3     B3B_CD3\n",
       "3 NA     NA     NA           NA   0010600 001060001 1.3     B3B_CD3\n",
       "4 NA     NA     NA           NA   0010600 001060001 1.3     B3B_CD3\n",
       "5 NA     NA     NA           NA   0010600 001060001 1.3     B3B_CD3\n",
       "6 NA     NA     NA           NA   0010600 001060001 1.3     B3B_CD3"
      ]
     },
     "metadata": {},
     "output_type": "display_data"
    },
    {
     "name": "stdout",
     "output_type": "stream",
     "text": [
      "'data.frame':\t548112 obs. of  24 variables:\n",
      " $ hhid14_9: chr  \"001060000\" \"001060000\" \"001060000\" \"001060000\" ...\n",
      " $ pid14   : num  1 1 1 1 1 1 1 1 1 1 ...\n",
      " $ cdtype  : chr  \"A\" \"B\" \"C\" \"D\" ...\n",
      " $ cd05    : Factor w/ 4 levels \"1:Yes\",\"3:No\",..: 2 2 2 2 2 2 2 2 2 2 ...\n",
      " $ cd06    : chr  \"\" \"\" \"\" \"\" ...\n",
      " $ cd07x   : Factor w/ 4 levels \"1:Given date\",..: NA NA NA NA NA NA NA NA NA NA ...\n",
      " $ cd07mth : Factor w/ 14 levels \"1:January\",\"2:Pebruary\",..: NA NA NA NA NA NA NA NA NA NA ...\n",
      " $ cd07yr  : num  NA NA NA NA NA NA NA NA NA NA ...\n",
      " $ cd07a   : num  NA NA NA NA NA NA NA NA NA NA ...\n",
      " $ cd08    : Factor w/ 5 levels \"1:Doctor\",\"2:Paramedic\",..: NA NA NA NA NA NA NA NA NA NA ...\n",
      " $ cd09    : Factor w/ 3 levels \"1:Yes\",\"3:No\",..: NA NA NA NA NA NA NA NA NA NA ...\n",
      " $ cd09a   : chr  \"\" \"\" \"\" \"\" ...\n",
      " $ cd09b1  : num  NA NA NA NA NA NA NA NA NA NA ...\n",
      " $ cd09b2  : num  NA NA NA NA NA NA NA NA NA NA ...\n",
      " $ cd09b3  : num  NA NA NA NA NA NA NA NA NA NA ...\n",
      " $ cd09b4  : num  NA NA NA NA NA NA NA NA NA NA ...\n",
      " $ cd09b5  : num  NA NA NA NA NA NA NA NA NA NA ...\n",
      " $ cd09b6  : num  NA NA NA NA NA NA NA NA NA NA ...\n",
      " $ cd09c   : chr  \"\" \"\" \"\" \"\" ...\n",
      " $ cd10    : Factor w/ 6 levels \"1:Yes\",\"2:Yes\",..: NA NA NA NA NA NA NA NA NA NA ...\n",
      " $ hhid14  : chr  \"0010600\" \"0010600\" \"0010600\" \"0010600\" ...\n",
      " $ pidlink : chr  \"001060001\" \"001060001\" \"001060001\" \"001060001\" ...\n",
      " $ version : num  1.3 1.3 1.3 1.3 1.3 1.3 1.3 1.3 1.3 1.3 ...\n",
      " $ module  : chr  \"B3B_CD3\" \"B3B_CD3\" \"B3B_CD3\" \"B3B_CD3\" ...\n",
      " - attr(*, \"datalabel\")= chr \"\"\n",
      " - attr(*, \"time.stamp\")= chr \"\"\n",
      " - attr(*, \"formats\")= chr  \"%10s\" \"%12.0g\" \"%2s\" \"%12.0g\" ...\n",
      " - attr(*, \"types\")= int  10 255 2 255 2 255 255 255 255 255 ...\n",
      " - attr(*, \"val.labels\")= chr  \"\" \"\" \"\" \"cd05\" ...\n",
      " - attr(*, \"var.labels\")= chr  \"2014 Household ID (9-digit)\" \"2014 PID\" \"Type chronic conditions\" \"Have a doctor/paramedic ever told you that you had [...] ?\" ...\n",
      " - attr(*, \"version\")= int -7\n",
      " - attr(*, \"label.table\")=List of 6\n",
      "  ..$ cd05   : Named int  1 3 8 9\n",
      "  .. ..- attr(*, \"names\")= chr  \"1:Yes\" \"3:No\" \"8:Don't know\" \"9:Missing\"\n",
      "  ..$ cd07x  : Named int  1 2 8 9\n",
      "  .. ..- attr(*, \"names\")= chr  \"1:Given date\" \"2:Age\" \"8:Don't know\" \"9:Missing\"\n",
      "  ..$ cd07mth: Named int  1 2 3 4 5 6 7 8 9 10 ...\n",
      "  .. ..- attr(*, \"names\")= chr  \"1:January\" \"2:Pebruary\" \"3:March\" \"4:April\" ...\n",
      "  ..$ cd08   : Named int  1 2 3 4 9\n",
      "  .. ..- attr(*, \"names\")= chr  \"1:Doctor\" \"2:Paramedic\" \"3:Nurse\" \"4:midwife\" ...\n",
      "  ..$ cd09   : Named int  1 3 9\n",
      "  .. ..- attr(*, \"names\")= chr  \"1:Yes\" \"3:No\" \"9:Missing\"\n",
      "  ..$ cd10   : Named int  1 2 3 4 8 9\n",
      "  .. ..- attr(*, \"names\")= chr  \"1:Yes\" \"2:Yes\" \"3:No\" \"4:No\" ...\n"
     ]
    },
    {
     "data": {
      "text/html": [
       "<table>\n",
       "<thead><tr><th scope=col>hhid14_9</th><th scope=col>hhid14</th><th scope=col>pidlink</th><th scope=col>cdtype</th><th scope=col>diabetes</th><th scope=col>medication</th></tr></thead>\n",
       "<tbody>\n",
       "\t<tr><td>001060000</td><td>0010600  </td><td>001060001</td><td>B        </td><td>3:No     </td><td>NA       </td></tr>\n",
       "\t<tr><td>001060004</td><td>0010651  </td><td>001060004</td><td>B        </td><td>3:No     </td><td>NA       </td></tr>\n",
       "\t<tr><td>001060000</td><td>0010600  </td><td>001060007</td><td>B        </td><td>3:No     </td><td>NA       </td></tr>\n",
       "\t<tr><td>001060000</td><td>0010600  </td><td>001060008</td><td>B        </td><td>3:No     </td><td>NA       </td></tr>\n",
       "\t<tr><td>001060004</td><td>0010651  </td><td>001065102</td><td>B        </td><td>3:No     </td><td>NA       </td></tr>\n",
       "\t<tr><td>001080003</td><td>0010851  </td><td>001080003</td><td>B        </td><td>3:No     </td><td>NA       </td></tr>\n",
       "</tbody>\n",
       "</table>\n"
      ],
      "text/latex": [
       "\\begin{tabular}{r|llllll}\n",
       " hhid14\\_9 & hhid14 & pidlink & cdtype & diabetes & medication\\\\\n",
       "\\hline\n",
       "\t 001060000 & 0010600   & 001060001 & B         & 3:No      & NA       \\\\\n",
       "\t 001060004 & 0010651   & 001060004 & B         & 3:No      & NA       \\\\\n",
       "\t 001060000 & 0010600   & 001060007 & B         & 3:No      & NA       \\\\\n",
       "\t 001060000 & 0010600   & 001060008 & B         & 3:No      & NA       \\\\\n",
       "\t 001060004 & 0010651   & 001065102 & B         & 3:No      & NA       \\\\\n",
       "\t 001080003 & 0010851   & 001080003 & B         & 3:No      & NA       \\\\\n",
       "\\end{tabular}\n"
      ],
      "text/markdown": [
       "\n",
       "hhid14_9 | hhid14 | pidlink | cdtype | diabetes | medication | \n",
       "|---|---|---|---|---|---|\n",
       "| 001060000 | 0010600   | 001060001 | B         | 3:No      | NA        | \n",
       "| 001060004 | 0010651   | 001060004 | B         | 3:No      | NA        | \n",
       "| 001060000 | 0010600   | 001060007 | B         | 3:No      | NA        | \n",
       "| 001060000 | 0010600   | 001060008 | B         | 3:No      | NA        | \n",
       "| 001060004 | 0010651   | 001065102 | B         | 3:No      | NA        | \n",
       "| 001080003 | 0010851   | 001080003 | B         | 3:No      | NA        | \n",
       "\n",
       "\n"
      ],
      "text/plain": [
       "  hhid14_9  hhid14  pidlink   cdtype diabetes medication\n",
       "1 001060000 0010600 001060001 B      3:No     NA        \n",
       "2 001060004 0010651 001060004 B      3:No     NA        \n",
       "3 001060000 0010600 001060007 B      3:No     NA        \n",
       "4 001060000 0010600 001060008 B      3:No     NA        \n",
       "5 001060004 0010651 001065102 B      3:No     NA        \n",
       "6 001080003 0010851 001080003 B      3:No     NA        "
      ]
     },
     "metadata": {},
     "output_type": "display_data"
    },
    {
     "name": "stdout",
     "output_type": "stream",
     "text": [
      "'data.frame':\t34257 obs. of  6 variables:\n",
      " $ hhid14_9  : chr  \"001060000\" \"001060004\" \"001060000\" \"001060000\" ...\n",
      " $ hhid14    : chr  \"0010600\" \"0010651\" \"0010600\" \"0010600\" ...\n",
      " $ pidlink   : chr  \"001060001\" \"001060004\" \"001060007\" \"001060008\" ...\n",
      " $ cdtype    : chr  \"B\" \"B\" \"B\" \"B\" ...\n",
      " $ diabetes  : Factor w/ 4 levels \"1:Yes\",\"3:No\",..: 2 2 2 2 2 2 2 2 2 2 ...\n",
      " $ medication: Factor w/ 3 levels \"1:Yes\",\"3:No\",..: NA NA NA NA NA NA NA NA NA NA ...\n",
      " - attr(*, \"datalabel\")= chr \"\"\n",
      " - attr(*, \"time.stamp\")= chr \"\"\n",
      " - attr(*, \"formats\")= chr  \"%10s\" \"%12.0g\" \"%2s\" \"%12.0g\" ...\n",
      " - attr(*, \"types\")= int  10 255 2 255 2 255 255 255 255 255 ...\n",
      " - attr(*, \"val.labels\")= chr  \"\" \"\" \"\" \"cd05\" ...\n",
      " - attr(*, \"var.labels\")= chr  \"2014 Household ID (9-digit)\" \"2014 PID\" \"Type chronic conditions\" \"Have a doctor/paramedic ever told you that you had [...] ?\" ...\n",
      " - attr(*, \"version\")= int -7\n",
      " - attr(*, \"label.table\")=List of 6\n",
      "  ..$ cd05   : Named int  1 3 8 9\n",
      "  .. ..- attr(*, \"names\")= chr  \"1:Yes\" \"3:No\" \"8:Don't know\" \"9:Missing\"\n",
      "  ..$ cd07x  : Named int  1 2 8 9\n",
      "  .. ..- attr(*, \"names\")= chr  \"1:Given date\" \"2:Age\" \"8:Don't know\" \"9:Missing\"\n",
      "  ..$ cd07mth: Named int  1 2 3 4 5 6 7 8 9 10 ...\n",
      "  .. ..- attr(*, \"names\")= chr  \"1:January\" \"2:Pebruary\" \"3:March\" \"4:April\" ...\n",
      "  ..$ cd08   : Named int  1 2 3 4 9\n",
      "  .. ..- attr(*, \"names\")= chr  \"1:Doctor\" \"2:Paramedic\" \"3:Nurse\" \"4:midwife\" ...\n",
      "  ..$ cd09   : Named int  1 3 9\n",
      "  .. ..- attr(*, \"names\")= chr  \"1:Yes\" \"3:No\" \"9:Missing\"\n",
      "  ..$ cd10   : Named int  1 2 3 4 8 9\n",
      "  .. ..- attr(*, \"names\")= chr  \"1:Yes\" \"2:Yes\" \"3:No\" \"4:No\" ...\n"
     ]
    },
    {
     "data": {
      "text/plain": [
       "   hhid14_9            hhid14            pidlink             cdtype         \n",
       " Length:34257       Length:34257       Length:34257       Length:34257      \n",
       " Class :character   Class :character   Class :character   Class :character  \n",
       " Mode  :character   Mode  :character   Mode  :character   Mode  :character  \n",
       "                                                                            \n",
       "         diabetes         medication   \n",
       " 1:Yes       :  779   1:Yes    :  411  \n",
       " 3:No        :33462   3:No     :  368  \n",
       " 8:Don't know:   16   9:Missing:    0  \n",
       " 9:Missing   :    0   NA's     :33478  "
      ]
     },
     "metadata": {},
     "output_type": "display_data"
    }
   ],
   "source": [
    "#Diabetes Dependent Variable and medication\n",
    "\n",
    "b3b_cd3 <- read.dta(\"b3b_cd3.dta\") \n",
    "head(b3b_cd3)\n",
    "str(b3b_cd3)\n",
    "diabetes_medication <- b3b_cd3 %>%\n",
    "                select(hhid14_9, hhid14, pidlink, cdtype, cd05, cd09) %>% \n",
    "                filter(cdtype == 'B')\n",
    "diabetes_medication <- rename(diabetes_medication, \"diabetes\" = cd05, \"medication\" = cd09)\n",
    "head(diabetes_medication)\n",
    "str(diabetes_medication)\n",
    "summary(diabetes_medication)"
   ]
  },
  {
   "cell_type": "code",
   "execution_count": 14,
   "metadata": {
    "scrolled": true
   },
   "outputs": [
    {
     "data": {
      "text/html": [
       "<table>\n",
       "<thead><tr><th scope=col>hhid14_9</th><th scope=col>pid14</th><th scope=col>kktype</th><th scope=col>kk02m</th><th scope=col>kk02n1</th><th scope=col>kk02n2</th><th scope=col>kk02o</th><th scope=col>hhid14</th><th scope=col>pidlink</th><th scope=col>version</th><th scope=col>module</th></tr></thead>\n",
       "<tbody>\n",
       "\t<tr><td>001060000       </td><td>1               </td><td>A               </td><td>3:Never         </td><td>NA              </td><td>NA              </td><td>NA              </td><td>0010600         </td><td>001060001       </td><td>1.3             </td><td>B3B_KK2         </td></tr>\n",
       "\t<tr><td>001060000       </td><td>1               </td><td>B               </td><td>3:Never         </td><td>NA              </td><td>NA              </td><td>NA              </td><td>0010600         </td><td>001060001       </td><td>1.3             </td><td>B3B_KK2         </td></tr>\n",
       "\t<tr><td>001060000                                      </td><td>1                                              </td><td>C                                              </td><td><span style=white-space:pre-wrap>1:Yes  </span></td><td>1:&lt; 2 hours                                 </td><td>12:&gt;= 30 minutes                            </td><td> 2                                             </td><td>0010600                                        </td><td>001060001                                      </td><td>1.3                                            </td><td>B3B_KK2                                        </td></tr>\n",
       "\t<tr><td>001060004       </td><td>1               </td><td>A               </td><td>3:Never         </td><td>NA              </td><td>NA              </td><td>NA              </td><td>0010651         </td><td>001060004       </td><td>1.3             </td><td>B3B_KK2         </td></tr>\n",
       "\t<tr><td>001060004       </td><td>1               </td><td>B               </td><td>3:Never         </td><td>NA              </td><td>NA              </td><td>NA              </td><td>0010651         </td><td>001060004       </td><td>1.3             </td><td>B3B_KK2         </td></tr>\n",
       "\t<tr><td>001060004                                                  </td><td>1                                                          </td><td>C                                                          </td><td><span style=white-space:pre-wrap>1:Yes  </span>            </td><td>2:&gt;= 2 hours                                            </td><td><span style=white-space:pre-wrap>22:&gt;= 4 hours   </span></td><td> 2                                                         </td><td>0010651                                                    </td><td>001060004                                                  </td><td>1.3                                                        </td><td>B3B_KK2                                                    </td></tr>\n",
       "</tbody>\n",
       "</table>\n"
      ],
      "text/latex": [
       "\\begin{tabular}{r|lllllllllll}\n",
       " hhid14\\_9 & pid14 & kktype & kk02m & kk02n1 & kk02n2 & kk02o & hhid14 & pidlink & version & module\\\\\n",
       "\\hline\n",
       "\t 001060000        & 1                & A                & 3:Never          & NA               & NA               & NA               & 0010600          & 001060001        & 1.3              & B3B\\_KK2       \\\\\n",
       "\t 001060000        & 1                & B                & 3:Never          & NA               & NA               & NA               & 0010600          & 001060001        & 1.3              & B3B\\_KK2       \\\\\n",
       "\t 001060000        & 1                & C                & 1:Yes            & 1:< 2 hours      & 12:>= 30 minutes &  2               & 0010600          & 001060001        & 1.3              & B3B\\_KK2       \\\\\n",
       "\t 001060004        & 1                & A                & 3:Never          & NA               & NA               & NA               & 0010651          & 001060004        & 1.3              & B3B\\_KK2       \\\\\n",
       "\t 001060004        & 1                & B                & 3:Never          & NA               & NA               & NA               & 0010651          & 001060004        & 1.3              & B3B\\_KK2       \\\\\n",
       "\t 001060004        & 1                & C                & 1:Yes            & 2:>= 2 hours     & 22:>= 4 hours    &  2               & 0010651          & 001060004        & 1.3              & B3B\\_KK2       \\\\\n",
       "\\end{tabular}\n"
      ],
      "text/markdown": [
       "\n",
       "hhid14_9 | pid14 | kktype | kk02m | kk02n1 | kk02n2 | kk02o | hhid14 | pidlink | version | module | \n",
       "|---|---|---|---|---|---|\n",
       "| 001060000        | 1                | A                | 3:Never          | NA               | NA               | NA               | 0010600          | 001060001        | 1.3              | B3B_KK2          | \n",
       "| 001060000        | 1                | B                | 3:Never          | NA               | NA               | NA               | 0010600          | 001060001        | 1.3              | B3B_KK2          | \n",
       "| 001060000        | 1                | C                | 1:Yes            | 1:< 2 hours      | 12:>= 30 minutes |  2               | 0010600          | 001060001        | 1.3              | B3B_KK2          | \n",
       "| 001060004        | 1                | A                | 3:Never          | NA               | NA               | NA               | 0010651          | 001060004        | 1.3              | B3B_KK2          | \n",
       "| 001060004        | 1                | B                | 3:Never          | NA               | NA               | NA               | 0010651          | 001060004        | 1.3              | B3B_KK2          | \n",
       "| 001060004        | 1                | C                | 1:Yes            | 2:>= 2 hours     | 22:>= 4 hours    |  2               | 0010651          | 001060004        | 1.3              | B3B_KK2          | \n",
       "\n",
       "\n"
      ],
      "text/plain": [
       "  hhid14_9  pid14 kktype kk02m   kk02n1       kk02n2           kk02o hhid14 \n",
       "1 001060000 1     A      3:Never NA           NA               NA    0010600\n",
       "2 001060000 1     B      3:Never NA           NA               NA    0010600\n",
       "3 001060000 1     C      1:Yes   1:< 2 hours  12:>= 30 minutes  2    0010600\n",
       "4 001060004 1     A      3:Never NA           NA               NA    0010651\n",
       "5 001060004 1     B      3:Never NA           NA               NA    0010651\n",
       "6 001060004 1     C      1:Yes   2:>= 2 hours 22:>= 4 hours     2    0010651\n",
       "  pidlink   version module \n",
       "1 001060001 1.3     B3B_KK2\n",
       "2 001060001 1.3     B3B_KK2\n",
       "3 001060001 1.3     B3B_KK2\n",
       "4 001060004 1.3     B3B_KK2\n",
       "5 001060004 1.3     B3B_KK2\n",
       "6 001060004 1.3     B3B_KK2"
      ]
     },
     "metadata": {},
     "output_type": "display_data"
    },
    {
     "name": "stdout",
     "output_type": "stream",
     "text": [
      "'data.frame':\t94389 obs. of  11 variables:\n",
      " $ hhid14_9: chr  \"001060000\" \"001060000\" \"001060000\" \"001060004\" ...\n",
      " $ pid14   : num  1 1 1 1 1 1 7 7 7 8 ...\n",
      " $ kktype  : chr  \"A\" \"B\" \"C\" \"A\" ...\n",
      " $ kk02m   : Factor w/ 3 levels \"1:Yes\",\"3:Never\",..: 2 2 1 2 2 1 2 2 1 2 ...\n",
      " $ kk02n1  : Factor w/ 2 levels \"1:< 2 hours\",..: NA NA 1 NA NA 2 NA NA 2 NA ...\n",
      " $ kk02n2  : Factor w/ 4 levels \"11:< 30 minutes\",..: NA NA 2 NA NA 4 NA NA 4 NA ...\n",
      " $ kk02o   : num  NA NA 2 NA NA 2 NA NA 3 NA ...\n",
      " $ hhid14  : chr  \"0010600\" \"0010600\" \"0010600\" \"0010651\" ...\n",
      " $ pidlink : chr  \"001060001\" \"001060001\" \"001060001\" \"001060004\" ...\n",
      " $ version : num  1.3 1.3 1.3 1.3 1.3 1.3 1.3 1.3 1.3 1.3 ...\n",
      " $ module  : chr  \"B3B_KK2\" \"B3B_KK2\" \"B3B_KK2\" \"B3B_KK2\" ...\n",
      " - attr(*, \"datalabel\")= chr \"\"\n",
      " - attr(*, \"time.stamp\")= chr \"\"\n",
      " - attr(*, \"formats\")= chr  \"%10s\" \"%12.0g\" \"%2s\" \"%12.0g\" ...\n",
      " - attr(*, \"types\")= int  10 255 2 255 255 255 255 8 10 255 ...\n",
      " - attr(*, \"val.labels\")= chr  \"\" \"\" \"\" \"kk02m\" ...\n",
      " - attr(*, \"var.labels\")= chr  \"2014 Household ID (9-digit)\" \"2014 PID\" \"TYPE OF PHYSICAL ACTIVITIES\" \"During last 7 days\" ...\n",
      " - attr(*, \"version\")= int -7\n",
      " - attr(*, \"label.table\")=List of 4\n",
      "  ..$ kk02m : Named int  1 3 9\n",
      "  .. ..- attr(*, \"names\")= chr  \"1:Yes\" \"3:Never\" \"9:Missing\"\n",
      "  ..$ kk02n1: Named int  1 2\n",
      "  .. ..- attr(*, \"names\")= chr  \"1:< 2 hours\" \"2:>= 2 hours\"\n",
      "  ..$ kk02n2: Named int  11 12 21 22\n",
      "  .. ..- attr(*, \"names\")= chr  \"11:< 30 minutes\" \"12:>= 30 minutes\" \"21:< 4 hours\" \"22:>= 4 hours\"\n",
      "  ..$ kk02o : Named int 9\n",
      "  .. ..- attr(*, \"names\")= chr \"9:Missing\"\n"
     ]
    },
    {
     "data": {
      "text/plain": [
       "   hhid14_9             pid14           kktype                kk02m      \n",
       " Length:94389       Min.   : 1.000   Length:94389       1:Yes    :46452  \n",
       " Class :character   1st Qu.: 1.000   Class :character   3:Never  :47937  \n",
       " Mode  :character   Median : 2.000   Mode  :character   9:Missing:    0  \n",
       "                    Mean   : 3.021                                       \n",
       "                    3rd Qu.: 4.000                                       \n",
       "                    Max.   :27.000                                       \n",
       "                                                                         \n",
       "          kk02n1                   kk02n2          kk02o      \n",
       " 1:< 2 hours :32383   11:< 30 minutes :13228   Min.   :1.00   \n",
       " 2:>= 2 hours:14069   12:>= 30 minutes:19155   1st Qu.:2.00   \n",
       " NA's        :47937   21:< 4 hours    : 8026   Median :5.00   \n",
       "                      22:>= 4 hours   : 6043   Mean   :4.63   \n",
       "                      NA's            :47937   3rd Qu.:7.00   \n",
       "                                               Max.   :7.00   \n",
       "                                               NA's   :47937  \n",
       "    hhid14            pidlink             version       module         \n",
       " Length:94389       Length:94389       Min.   :1.3   Length:94389      \n",
       " Class :character   Class :character   1st Qu.:1.3   Class :character  \n",
       " Mode  :character   Mode  :character   Median :1.3   Mode  :character  \n",
       "                                       Mean   :1.3                     \n",
       "                                       3rd Qu.:1.3                     \n",
       "                                       Max.   :1.3                     \n",
       "                                                                       "
      ]
     },
     "metadata": {},
     "output_type": "display_data"
    },
    {
     "data": {
      "text/html": [
       "<table>\n",
       "<thead><tr><th scope=col>pidlink</th><th scope=col>active</th><th scope=col>hours</th><th scope=col>minutes</th><th scope=col>days</th><th scope=col>activity_categorized</th><th scope=col>activity_type</th></tr></thead>\n",
       "<tbody>\n",
       "\t<tr><td>001060001       </td><td>3:Never         </td><td>NA              </td><td>NA              </td><td>NA              </td><td>Low             </td><td>Vigorous        </td></tr>\n",
       "\t<tr><td>001060001       </td><td>3:Never         </td><td>NA              </td><td>NA              </td><td>NA              </td><td>Low             </td><td>Moderate        </td></tr>\n",
       "\t<tr><td>001060001                                      </td><td><span style=white-space:pre-wrap>1:Yes  </span></td><td>1:&lt; 2 hours                                 </td><td>12:&gt;= 30 minutes                            </td><td> 2                                             </td><td>NA                                             </td><td>Walking                                        </td></tr>\n",
       "\t<tr><td>001060004       </td><td>3:Never         </td><td>NA              </td><td>NA              </td><td>NA              </td><td>Low             </td><td>Vigorous        </td></tr>\n",
       "\t<tr><td>001060004       </td><td>3:Never         </td><td>NA              </td><td>NA              </td><td>NA              </td><td>Low             </td><td>Moderate        </td></tr>\n",
       "\t<tr><td>001060004                                                  </td><td><span style=white-space:pre-wrap>1:Yes  </span>            </td><td>2:&gt;= 2 hours                                            </td><td><span style=white-space:pre-wrap>22:&gt;= 4 hours   </span></td><td> 2                                                         </td><td>NA                                                         </td><td>Walking                                                    </td></tr>\n",
       "</tbody>\n",
       "</table>\n"
      ],
      "text/latex": [
       "\\begin{tabular}{r|lllllll}\n",
       " pidlink & active & hours & minutes & days & activity\\_categorized & activity\\_type\\\\\n",
       "\\hline\n",
       "\t 001060001        & 3:Never          & NA               & NA               & NA               & Low              & Vigorous        \\\\\n",
       "\t 001060001        & 3:Never          & NA               & NA               & NA               & Low              & Moderate        \\\\\n",
       "\t 001060001        & 1:Yes            & 1:< 2 hours      & 12:>= 30 minutes &  2               & NA               & Walking         \\\\\n",
       "\t 001060004        & 3:Never          & NA               & NA               & NA               & Low              & Vigorous        \\\\\n",
       "\t 001060004        & 3:Never          & NA               & NA               & NA               & Low              & Moderate        \\\\\n",
       "\t 001060004        & 1:Yes            & 2:>= 2 hours     & 22:>= 4 hours    &  2               & NA               & Walking         \\\\\n",
       "\\end{tabular}\n"
      ],
      "text/markdown": [
       "\n",
       "pidlink | active | hours | minutes | days | activity_categorized | activity_type | \n",
       "|---|---|---|---|---|---|\n",
       "| 001060001        | 3:Never          | NA               | NA               | NA               | Low              | Vigorous         | \n",
       "| 001060001        | 3:Never          | NA               | NA               | NA               | Low              | Moderate         | \n",
       "| 001060001        | 1:Yes            | 1:< 2 hours      | 12:>= 30 minutes |  2               | NA               | Walking          | \n",
       "| 001060004        | 3:Never          | NA               | NA               | NA               | Low              | Vigorous         | \n",
       "| 001060004        | 3:Never          | NA               | NA               | NA               | Low              | Moderate         | \n",
       "| 001060004        | 1:Yes            | 2:>= 2 hours     | 22:>= 4 hours    |  2               | NA               | Walking          | \n",
       "\n",
       "\n"
      ],
      "text/plain": [
       "  pidlink   active  hours        minutes          days activity_categorized\n",
       "1 001060001 3:Never NA           NA               NA   Low                 \n",
       "2 001060001 3:Never NA           NA               NA   Low                 \n",
       "3 001060001 1:Yes   1:< 2 hours  12:>= 30 minutes  2   NA                  \n",
       "4 001060004 3:Never NA           NA               NA   Low                 \n",
       "5 001060004 3:Never NA           NA               NA   Low                 \n",
       "6 001060004 1:Yes   2:>= 2 hours 22:>= 4 hours     2   NA                  \n",
       "  activity_type\n",
       "1 Vigorous     \n",
       "2 Moderate     \n",
       "3 Walking      \n",
       "4 Vigorous     \n",
       "5 Moderate     \n",
       "6 Walking      "
      ]
     },
     "metadata": {},
     "output_type": "display_data"
    }
   ],
   "source": [
    "#Physical Activity\n",
    "\n",
    "b3b_kk2 <- read.dta(\"b3b_kk2.dta\") \n",
    "head(b3b_kk2)\n",
    "str(b3b_kk2)\n",
    "summary(b3b_kk2)\n",
    "\n",
    "activity <- b3b_kk2 %>%\n",
    "    select(pidlink, kktype, kk02m, kk02n1, kk02n2, kk02o) \n",
    "\n",
    "# Activity first phase --> create \"imperfect\" pysical activity category by select pidlink who classified into certain classes\n",
    "# \"Imperfect\" here means the categorization process did not involve MET calculation\n",
    "#There are so many NA's in the result because it is \"imperfect\". Need to calculate MET estimation \n",
    "\n",
    "activity_completed <- activity %>%\n",
    "    mutate(activity_categorized = case_when(kk02m == \"1:Yes\" & kktype == 'A' & kk02o >= 3 & kk02n1 == \"2:>= 2 hours\" ~ \"High\",\n",
    "                                            kk02m == \"1:Yes\" & kktype == 'A' & kk02o >= 3 & kk02n1 == \"1:< 2 hours\" & kk02n2 == \"12:>= 30 minutes\" ~ \"Moderate\",\n",
    "                                            kk02m == \"1:Yes\" & kktype == 'A' & kk02o >= 3 & kk02n1 == \"2:>= 2 hours\" ~ \"Moderate\",\n",
    "                                            kk02m == \"1:Yes\" & kktype != 'A' & kk02o >= 5 & kk02n1 == \"1:< 2 hours\" & kk02n2 == \"12:>= 30 minutes\" ~ \"Moderate\",\n",
    "                                            kk02m == \"1:Yes\" & kktype != 'A' & kk02o >= 5 & kk02n1 == \"2:>= 2 hours\" ~ \"Moderate\",\n",
    "                                            kk02m == \"3:Never\" ~ \"Low\"),\n",
    "                                  activity_categorized = factor(activity_categorized, levels=c(\"High\", \"Moderate\", \"Low\"))) %>%\n",
    "    rename(\"type\" = kktype, \"active\" = kk02m, \"hours\" = kk02n1, \"minutes\" = kk02n2, \"days\" = kk02o) %>%\n",
    "    mutate(activity_type = revalue(type, c(\"A\" = \"Vigorous\", \n",
    "                                           \"B\" = \"Moderate\", \n",
    "                                           \"C\" = \"Walking\"))) %>%\n",
    "    select(-type)\n",
    "\n",
    "head(activity_completed) \n"
   ]
  },
  {
   "cell_type": "code",
   "execution_count": 15,
   "metadata": {
    "scrolled": true
   },
   "outputs": [
    {
     "name": "stderr",
     "output_type": "stream",
     "text": [
      "Warning message:\n",
      "“attributes are not identical across measure variables;\n",
      "they will be dropped”"
     ]
    },
    {
     "data": {
      "text/html": [
       "<table>\n",
       "<thead><tr><th scope=col>pidlink</th><th scope=col>Moderate_active</th><th scope=col>Moderate_days</th><th scope=col>Moderate_hours</th><th scope=col>Moderate_minutes</th><th scope=col>Moderate_minutes_number</th><th scope=col>Vigorous_active</th><th scope=col>Vigorous_days</th><th scope=col>Vigorous_hours</th><th scope=col>Vigorous_minutes</th><th scope=col>Vigorous_minutes_number</th><th scope=col>Walking_active</th><th scope=col>Walking_days</th><th scope=col>Walking_hours</th><th scope=col>Walking_minutes</th><th scope=col>Walking_minutes_number</th></tr></thead>\n",
       "<tbody>\n",
       "\t<tr><td>001060001                                            </td><td>3:Never                                              </td><td>0                                                    </td><td><span style=white-space:pre-wrap>0           </span> </td><td><span style=white-space:pre-wrap>0           </span> </td><td><span style=white-space:pre-wrap>  0</span>          </td><td>3:Never                                              </td><td>0                                                    </td><td><span style=white-space:pre-wrap>0           </span> </td><td><span style=white-space:pre-wrap>0            </span></td><td><span style=white-space:pre-wrap>  0</span>          </td><td><span style=white-space:pre-wrap>1:Yes  </span>      </td><td>2                                                    </td><td>1:&lt; 2 hours                                       </td><td>12:&gt;= 30 minutes                                  </td><td> 30                                                  </td></tr>\n",
       "\t<tr><td>001060004                                                  </td><td>3:Never                                                    </td><td>0                                                          </td><td><span style=white-space:pre-wrap>0           </span>       </td><td><span style=white-space:pre-wrap>0           </span>       </td><td><span style=white-space:pre-wrap>  0</span>                </td><td>3:Never                                                    </td><td>0                                                          </td><td><span style=white-space:pre-wrap>0           </span>       </td><td><span style=white-space:pre-wrap>0            </span>      </td><td><span style=white-space:pre-wrap>  0</span>                </td><td><span style=white-space:pre-wrap>1:Yes  </span>            </td><td>2                                                          </td><td>2:&gt;= 2 hours                                            </td><td><span style=white-space:pre-wrap>22:&gt;= 4 hours   </span></td><td>240                                                        </td></tr>\n",
       "\t<tr><td>001060007                                                  </td><td>3:Never                                                    </td><td>0                                                          </td><td><span style=white-space:pre-wrap>0           </span>       </td><td><span style=white-space:pre-wrap>0           </span>       </td><td><span style=white-space:pre-wrap>  0</span>                </td><td>3:Never                                                    </td><td>0                                                          </td><td><span style=white-space:pre-wrap>0           </span>       </td><td><span style=white-space:pre-wrap>0            </span>      </td><td><span style=white-space:pre-wrap>  0</span>                </td><td><span style=white-space:pre-wrap>1:Yes  </span>            </td><td>3                                                          </td><td>2:&gt;= 2 hours                                            </td><td><span style=white-space:pre-wrap>22:&gt;= 4 hours   </span></td><td>240                                                        </td></tr>\n",
       "\t<tr><td>001060008                                                  </td><td>3:Never                                                    </td><td>0                                                          </td><td><span style=white-space:pre-wrap>0           </span>       </td><td><span style=white-space:pre-wrap>0           </span>       </td><td><span style=white-space:pre-wrap>  0</span>                </td><td>3:Never                                                    </td><td>0                                                          </td><td><span style=white-space:pre-wrap>0           </span>       </td><td><span style=white-space:pre-wrap>0            </span>      </td><td><span style=white-space:pre-wrap>  0</span>                </td><td><span style=white-space:pre-wrap>1:Yes  </span>            </td><td>7                                                          </td><td>2:&gt;= 2 hours                                            </td><td><span style=white-space:pre-wrap>22:&gt;= 4 hours   </span></td><td>240                                                        </td></tr>\n",
       "\t<tr><td>001065102                                           </td><td>3:Never                                             </td><td>0                                                   </td><td><span style=white-space:pre-wrap>0           </span></td><td><span style=white-space:pre-wrap>0           </span></td><td><span style=white-space:pre-wrap>  0</span>         </td><td><span style=white-space:pre-wrap>1:Yes  </span>     </td><td>1                                                   </td><td>2:&gt;= 2 hours                                     </td><td>22:&gt;= 4 hours                                    </td><td>240                                                 </td><td><span style=white-space:pre-wrap>1:Yes  </span>     </td><td>7                                                   </td><td>1:&lt; 2 hours                                      </td><td>12:&gt;= 30 minutes                                 </td><td> 30                                                 </td></tr>\n",
       "\t<tr><td>001080003                                               </td><td><span style=white-space:pre-wrap>1:Yes  </span>         </td><td>3                                                       </td><td>2:&gt;= 2 hours                                         </td><td>21:&lt; 4 hours                                         </td><td>120                                                     </td><td><span style=white-space:pre-wrap>1:Yes  </span>         </td><td>2                                                       </td><td>2:&gt;= 2 hours                                         </td><td>21:&lt; 4 hours                                         </td><td>120                                                     </td><td>3:Never                                                 </td><td>0                                                       </td><td><span style=white-space:pre-wrap>0           </span>    </td><td><span style=white-space:pre-wrap>0               </span></td><td><span style=white-space:pre-wrap>  0</span>             </td></tr>\n",
       "</tbody>\n",
       "</table>\n"
      ],
      "text/latex": [
       "\\begin{tabular}{r|llllllllllllllll}\n",
       " pidlink & Moderate\\_active & Moderate\\_days & Moderate\\_hours & Moderate\\_minutes & Moderate\\_minutes\\_number & Vigorous\\_active & Vigorous\\_days & Vigorous\\_hours & Vigorous\\_minutes & Vigorous\\_minutes\\_number & Walking\\_active & Walking\\_days & Walking\\_hours & Walking\\_minutes & Walking\\_minutes\\_number\\\\\n",
       "\\hline\n",
       "\t 001060001        & 3:Never          & 0                & 0                & 0                &   0              & 3:Never          & 0                & 0                & 0                &   0              & 1:Yes            & 2                & 1:< 2 hours      & 12:>= 30 minutes &  30             \\\\\n",
       "\t 001060004        & 3:Never          & 0                & 0                & 0                &   0              & 3:Never          & 0                & 0                & 0                &   0              & 1:Yes            & 2                & 2:>= 2 hours     & 22:>= 4 hours    & 240             \\\\\n",
       "\t 001060007        & 3:Never          & 0                & 0                & 0                &   0              & 3:Never          & 0                & 0                & 0                &   0              & 1:Yes            & 3                & 2:>= 2 hours     & 22:>= 4 hours    & 240             \\\\\n",
       "\t 001060008        & 3:Never          & 0                & 0                & 0                &   0              & 3:Never          & 0                & 0                & 0                &   0              & 1:Yes            & 7                & 2:>= 2 hours     & 22:>= 4 hours    & 240             \\\\\n",
       "\t 001065102        & 3:Never          & 0                & 0                & 0                &   0              & 1:Yes            & 1                & 2:>= 2 hours     & 22:>= 4 hours    & 240              & 1:Yes            & 7                & 1:< 2 hours      & 12:>= 30 minutes &  30             \\\\\n",
       "\t 001080003        & 1:Yes            & 3                & 2:>= 2 hours     & 21:< 4 hours     & 120              & 1:Yes            & 2                & 2:>= 2 hours     & 21:< 4 hours     & 120              & 3:Never          & 0                & 0                & 0                &   0             \\\\\n",
       "\\end{tabular}\n"
      ],
      "text/markdown": [
       "\n",
       "pidlink | Moderate_active | Moderate_days | Moderate_hours | Moderate_minutes | Moderate_minutes_number | Vigorous_active | Vigorous_days | Vigorous_hours | Vigorous_minutes | Vigorous_minutes_number | Walking_active | Walking_days | Walking_hours | Walking_minutes | Walking_minutes_number | \n",
       "|---|---|---|---|---|---|\n",
       "| 001060001        | 3:Never          | 0                | 0                | 0                |   0              | 3:Never          | 0                | 0                | 0                |   0              | 1:Yes            | 2                | 1:< 2 hours      | 12:>= 30 minutes |  30              | \n",
       "| 001060004        | 3:Never          | 0                | 0                | 0                |   0              | 3:Never          | 0                | 0                | 0                |   0              | 1:Yes            | 2                | 2:>= 2 hours     | 22:>= 4 hours    | 240              | \n",
       "| 001060007        | 3:Never          | 0                | 0                | 0                |   0              | 3:Never          | 0                | 0                | 0                |   0              | 1:Yes            | 3                | 2:>= 2 hours     | 22:>= 4 hours    | 240              | \n",
       "| 001060008        | 3:Never          | 0                | 0                | 0                |   0              | 3:Never          | 0                | 0                | 0                |   0              | 1:Yes            | 7                | 2:>= 2 hours     | 22:>= 4 hours    | 240              | \n",
       "| 001065102        | 3:Never          | 0                | 0                | 0                |   0              | 1:Yes            | 1                | 2:>= 2 hours     | 22:>= 4 hours    | 240              | 1:Yes            | 7                | 1:< 2 hours      | 12:>= 30 minutes |  30              | \n",
       "| 001080003        | 1:Yes            | 3                | 2:>= 2 hours     | 21:< 4 hours     | 120              | 1:Yes            | 2                | 2:>= 2 hours     | 21:< 4 hours     | 120              | 3:Never          | 0                | 0                | 0                |   0              | \n",
       "\n",
       "\n"
      ],
      "text/plain": [
       "  pidlink   Moderate_active Moderate_days Moderate_hours Moderate_minutes\n",
       "1 001060001 3:Never         0             0              0               \n",
       "2 001060004 3:Never         0             0              0               \n",
       "3 001060007 3:Never         0             0              0               \n",
       "4 001060008 3:Never         0             0              0               \n",
       "5 001065102 3:Never         0             0              0               \n",
       "6 001080003 1:Yes           3             2:>= 2 hours   21:< 4 hours    \n",
       "  Moderate_minutes_number Vigorous_active Vigorous_days Vigorous_hours\n",
       "1   0                     3:Never         0             0             \n",
       "2   0                     3:Never         0             0             \n",
       "3   0                     3:Never         0             0             \n",
       "4   0                     3:Never         0             0             \n",
       "5   0                     1:Yes           1             2:>= 2 hours  \n",
       "6 120                     1:Yes           2             2:>= 2 hours  \n",
       "  Vigorous_minutes Vigorous_minutes_number Walking_active Walking_days\n",
       "1 0                  0                     1:Yes          2           \n",
       "2 0                  0                     1:Yes          2           \n",
       "3 0                  0                     1:Yes          3           \n",
       "4 0                  0                     1:Yes          7           \n",
       "5 22:>= 4 hours    240                     1:Yes          7           \n",
       "6 21:< 4 hours     120                     3:Never        0           \n",
       "  Walking_hours Walking_minutes  Walking_minutes_number\n",
       "1 1:< 2 hours   12:>= 30 minutes  30                   \n",
       "2 2:>= 2 hours  22:>= 4 hours    240                   \n",
       "3 2:>= 2 hours  22:>= 4 hours    240                   \n",
       "4 2:>= 2 hours  22:>= 4 hours    240                   \n",
       "5 1:< 2 hours   12:>= 30 minutes  30                   \n",
       "6 0             0                  0                   "
      ]
     },
     "metadata": {},
     "output_type": "display_data"
    },
    {
     "data": {
      "text/plain": [
       "   pidlink          Moderate_active    Moderate_days   Moderate_hours    \n",
       " Length:31463       Length:31463       Min.   :0.000   Length:31463      \n",
       " Class :character   Class :character   1st Qu.:0.000   Class :character  \n",
       " Mode  :character   Mode  :character   Median :1.000   Mode  :character  \n",
       "                                       Mean   :2.498                     \n",
       "                                       3rd Qu.:6.000                     \n",
       "                                       Max.   :7.000                     \n",
       " Moderate_minutes   Moderate_minutes_number Vigorous_active    Vigorous_days  \n",
       " Length:31463       Min.   :  0.00          Length:31463       Min.   :0.000  \n",
       " Class :character   1st Qu.:  0.00          Class :character   1st Qu.:0.000  \n",
       " Mode  :character   Median : 10.00          Mode  :character   Median :0.000  \n",
       "                    Mean   : 36.02                             Mean   :0.843  \n",
       "                    3rd Qu.: 30.00                             3rd Qu.:0.000  \n",
       "                    Max.   :240.00                             Max.   :7.000  \n",
       " Vigorous_hours     Vigorous_minutes   Vigorous_minutes_number\n",
       " Length:31463       Length:31463       Min.   :  0.00         \n",
       " Class :character   Class :character   1st Qu.:  0.00         \n",
       " Mode  :character   Mode  :character   Median :  0.00         \n",
       "                                       Mean   : 22.44         \n",
       "                                       3rd Qu.:  0.00         \n",
       "                                       Max.   :240.00         \n",
       " Walking_active      Walking_days   Walking_hours      Walking_minutes   \n",
       " Length:31463       Min.   :0.000   Length:31463       Length:31463      \n",
       " Class :character   1st Qu.:0.000   Class :character   Class :character  \n",
       " Mode  :character   Median :3.000   Mode  :character   Mode  :character  \n",
       "                    Mean   :3.495                                        \n",
       "                    3rd Qu.:7.000                                        \n",
       "                    Max.   :7.000                                        \n",
       " Walking_minutes_number\n",
       " Min.   :  0.00        \n",
       " 1st Qu.:  0.00        \n",
       " Median : 10.00        \n",
       " Mean   : 40.72        \n",
       " 3rd Qu.: 30.00        \n",
       " Max.   :240.00        "
      ]
     },
     "metadata": {},
     "output_type": "display_data"
    },
    {
     "data": {
      "text/html": [
       "<table>\n",
       "<thead><tr><th scope=col>pidlink</th><th scope=col>Moderate_active</th><th scope=col>Moderate_days</th><th scope=col>Moderate_hours</th><th scope=col>Moderate_minutes</th><th scope=col>Moderate_minutes_number</th><th scope=col>Vigorous_active</th><th scope=col>Vigorous_days</th><th scope=col>Vigorous_hours</th><th scope=col>Vigorous_minutes</th><th scope=col>⋯</th><th scope=col>Walking_active</th><th scope=col>Walking_days</th><th scope=col>Walking_hours</th><th scope=col>Walking_minutes</th><th scope=col>Walking_minutes_number</th><th scope=col>total_days</th><th scope=col>walking_MET</th><th scope=col>moderate_MET</th><th scope=col>vigorous_MET</th><th scope=col>total_MET</th></tr></thead>\n",
       "<tbody>\n",
       "\t<tr><td>001060001                                            </td><td>3:Never                                              </td><td>0                                                    </td><td><span style=white-space:pre-wrap>0           </span> </td><td><span style=white-space:pre-wrap>0           </span> </td><td><span style=white-space:pre-wrap>  0</span>          </td><td>3:Never                                              </td><td>0                                                    </td><td><span style=white-space:pre-wrap>0           </span> </td><td><span style=white-space:pre-wrap>0            </span></td><td>⋯                                                    </td><td><span style=white-space:pre-wrap>1:Yes  </span>      </td><td>2                                                    </td><td>1:&lt; 2 hours                                       </td><td>12:&gt;= 30 minutes                                  </td><td> 30                                                  </td><td>2                                                    </td><td> 198                                                 </td><td><span style=white-space:pre-wrap>   0</span>         </td><td><span style=white-space:pre-wrap>   0</span>         </td><td> 198                                                 </td></tr>\n",
       "\t<tr><td>001060004                                                  </td><td>3:Never                                                    </td><td>0                                                          </td><td><span style=white-space:pre-wrap>0           </span>       </td><td><span style=white-space:pre-wrap>0           </span>       </td><td><span style=white-space:pre-wrap>  0</span>                </td><td>3:Never                                                    </td><td>0                                                          </td><td><span style=white-space:pre-wrap>0           </span>       </td><td><span style=white-space:pre-wrap>0            </span>      </td><td>⋯                                                          </td><td><span style=white-space:pre-wrap>1:Yes  </span>            </td><td>2                                                          </td><td>2:&gt;= 2 hours                                            </td><td><span style=white-space:pre-wrap>22:&gt;= 4 hours   </span></td><td>240                                                        </td><td>2                                                          </td><td>1584                                                       </td><td><span style=white-space:pre-wrap>   0</span>               </td><td><span style=white-space:pre-wrap>   0</span>               </td><td>1584                                                       </td></tr>\n",
       "\t<tr><td>001060007                                                  </td><td>3:Never                                                    </td><td>0                                                          </td><td><span style=white-space:pre-wrap>0           </span>       </td><td><span style=white-space:pre-wrap>0           </span>       </td><td><span style=white-space:pre-wrap>  0</span>                </td><td>3:Never                                                    </td><td>0                                                          </td><td><span style=white-space:pre-wrap>0           </span>       </td><td><span style=white-space:pre-wrap>0            </span>      </td><td>⋯                                                          </td><td><span style=white-space:pre-wrap>1:Yes  </span>            </td><td>3                                                          </td><td>2:&gt;= 2 hours                                            </td><td><span style=white-space:pre-wrap>22:&gt;= 4 hours   </span></td><td>240                                                        </td><td>3                                                          </td><td>2376                                                       </td><td><span style=white-space:pre-wrap>   0</span>               </td><td><span style=white-space:pre-wrap>   0</span>               </td><td>2376                                                       </td></tr>\n",
       "\t<tr><td>001060008                                                  </td><td>3:Never                                                    </td><td>0                                                          </td><td><span style=white-space:pre-wrap>0           </span>       </td><td><span style=white-space:pre-wrap>0           </span>       </td><td><span style=white-space:pre-wrap>  0</span>                </td><td>3:Never                                                    </td><td>0                                                          </td><td><span style=white-space:pre-wrap>0           </span>       </td><td><span style=white-space:pre-wrap>0            </span>      </td><td>⋯                                                          </td><td><span style=white-space:pre-wrap>1:Yes  </span>            </td><td>7                                                          </td><td>2:&gt;= 2 hours                                            </td><td><span style=white-space:pre-wrap>22:&gt;= 4 hours   </span></td><td>240                                                        </td><td>7                                                          </td><td>5544                                                       </td><td><span style=white-space:pre-wrap>   0</span>               </td><td><span style=white-space:pre-wrap>   0</span>               </td><td>5544                                                       </td></tr>\n",
       "\t<tr><td>001065102                                           </td><td>3:Never                                             </td><td>0                                                   </td><td><span style=white-space:pre-wrap>0           </span></td><td><span style=white-space:pre-wrap>0           </span></td><td><span style=white-space:pre-wrap>  0</span>         </td><td><span style=white-space:pre-wrap>1:Yes  </span>     </td><td>1                                                   </td><td>2:&gt;= 2 hours                                     </td><td>22:&gt;= 4 hours                                    </td><td>⋯                                                   </td><td><span style=white-space:pre-wrap>1:Yes  </span>     </td><td>7                                                   </td><td>1:&lt; 2 hours                                      </td><td>12:&gt;= 30 minutes                                 </td><td> 30                                                 </td><td>8                                                   </td><td> 693                                                </td><td><span style=white-space:pre-wrap>   0</span>        </td><td>1920                                                </td><td>2613                                                </td></tr>\n",
       "\t<tr><td>001080003                                               </td><td><span style=white-space:pre-wrap>1:Yes  </span>         </td><td>3                                                       </td><td>2:&gt;= 2 hours                                         </td><td>21:&lt; 4 hours                                         </td><td>120                                                     </td><td><span style=white-space:pre-wrap>1:Yes  </span>         </td><td>2                                                       </td><td>2:&gt;= 2 hours                                         </td><td>21:&lt; 4 hours                                         </td><td>⋯                                                       </td><td>3:Never                                                 </td><td>0                                                       </td><td><span style=white-space:pre-wrap>0           </span>    </td><td><span style=white-space:pre-wrap>0               </span></td><td><span style=white-space:pre-wrap>  0</span>             </td><td>5                                                       </td><td><span style=white-space:pre-wrap>   0</span>            </td><td>1440                                                    </td><td>1920                                                    </td><td>3360                                                    </td></tr>\n",
       "</tbody>\n",
       "</table>\n"
      ],
      "text/latex": [
       "\\begin{tabular}{r|lllllllllllllllllllll}\n",
       " pidlink & Moderate\\_active & Moderate\\_days & Moderate\\_hours & Moderate\\_minutes & Moderate\\_minutes\\_number & Vigorous\\_active & Vigorous\\_days & Vigorous\\_hours & Vigorous\\_minutes & ⋯ & Walking\\_active & Walking\\_days & Walking\\_hours & Walking\\_minutes & Walking\\_minutes\\_number & total\\_days & walking\\_MET & moderate\\_MET & vigorous\\_MET & total\\_MET\\\\\n",
       "\\hline\n",
       "\t 001060001        & 3:Never          & 0                & 0                & 0                &   0              & 3:Never          & 0                & 0                & 0                & ⋯                & 1:Yes            & 2                & 1:< 2 hours      & 12:>= 30 minutes &  30              & 2                &  198             &    0             &    0             &  198            \\\\\n",
       "\t 001060004        & 3:Never          & 0                & 0                & 0                &   0              & 3:Never          & 0                & 0                & 0                & ⋯                & 1:Yes            & 2                & 2:>= 2 hours     & 22:>= 4 hours    & 240              & 2                & 1584             &    0             &    0             & 1584            \\\\\n",
       "\t 001060007        & 3:Never          & 0                & 0                & 0                &   0              & 3:Never          & 0                & 0                & 0                & ⋯                & 1:Yes            & 3                & 2:>= 2 hours     & 22:>= 4 hours    & 240              & 3                & 2376             &    0             &    0             & 2376            \\\\\n",
       "\t 001060008        & 3:Never          & 0                & 0                & 0                &   0              & 3:Never          & 0                & 0                & 0                & ⋯                & 1:Yes            & 7                & 2:>= 2 hours     & 22:>= 4 hours    & 240              & 7                & 5544             &    0             &    0             & 5544            \\\\\n",
       "\t 001065102        & 3:Never          & 0                & 0                & 0                &   0              & 1:Yes            & 1                & 2:>= 2 hours     & 22:>= 4 hours    & ⋯                & 1:Yes            & 7                & 1:< 2 hours      & 12:>= 30 minutes &  30              & 8                &  693             &    0             & 1920             & 2613            \\\\\n",
       "\t 001080003        & 1:Yes            & 3                & 2:>= 2 hours     & 21:< 4 hours     & 120              & 1:Yes            & 2                & 2:>= 2 hours     & 21:< 4 hours     & ⋯                & 3:Never          & 0                & 0                & 0                &   0              & 5                &    0             & 1440             & 1920             & 3360            \\\\\n",
       "\\end{tabular}\n"
      ],
      "text/markdown": [
       "\n",
       "pidlink | Moderate_active | Moderate_days | Moderate_hours | Moderate_minutes | Moderate_minutes_number | Vigorous_active | Vigorous_days | Vigorous_hours | Vigorous_minutes | ⋯ | Walking_active | Walking_days | Walking_hours | Walking_minutes | Walking_minutes_number | total_days | walking_MET | moderate_MET | vigorous_MET | total_MET | \n",
       "|---|---|---|---|---|---|\n",
       "| 001060001        | 3:Never          | 0                | 0                | 0                |   0              | 3:Never          | 0                | 0                | 0                | ⋯                | 1:Yes            | 2                | 1:< 2 hours      | 12:>= 30 minutes |  30              | 2                |  198             |    0             |    0             |  198             | \n",
       "| 001060004        | 3:Never          | 0                | 0                | 0                |   0              | 3:Never          | 0                | 0                | 0                | ⋯                | 1:Yes            | 2                | 2:>= 2 hours     | 22:>= 4 hours    | 240              | 2                | 1584             |    0             |    0             | 1584             | \n",
       "| 001060007        | 3:Never          | 0                | 0                | 0                |   0              | 3:Never          | 0                | 0                | 0                | ⋯                | 1:Yes            | 3                | 2:>= 2 hours     | 22:>= 4 hours    | 240              | 3                | 2376             |    0             |    0             | 2376             | \n",
       "| 001060008        | 3:Never          | 0                | 0                | 0                |   0              | 3:Never          | 0                | 0                | 0                | ⋯                | 1:Yes            | 7                | 2:>= 2 hours     | 22:>= 4 hours    | 240              | 7                | 5544             |    0             |    0             | 5544             | \n",
       "| 001065102        | 3:Never          | 0                | 0                | 0                |   0              | 1:Yes            | 1                | 2:>= 2 hours     | 22:>= 4 hours    | ⋯                | 1:Yes            | 7                | 1:< 2 hours      | 12:>= 30 minutes |  30              | 8                |  693             |    0             | 1920             | 2613             | \n",
       "| 001080003        | 1:Yes            | 3                | 2:>= 2 hours     | 21:< 4 hours     | 120              | 1:Yes            | 2                | 2:>= 2 hours     | 21:< 4 hours     | ⋯                | 3:Never          | 0                | 0                | 0                |   0              | 5                |    0             | 1440             | 1920             | 3360             | \n",
       "\n",
       "\n"
      ],
      "text/plain": [
       "  pidlink   Moderate_active Moderate_days Moderate_hours Moderate_minutes\n",
       "1 001060001 3:Never         0             0              0               \n",
       "2 001060004 3:Never         0             0              0               \n",
       "3 001060007 3:Never         0             0              0               \n",
       "4 001060008 3:Never         0             0              0               \n",
       "5 001065102 3:Never         0             0              0               \n",
       "6 001080003 1:Yes           3             2:>= 2 hours   21:< 4 hours    \n",
       "  Moderate_minutes_number Vigorous_active Vigorous_days Vigorous_hours\n",
       "1   0                     3:Never         0             0             \n",
       "2   0                     3:Never         0             0             \n",
       "3   0                     3:Never         0             0             \n",
       "4   0                     3:Never         0             0             \n",
       "5   0                     1:Yes           1             2:>= 2 hours  \n",
       "6 120                     1:Yes           2             2:>= 2 hours  \n",
       "  Vigorous_minutes ⋯ Walking_active Walking_days Walking_hours Walking_minutes \n",
       "1 0                ⋯ 1:Yes          2            1:< 2 hours   12:>= 30 minutes\n",
       "2 0                ⋯ 1:Yes          2            2:>= 2 hours  22:>= 4 hours   \n",
       "3 0                ⋯ 1:Yes          3            2:>= 2 hours  22:>= 4 hours   \n",
       "4 0                ⋯ 1:Yes          7            2:>= 2 hours  22:>= 4 hours   \n",
       "5 22:>= 4 hours    ⋯ 1:Yes          7            1:< 2 hours   12:>= 30 minutes\n",
       "6 21:< 4 hours     ⋯ 3:Never        0            0             0               \n",
       "  Walking_minutes_number total_days walking_MET moderate_MET vigorous_MET\n",
       "1  30                    2           198           0            0        \n",
       "2 240                    2          1584           0            0        \n",
       "3 240                    3          2376           0            0        \n",
       "4 240                    7          5544           0            0        \n",
       "5  30                    8           693           0         1920        \n",
       "6   0                    5             0        1440         1920        \n",
       "  total_MET\n",
       "1  198     \n",
       "2 1584     \n",
       "3 2376     \n",
       "4 5544     \n",
       "5 2613     \n",
       "6 3360     "
      ]
     },
     "metadata": {},
     "output_type": "display_data"
    },
    {
     "data": {
      "text/plain": [
       "   pidlink          Moderate_active    Moderate_days   Moderate_hours    \n",
       " Length:31463       Length:31463       Min.   :0.000   Length:31463      \n",
       " Class :character   Class :character   1st Qu.:0.000   Class :character  \n",
       " Mode  :character   Mode  :character   Median :1.000   Mode  :character  \n",
       "                                       Mean   :2.498                     \n",
       "                                       3rd Qu.:6.000                     \n",
       "                                       Max.   :7.000                     \n",
       " Moderate_minutes   Moderate_minutes_number Vigorous_active    Vigorous_days  \n",
       " Length:31463       Min.   :  0.00          Length:31463       Min.   :0.000  \n",
       " Class :character   1st Qu.:  0.00          Class :character   1st Qu.:0.000  \n",
       " Mode  :character   Median : 10.00          Mode  :character   Median :0.000  \n",
       "                    Mean   : 36.02                             Mean   :0.843  \n",
       "                    3rd Qu.: 30.00                             3rd Qu.:0.000  \n",
       "                    Max.   :240.00                             Max.   :7.000  \n",
       " Vigorous_hours     Vigorous_minutes   Vigorous_minutes_number\n",
       " Length:31463       Length:31463       Min.   :  0.00         \n",
       " Class :character   Class :character   1st Qu.:  0.00         \n",
       " Mode  :character   Mode  :character   Median :  0.00         \n",
       "                                       Mean   : 22.44         \n",
       "                                       3rd Qu.:  0.00         \n",
       "                                       Max.   :240.00         \n",
       " Walking_active      Walking_days   Walking_hours      Walking_minutes   \n",
       " Length:31463       Min.   :0.000   Length:31463       Length:31463      \n",
       " Class :character   1st Qu.:0.000   Class :character   Class :character  \n",
       " Mode  :character   Median :3.000   Mode  :character   Mode  :character  \n",
       "                    Mean   :3.495                                        \n",
       "                    3rd Qu.:7.000                                        \n",
       "                    Max.   :7.000                                        \n",
       " Walking_minutes_number   total_days      walking_MET      moderate_MET   \n",
       " Min.   :  0.00         Min.   : 0.000   Min.   :   0.0   Min.   :   0.0  \n",
       " 1st Qu.:  0.00         1st Qu.: 2.000   1st Qu.:   0.0   1st Qu.:   0.0  \n",
       " Median : 10.00         Median : 7.000   Median : 231.0   Median : 120.0  \n",
       " Mean   : 40.72         Mean   : 6.836   Mean   : 709.4   Mean   : 698.2  \n",
       " 3rd Qu.: 30.00         3rd Qu.:10.000   3rd Qu.: 693.0   3rd Qu.: 720.0  \n",
       " Max.   :240.00         Max.   :21.000   Max.   :5544.0   Max.   :6720.0  \n",
       "  vigorous_MET       total_MET    \n",
       " Min.   :    0.0   Min.   :    0  \n",
       " 1st Qu.:    0.0   1st Qu.:  198  \n",
       " Median :    0.0   Median :  693  \n",
       " Mean   :  756.6   Mean   : 2164  \n",
       " 3rd Qu.:    0.0   3rd Qu.: 2772  \n",
       " Max.   :13440.0   Max.   :25704  "
      ]
     },
     "metadata": {},
     "output_type": "display_data"
    },
    {
     "data": {
      "text/html": [
       "<table>\n",
       "<thead><tr><th scope=col>pidlink</th><th scope=col>activity_cat</th></tr></thead>\n",
       "<tbody>\n",
       "\t<tr><td>001060001 </td><td>2:Low     </td></tr>\n",
       "\t<tr><td>001060004 </td><td>2:Low     </td></tr>\n",
       "\t<tr><td>001060007 </td><td>2:Low     </td></tr>\n",
       "\t<tr><td>001060008 </td><td>0:High    </td></tr>\n",
       "\t<tr><td>001065102 </td><td>1:Moderate</td></tr>\n",
       "\t<tr><td>001080003 </td><td>1:Moderate</td></tr>\n",
       "</tbody>\n",
       "</table>\n"
      ],
      "text/latex": [
       "\\begin{tabular}{r|ll}\n",
       " pidlink & activity\\_cat\\\\\n",
       "\\hline\n",
       "\t 001060001  & 2:Low     \\\\\n",
       "\t 001060004  & 2:Low     \\\\\n",
       "\t 001060007  & 2:Low     \\\\\n",
       "\t 001060008  & 0:High    \\\\\n",
       "\t 001065102  & 1:Moderate\\\\\n",
       "\t 001080003  & 1:Moderate\\\\\n",
       "\\end{tabular}\n"
      ],
      "text/markdown": [
       "\n",
       "pidlink | activity_cat | \n",
       "|---|---|---|---|---|---|\n",
       "| 001060001  | 2:Low      | \n",
       "| 001060004  | 2:Low      | \n",
       "| 001060007  | 2:Low      | \n",
       "| 001060008  | 0:High     | \n",
       "| 001065102  | 1:Moderate | \n",
       "| 001080003  | 1:Moderate | \n",
       "\n",
       "\n"
      ],
      "text/plain": [
       "  pidlink   activity_cat\n",
       "1 001060001 2:Low       \n",
       "2 001060004 2:Low       \n",
       "3 001060007 2:Low       \n",
       "4 001060008 0:High      \n",
       "5 001065102 1:Moderate  \n",
       "6 001080003 1:Moderate  "
      ]
     },
     "metadata": {},
     "output_type": "display_data"
    },
    {
     "data": {
      "text/plain": [
       "   pidlink              activity_cat  \n",
       " Length:31463       0:High    : 7051  \n",
       " Class :character   1:Moderate: 9576  \n",
       " Mode  :character   2:Low     :14836  "
      ]
     },
     "metadata": {},
     "output_type": "display_data"
    }
   ],
   "source": [
    "# Second phase --> create column for calculating MET estimation\n",
    "# Create column minute_numbers for estimation then convert long data to wide data\n",
    "\n",
    "ceiling <- c(\"11:< 30 minutes\" = 29, \n",
    "             \"12:>= 30 minutes\" = 119, \n",
    "             \"21:< 4 hours\" = 239,\n",
    "             \"22:>= 4 hours\" = 240)\n",
    "\n",
    "median <- c(\"11:< 30 minutes\" = 20, \n",
    "            \"12:>= 30 minutes\" = 75, \n",
    "            \"21:< 4 hours\" = 180,\n",
    "            \"22:>= 4 hours\" = 240)\n",
    "\n",
    "floor <- c(\"11:< 30 minutes\" = 10, \n",
    "           \"12:>= 30 minutes\" = 30, \n",
    "           \"21:< 4 hours\" = 120,\n",
    "           \"22:>= 4 hours\" = 240)\n",
    "\n",
    "activity_wide <- activity_completed %>%\n",
    "    mutate(minutes_number = revalue(minutes, floor)) %>% #CHANGE ESTIMATION HERE\n",
    "    gather(variable, value, -pidlink, -activity_type) %>%\n",
    "    unite(temp, activity_type, variable) %>%\n",
    "    spread(temp, value) %>%\n",
    "    mutate(Vigorous_days = as.numeric(Vigorous_days), \n",
    "           Moderate_days = as.numeric(Moderate_days), \n",
    "           Walking_days = as.numeric(Walking_days),\n",
    "           Vigorous_minutes_number = as.numeric(Vigorous_minutes_number),\n",
    "           Moderate_minutes_number = as.numeric(Moderate_minutes_number),\n",
    "           Walking_minutes_number = as.numeric(Walking_minutes_number)) \n",
    "\n",
    "## Unselect imperfect activity_categorized from first phase \n",
    "\n",
    "activity_wide_replaced_zero <- activity_wide %>%\n",
    "    select(-Moderate_activity_categorized, -Walking_activity_categorized, -Vigorous_activity_categorized)\n",
    "\n",
    "activity_wide_replaced_zero[is.na(activity_wide_replaced_zero)] <- 0\n",
    "\n",
    "head(activity_wide_replaced_zero)\n",
    "summary(activity_wide_replaced_zero)\n",
    "\n",
    "# Calculate total days and total MET estimation \n",
    "\n",
    "activity_total <- activity_wide_replaced_zero %>%\n",
    "    mutate(\"total_days\" = Vigorous_days + Moderate_days + Walking_days,\n",
    "           \"walking_MET\" = 3.3 * Walking_days * Walking_minutes_number,\n",
    "           \"moderate_MET\" = 4.0 * Moderate_days * Moderate_minutes_number,\n",
    "           \"vigorous_MET\" = 8.0 * Vigorous_days * Vigorous_minutes_number) %>%\n",
    "    mutate(\"total_MET\" = walking_MET + moderate_MET + vigorous_MET)\n",
    "\n",
    "head(activity_total)\n",
    "summary(activity_total)\n",
    "\n",
    "# Calculate and categorized each person ID's physical activity tipe based on IPAQ \n",
    "\n",
    "activity_calculated <- activity_total %>%\n",
    "    mutate(activity_calc_categorized = case_when((Vigorous_days >= 3 & Vigorous_hours == \"2:>= 2 hours\")\n",
    "                                                 |(Vigorous_days >= 3 & vigorous_MET >= 1500) \n",
    "                                                 |(total_days >= 7 & total_MET >= 3000) ~ \"0:High\",\n",
    "                                                 (Vigorous_days >= 3 & Vigorous_hours == \"1:< 2 hours\" & Vigorous_minutes == \"12:>= 30 minutes\")\n",
    "                                                 |(Vigorous_days >= 3 & Vigorous_hours == \"2:>= 2 hours\")\n",
    "                                                 |(total_days >= 5 & Moderate_hours == \"1:< 2 hours\" & Moderate_minutes == \"12:>= 30 minutes\")\n",
    "                                                 |(total_days >= 5 & Moderate_hours == \"2:>= 2 hours\")\n",
    "                                                 |(total_days >= 5 & Walking_hours == \"1:< 2 hours\" & Walking_minutes == \"12:>= 30 minutes\")\n",
    "                                                 |(total_days >= 5 & Walking_hours == \"2:>= 2 hours\")\n",
    "                                                 |(total_days >= 5 & total_MET >= 600) ~ \"1:Moderate\",\n",
    "                                                 TRUE ~ \"2:Low\"),\n",
    "                                  activity_calc_categorized = factor(activity_calc_categorized, levels=c(\"0:High\", \"1:Moderate\", \"2:Low\")))\n",
    "\n",
    "activity_categorized <- activity_calculated %>%\n",
    "    select(pidlink, \"activity_cat\" = activity_calc_categorized)\n",
    "\n",
    "head(activity_categorized) \n",
    "summary(activity_categorized)\n"
   ]
  },
  {
   "cell_type": "code",
   "execution_count": 16,
   "metadata": {
    "scrolled": true
   },
   "outputs": [
    {
     "data": {
      "text/html": [
       "<table>\n",
       "<thead><tr><th scope=col>hhid14_9</th><th scope=col>pid14</th><th scope=col>aktype</th><th scope=col>ak02</th><th scope=col>ak03x</th><th scope=col>ak03</th><th scope=col>ak04</th><th scope=col>ak05</th><th scope=col>hhid14</th><th scope=col>pidlink</th><th scope=col>ak01</th><th scope=col>version</th><th scope=col>module</th></tr></thead>\n",
       "<tbody>\n",
       "\t<tr><td>001060000</td><td>1        </td><td>         </td><td>NA       </td><td>NA       </td><td>NA       </td><td>         </td><td>         </td><td>0010600  </td><td>001060001</td><td>3:No     </td><td>1.3      </td><td>B3B_AK1  </td></tr>\n",
       "\t<tr><td>001060000</td><td>7        </td><td>         </td><td>NA       </td><td>NA       </td><td>NA       </td><td>         </td><td>         </td><td>0010600  </td><td>001060007</td><td>3:No     </td><td>1.3      </td><td>B3B_AK1  </td></tr>\n",
       "\t<tr><td>001060000</td><td>8        </td><td>         </td><td>NA       </td><td>NA       </td><td>NA       </td><td>         </td><td>         </td><td>0010600  </td><td>001060008</td><td>3:No     </td><td>1.3      </td><td>B3B_AK1  </td></tr>\n",
       "\t<tr><td>001060004</td><td>1        </td><td>         </td><td>NA       </td><td>NA       </td><td>NA       </td><td>         </td><td>         </td><td>0010651  </td><td>001060004</td><td>3:No     </td><td>1.3      </td><td>B3B_AK1  </td></tr>\n",
       "\t<tr><td>001060004</td><td>2        </td><td>         </td><td>NA       </td><td>NA       </td><td>NA       </td><td>         </td><td>         </td><td>0010651  </td><td>001065102</td><td>3:No     </td><td>1.3      </td><td>B3B_AK1  </td></tr>\n",
       "\t<tr><td>001080000</td><td>8        </td><td>         </td><td>NA       </td><td>NA       </td><td>NA       </td><td>         </td><td>         </td><td>0010800  </td><td>001080008</td><td>3:No     </td><td>1.3      </td><td>B3B_AK1  </td></tr>\n",
       "</tbody>\n",
       "</table>\n"
      ],
      "text/latex": [
       "\\begin{tabular}{r|lllllllllllll}\n",
       " hhid14\\_9 & pid14 & aktype & ak02 & ak03x & ak03 & ak04 & ak05 & hhid14 & pidlink & ak01 & version & module\\\\\n",
       "\\hline\n",
       "\t 001060000 & 1         &           & NA        & NA        & NA        &           &           & 0010600   & 001060001 & 3:No      & 1.3       & B3B\\_AK1\\\\\n",
       "\t 001060000 & 7         &           & NA        & NA        & NA        &           &           & 0010600   & 001060007 & 3:No      & 1.3       & B3B\\_AK1\\\\\n",
       "\t 001060000 & 8         &           & NA        & NA        & NA        &           &           & 0010600   & 001060008 & 3:No      & 1.3       & B3B\\_AK1\\\\\n",
       "\t 001060004 & 1         &           & NA        & NA        & NA        &           &           & 0010651   & 001060004 & 3:No      & 1.3       & B3B\\_AK1\\\\\n",
       "\t 001060004 & 2         &           & NA        & NA        & NA        &           &           & 0010651   & 001065102 & 3:No      & 1.3       & B3B\\_AK1\\\\\n",
       "\t 001080000 & 8         &           & NA        & NA        & NA        &           &           & 0010800   & 001080008 & 3:No      & 1.3       & B3B\\_AK1\\\\\n",
       "\\end{tabular}\n"
      ],
      "text/markdown": [
       "\n",
       "hhid14_9 | pid14 | aktype | ak02 | ak03x | ak03 | ak04 | ak05 | hhid14 | pidlink | ak01 | version | module | \n",
       "|---|---|---|---|---|---|\n",
       "| 001060000 | 1         |           | NA        | NA        | NA        |           |           | 0010600   | 001060001 | 3:No      | 1.3       | B3B_AK1   | \n",
       "| 001060000 | 7         |           | NA        | NA        | NA        |           |           | 0010600   | 001060007 | 3:No      | 1.3       | B3B_AK1   | \n",
       "| 001060000 | 8         |           | NA        | NA        | NA        |           |           | 0010600   | 001060008 | 3:No      | 1.3       | B3B_AK1   | \n",
       "| 001060004 | 1         |           | NA        | NA        | NA        |           |           | 0010651   | 001060004 | 3:No      | 1.3       | B3B_AK1   | \n",
       "| 001060004 | 2         |           | NA        | NA        | NA        |           |           | 0010651   | 001065102 | 3:No      | 1.3       | B3B_AK1   | \n",
       "| 001080000 | 8         |           | NA        | NA        | NA        |           |           | 0010800   | 001080008 | 3:No      | 1.3       | B3B_AK1   | \n",
       "\n",
       "\n"
      ],
      "text/plain": [
       "  hhid14_9  pid14 aktype ak02 ak03x ak03 ak04 ak05 hhid14  pidlink   ak01\n",
       "1 001060000 1            NA   NA    NA             0010600 001060001 3:No\n",
       "2 001060000 7            NA   NA    NA             0010600 001060007 3:No\n",
       "3 001060000 8            NA   NA    NA             0010600 001060008 3:No\n",
       "4 001060004 1            NA   NA    NA             0010651 001060004 3:No\n",
       "5 001060004 2            NA   NA    NA             0010651 001065102 3:No\n",
       "6 001080000 8            NA   NA    NA             0010800 001080008 3:No\n",
       "  version module \n",
       "1 1.3     B3B_AK1\n",
       "2 1.3     B3B_AK1\n",
       "3 1.3     B3B_AK1\n",
       "4 1.3     B3B_AK1\n",
       "5 1.3     B3B_AK1\n",
       "6 1.3     B3B_AK1"
      ]
     },
     "metadata": {},
     "output_type": "display_data"
    },
    {
     "data": {
      "text/html": [
       "<table>\n",
       "<thead><tr><th></th><th scope=col>hhid14_9</th><th scope=col>pid14</th><th scope=col>aktype</th><th scope=col>ak02</th><th scope=col>ak03x</th><th scope=col>ak03</th><th scope=col>ak04</th><th scope=col>ak05</th><th scope=col>hhid14</th><th scope=col>pidlink</th><th scope=col>ak01</th><th scope=col>version</th><th scope=col>module</th></tr></thead>\n",
       "<tbody>\n",
       "\t<tr><th scope=row>201386</th><td>321300000</td><td>3        </td><td>E        </td><td>3:No     </td><td>NA       </td><td>  NA     </td><td>         </td><td>         </td><td>3213000  </td><td>321300003</td><td>1:Yes    </td><td>1.3      </td><td>B3B_AK1  </td></tr>\n",
       "\t<tr><th scope=row>201387</th><td>321300000</td><td>3        </td><td>A        </td><td>1:Yes    </td><td>1:Given  </td><td>1999     </td><td>AC       </td><td>W        </td><td>3213000  </td><td>321300003</td><td>1:Yes    </td><td>1.3      </td><td>B3B_AK1  </td></tr>\n",
       "\t<tr><th scope=row>201388</th><td>321300000</td><td>3        </td><td>J        </td><td>3:No     </td><td>NA       </td><td>  NA     </td><td>         </td><td>         </td><td>3213000  </td><td>321300003</td><td>1:Yes    </td><td>1.3      </td><td>B3B_AK1  </td></tr>\n",
       "\t<tr><th scope=row>201389</th><td>321300000</td><td>3        </td><td>I        </td><td>3:No     </td><td>NA       </td><td>  NA     </td><td>         </td><td>         </td><td>3213000  </td><td>321300003</td><td>1:Yes    </td><td>1.3      </td><td>B3B_AK1  </td></tr>\n",
       "\t<tr><th scope=row>201390</th><td>321300000</td><td>3        </td><td>C        </td><td>3:No     </td><td>NA       </td><td>  NA     </td><td>         </td><td>         </td><td>3213000  </td><td>321300003</td><td>1:Yes    </td><td>1.3      </td><td>B3B_AK1  </td></tr>\n",
       "\t<tr><th scope=row>201391</th><td>321300000</td><td>3        </td><td>D        </td><td>3:No     </td><td>NA       </td><td>  NA     </td><td>         </td><td>         </td><td>3213000  </td><td>321300003</td><td>1:Yes    </td><td>1.3      </td><td>B3B_AK1  </td></tr>\n",
       "</tbody>\n",
       "</table>\n"
      ],
      "text/latex": [
       "\\begin{tabular}{r|lllllllllllll}\n",
       "  & hhid14\\_9 & pid14 & aktype & ak02 & ak03x & ak03 & ak04 & ak05 & hhid14 & pidlink & ak01 & version & module\\\\\n",
       "\\hline\n",
       "\t201386 & 321300000 & 3         & E         & 3:No      & NA        &   NA      &           &           & 3213000   & 321300003 & 1:Yes     & 1.3       & B3B\\_AK1\\\\\n",
       "\t201387 & 321300000 & 3         & A         & 1:Yes     & 1:Given   & 1999      & AC        & W         & 3213000   & 321300003 & 1:Yes     & 1.3       & B3B\\_AK1\\\\\n",
       "\t201388 & 321300000 & 3         & J         & 3:No      & NA        &   NA      &           &           & 3213000   & 321300003 & 1:Yes     & 1.3       & B3B\\_AK1\\\\\n",
       "\t201389 & 321300000 & 3         & I         & 3:No      & NA        &   NA      &           &           & 3213000   & 321300003 & 1:Yes     & 1.3       & B3B\\_AK1\\\\\n",
       "\t201390 & 321300000 & 3         & C         & 3:No      & NA        &   NA      &           &           & 3213000   & 321300003 & 1:Yes     & 1.3       & B3B\\_AK1\\\\\n",
       "\t201391 & 321300000 & 3         & D         & 3:No      & NA        &   NA      &           &           & 3213000   & 321300003 & 1:Yes     & 1.3       & B3B\\_AK1\\\\\n",
       "\\end{tabular}\n"
      ],
      "text/markdown": [
       "\n",
       "| <!--/--> | hhid14_9 | pid14 | aktype | ak02 | ak03x | ak03 | ak04 | ak05 | hhid14 | pidlink | ak01 | version | module | \n",
       "|---|---|---|---|---|---|\n",
       "| 201386 | 321300000 | 3         | E         | 3:No      | NA        |   NA      |           |           | 3213000   | 321300003 | 1:Yes     | 1.3       | B3B_AK1   | \n",
       "| 201387 | 321300000 | 3         | A         | 1:Yes     | 1:Given   | 1999      | AC        | W         | 3213000   | 321300003 | 1:Yes     | 1.3       | B3B_AK1   | \n",
       "| 201388 | 321300000 | 3         | J         | 3:No      | NA        |   NA      |           |           | 3213000   | 321300003 | 1:Yes     | 1.3       | B3B_AK1   | \n",
       "| 201389 | 321300000 | 3         | I         | 3:No      | NA        |   NA      |           |           | 3213000   | 321300003 | 1:Yes     | 1.3       | B3B_AK1   | \n",
       "| 201390 | 321300000 | 3         | C         | 3:No      | NA        |   NA      |           |           | 3213000   | 321300003 | 1:Yes     | 1.3       | B3B_AK1   | \n",
       "| 201391 | 321300000 | 3         | D         | 3:No      | NA        |   NA      |           |           | 3213000   | 321300003 | 1:Yes     | 1.3       | B3B_AK1   | \n",
       "\n",
       "\n"
      ],
      "text/plain": [
       "       hhid14_9  pid14 aktype ak02  ak03x   ak03 ak04 ak05 hhid14  pidlink  \n",
       "201386 321300000 3     E      3:No  NA        NA           3213000 321300003\n",
       "201387 321300000 3     A      1:Yes 1:Given 1999 AC   W    3213000 321300003\n",
       "201388 321300000 3     J      3:No  NA        NA           3213000 321300003\n",
       "201389 321300000 3     I      3:No  NA        NA           3213000 321300003\n",
       "201390 321300000 3     C      3:No  NA        NA           3213000 321300003\n",
       "201391 321300000 3     D      3:No  NA        NA           3213000 321300003\n",
       "       ak01  version module \n",
       "201386 1:Yes 1.3     B3B_AK1\n",
       "201387 1:Yes 1.3     B3B_AK1\n",
       "201388 1:Yes 1.3     B3B_AK1\n",
       "201389 1:Yes 1.3     B3B_AK1\n",
       "201390 1:Yes 1.3     B3B_AK1\n",
       "201391 1:Yes 1.3     B3B_AK1"
      ]
     },
     "metadata": {},
     "output_type": "display_data"
    },
    {
     "data": {
      "text/html": [
       "<table>\n",
       "<thead><tr><th scope=col>pidlink</th><th scope=col>insurance</th></tr></thead>\n",
       "<tbody>\n",
       "\t<tr><td>001060001</td><td>3:No     </td></tr>\n",
       "\t<tr><td>001060007</td><td>3:No     </td></tr>\n",
       "\t<tr><td>001060008</td><td>3:No     </td></tr>\n",
       "\t<tr><td>001060004</td><td>3:No     </td></tr>\n",
       "\t<tr><td>001065102</td><td>3:No     </td></tr>\n",
       "\t<tr><td>001080008</td><td>3:No     </td></tr>\n",
       "</tbody>\n",
       "</table>\n"
      ],
      "text/latex": [
       "\\begin{tabular}{r|ll}\n",
       " pidlink & insurance\\\\\n",
       "\\hline\n",
       "\t 001060001 & 3:No     \\\\\n",
       "\t 001060007 & 3:No     \\\\\n",
       "\t 001060008 & 3:No     \\\\\n",
       "\t 001060004 & 3:No     \\\\\n",
       "\t 001065102 & 3:No     \\\\\n",
       "\t 001080008 & 3:No     \\\\\n",
       "\\end{tabular}\n"
      ],
      "text/markdown": [
       "\n",
       "pidlink | insurance | \n",
       "|---|---|---|---|---|---|\n",
       "| 001060001 | 3:No      | \n",
       "| 001060007 | 3:No      | \n",
       "| 001060008 | 3:No      | \n",
       "| 001060004 | 3:No      | \n",
       "| 001065102 | 3:No      | \n",
       "| 001080008 | 3:No      | \n",
       "\n",
       "\n"
      ],
      "text/plain": [
       "  pidlink   insurance\n",
       "1 001060001 3:No     \n",
       "2 001060007 3:No     \n",
       "3 001060008 3:No     \n",
       "4 001060004 3:No     \n",
       "5 001065102 3:No     \n",
       "6 001080008 3:No     "
      ]
     },
     "metadata": {},
     "output_type": "display_data"
    },
    {
     "name": "stdout",
     "output_type": "stream",
     "text": [
      "'data.frame':\t34271 obs. of  2 variables:\n",
      " $ pidlink  : chr  \"001060001\" \"001060007\" \"001060008\" \"001060004\" ...\n",
      " $ insurance: Factor w/ 4 levels \"1:Yes\",\"3:No\",..: 2 2 2 2 2 2 2 2 1 1 ...\n",
      " - attr(*, \"datalabel\")= chr \"\"\n",
      " - attr(*, \"time.stamp\")= chr \"\"\n",
      " - attr(*, \"formats\")= chr  \"%10s\" \"%12.0g\" \"%2s\" \"%12.0g\" ...\n",
      " - attr(*, \"types\")= int  10 255 2 255 255 255 4 6 8 10 ...\n",
      " - attr(*, \"val.labels\")= chr  \"\" \"\" \"\" \"ak02\" ...\n",
      " - attr(*, \"var.labels\")= chr  \"2014 Household ID (9-digit)\" \"2014 PID\" \"Benefit/Insurance type\" \"Does your program include these benefits?\" ...\n",
      " - attr(*, \"version\")= int -7\n",
      " - attr(*, \"label.table\")=List of 4\n",
      "  ..$ ak02 : Named int  1 3 8 9\n",
      "  .. ..- attr(*, \"names\")= chr  \"1:Yes\" \"3:No\" \"8:Don't know\" \"9:Missing\"\n",
      "  ..$ ak03x: Named int  1 8 9\n",
      "  .. ..- attr(*, \"names\")= chr  \"1:Given\" \"8:Don't know\" \"9:Missing\"\n",
      "  ..$ ak03 : Named int  9998 9999\n",
      "  .. ..- attr(*, \"names\")= chr  \"9998:Don't know\" \"9999:Missing\"\n",
      "  ..$ ak01 : Named int  1 3 8 9\n",
      "  .. ..- attr(*, \"names\")= chr  \"1:Yes\" \"3:No\" \"8:Don't know\" \"9:Missing\"\n"
     ]
    },
    {
     "data": {
      "text/plain": [
       "   pidlink                 insurance    \n",
       " Length:34271       1:Yes       :16712  \n",
       " Class :character   3:No        :17478  \n",
       " Mode  :character   8:Don't know:   37  \n",
       "                    9:Missing   :    0  \n",
       "                    NA's        :   44  "
      ]
     },
     "metadata": {},
     "output_type": "display_data"
    }
   ],
   "source": [
    "#Insurance data \n",
    "\n",
    "b3b_ak1 <- read.dta(\"b3b_ak1.dta\") \n",
    "head(b3b_ak1)\n",
    "tail(b3b_ak1)\n",
    "insurance <- b3b_ak1 %>%\n",
    "    select(pidlink, ak01) %>%\n",
    "    distinct()\n",
    "insurance <- rename(insurance, \"insurance\" = ak01)\n",
    "head(insurance)\n",
    "str(insurance)\n",
    "summary(insurance)"
   ]
  },
  {
   "cell_type": "code",
   "execution_count": 17,
   "metadata": {
    "scrolled": true
   },
   "outputs": [
    {
     "data": {
      "text/html": [
       "<table>\n",
       "<thead><tr><th scope=col>hhid14_9</th><th scope=col>pid14</th><th scope=col>idivwr</th><th scope=col>resvis</th><th scope=col>rspndnt</th><th scope=col>panel</th><th scope=col>age</th><th scope=col>marstat</th><th scope=col>sex</th><th scope=col>dob_day</th><th scope=col>⋯</th><th scope=col>birth_cert_reas</th><th scope=col>hhid14</th><th scope=col>stemid</th><th scope=col>pid</th><th scope=col>pidlink</th><th scope=col>cp1</th><th scope=col>cp2</th><th scope=col>cp3</th><th scope=col>version</th><th scope=col>module</th></tr></thead>\n",
       "<tbody>\n",
       "\t<tr><td>001060000                                         </td><td>1                                                 </td><td>A35                                               </td><td>1:Yes                                             </td><td>1:Head of household                               </td><td>3:New                                             </td><td>59                                                </td><td>2:Married                                         </td><td>1:Male                                            </td><td> 5                                                </td><td>⋯                                                 </td><td>5:Didn't know it was required                     </td><td>0010600                                           </td><td>00106                                             </td><td>1                                                 </td><td>001060001                                         </td><td>CF                                                </td><td>2:Good                                            </td><td>2:Good                                            </td><td>1.3                                               </td><td>B3A_COV                                           </td></tr>\n",
       "\t<tr><td>001060004                                         </td><td>1                                                 </td><td>A34                                               </td><td>1:Yes                                             </td><td>2:Spouse of head                                  </td><td>3:New                                             </td><td>28                                                </td><td>2:Married                                         </td><td>3:Female                                          </td><td>98                                                </td><td>⋯                                                 </td><td>7:Cannot show if asked /misplaced birth certificae</td><td>0010651                                           </td><td>00106                                             </td><td>1                                                 </td><td>001060004                                         </td><td>BD                                                </td><td>3:Fair                                            </td><td>3:Fair                                            </td><td>1.3                                               </td><td>B3A_COV                                           </td></tr>\n",
       "\t<tr><td>001060000                                         </td><td>7                                                 </td><td>A33                                               </td><td>1:Yes                                             </td><td>2:Spouse of head                                  </td><td>3:New                                             </td><td>39                                                </td><td>2:Married                                         </td><td>3:Female                                          </td><td> 7                                                </td><td>⋯                                                 </td><td>NA                                                </td><td>0010600                                           </td><td>00106                                             </td><td>7                                                 </td><td>001060007                                         </td><td>BCD                                               </td><td>1:Excellent                                       </td><td>1:Excellent                                       </td><td>1.3                                               </td><td>B3A_COV                                           </td></tr>\n",
       "\t<tr><td>001060000                                         </td><td>8                                                 </td><td>A33                                               </td><td>1:Yes                                             </td><td>3:Other HH member                                 </td><td>3:New                                             </td><td>16                                                </td><td>1:Not yet married                                 </td><td>3:Female                                          </td><td> 9                                                </td><td>⋯                                                 </td><td>NA                                                </td><td>0010600                                           </td><td>00106                                             </td><td>8                                                 </td><td>001060008                                         </td><td>EF                                                </td><td>1:Excellent                                       </td><td>1:Excellent                                       </td><td>1.3                                               </td><td>B3A_COV                                           </td></tr>\n",
       "\t<tr><td>001060004                                         </td><td>2                                                 </td><td>A35                                               </td><td>1:Yes                                             </td><td>1:Head of household                               </td><td>3:New                                             </td><td>30                                                </td><td>2:Married                                         </td><td>1:Male                                            </td><td> 4                                                </td><td>⋯                                                 </td><td>5:Didn't know it was required                     </td><td>0010651                                           </td><td>00106                                             </td><td>2                                                 </td><td>001065102                                         </td><td>BD                                                </td><td>2:Good                                            </td><td>2:Good                                            </td><td>1.3                                               </td><td>B3A_COV                                           </td></tr>\n",
       "\t<tr><td>001080003                                         </td><td>1                                                 </td><td>A35                                               </td><td>1:Yes                                             </td><td>1:Head of household                               </td><td>3:New                                             </td><td>36                                                </td><td>2:Married                                         </td><td>1:Male                                            </td><td>13                                                </td><td>⋯                                                 </td><td>5:Didn't know it was required                     </td><td>0010851                                           </td><td>00108                                             </td><td>1                                                 </td><td>001080003                                         </td><td>BCF                                               </td><td>2:Good                                            </td><td>2:Good                                            </td><td>1.3                                               </td><td>B3A_COV                                           </td></tr>\n",
       "</tbody>\n",
       "</table>\n"
      ],
      "text/latex": [
       "\\begin{tabular}{r|lllllllllllllllllllllllllllllllllllll}\n",
       " hhid14\\_9 & pid14 & idivwr & resvis & rspndnt & panel & age & marstat & sex & dob\\_day & ⋯ & birth\\_cert\\_reas & hhid14 & stemid & pid & pidlink & cp1 & cp2 & cp3 & version & module\\\\\n",
       "\\hline\n",
       "\t 001060000                                          & 1                                                  & A35                                                & 1:Yes                                              & 1:Head of household                                & 3:New                                              & 59                                                 & 2:Married                                          & 1:Male                                             &  5                                                 & ⋯                                                  & 5:Didn't know it was required                      & 0010600                                            & 00106                                              & 1                                                  & 001060001                                          & CF                                                 & 2:Good                                             & 2:Good                                             & 1.3                                                & B3A\\_COV                                         \\\\\n",
       "\t 001060004                                          & 1                                                  & A34                                                & 1:Yes                                              & 2:Spouse of head                                   & 3:New                                              & 28                                                 & 2:Married                                          & 3:Female                                           & 98                                                 & ⋯                                                  & 7:Cannot show if asked /misplaced birth certificae & 0010651                                            & 00106                                              & 1                                                  & 001060004                                          & BD                                                 & 3:Fair                                             & 3:Fair                                             & 1.3                                                & B3A\\_COV                                         \\\\\n",
       "\t 001060000                                          & 7                                                  & A33                                                & 1:Yes                                              & 2:Spouse of head                                   & 3:New                                              & 39                                                 & 2:Married                                          & 3:Female                                           &  7                                                 & ⋯                                                  & NA                                                 & 0010600                                            & 00106                                              & 7                                                  & 001060007                                          & BCD                                                & 1:Excellent                                        & 1:Excellent                                        & 1.3                                                & B3A\\_COV                                         \\\\\n",
       "\t 001060000                                          & 8                                                  & A33                                                & 1:Yes                                              & 3:Other HH member                                  & 3:New                                              & 16                                                 & 1:Not yet married                                  & 3:Female                                           &  9                                                 & ⋯                                                  & NA                                                 & 0010600                                            & 00106                                              & 8                                                  & 001060008                                          & EF                                                 & 1:Excellent                                        & 1:Excellent                                        & 1.3                                                & B3A\\_COV                                         \\\\\n",
       "\t 001060004                                          & 2                                                  & A35                                                & 1:Yes                                              & 1:Head of household                                & 3:New                                              & 30                                                 & 2:Married                                          & 1:Male                                             &  4                                                 & ⋯                                                  & 5:Didn't know it was required                      & 0010651                                            & 00106                                              & 2                                                  & 001065102                                          & BD                                                 & 2:Good                                             & 2:Good                                             & 1.3                                                & B3A\\_COV                                         \\\\\n",
       "\t 001080003                                          & 1                                                  & A35                                                & 1:Yes                                              & 1:Head of household                                & 3:New                                              & 36                                                 & 2:Married                                          & 1:Male                                             & 13                                                 & ⋯                                                  & 5:Didn't know it was required                      & 0010851                                            & 00108                                              & 1                                                  & 001080003                                          & BCF                                                & 2:Good                                             & 2:Good                                             & 1.3                                                & B3A\\_COV                                         \\\\\n",
       "\\end{tabular}\n"
      ],
      "text/markdown": [
       "\n",
       "hhid14_9 | pid14 | idivwr | resvis | rspndnt | panel | age | marstat | sex | dob_day | ⋯ | birth_cert_reas | hhid14 | stemid | pid | pidlink | cp1 | cp2 | cp3 | version | module | \n",
       "|---|---|---|---|---|---|\n",
       "| 001060000                                          | 1                                                  | A35                                                | 1:Yes                                              | 1:Head of household                                | 3:New                                              | 59                                                 | 2:Married                                          | 1:Male                                             |  5                                                 | ⋯                                                  | 5:Didn't know it was required                      | 0010600                                            | 00106                                              | 1                                                  | 001060001                                          | CF                                                 | 2:Good                                             | 2:Good                                             | 1.3                                                | B3A_COV                                            | \n",
       "| 001060004                                          | 1                                                  | A34                                                | 1:Yes                                              | 2:Spouse of head                                   | 3:New                                              | 28                                                 | 2:Married                                          | 3:Female                                           | 98                                                 | ⋯                                                  | 7:Cannot show if asked /misplaced birth certificae | 0010651                                            | 00106                                              | 1                                                  | 001060004                                          | BD                                                 | 3:Fair                                             | 3:Fair                                             | 1.3                                                | B3A_COV                                            | \n",
       "| 001060000                                          | 7                                                  | A33                                                | 1:Yes                                              | 2:Spouse of head                                   | 3:New                                              | 39                                                 | 2:Married                                          | 3:Female                                           |  7                                                 | ⋯                                                  | NA                                                 | 0010600                                            | 00106                                              | 7                                                  | 001060007                                          | BCD                                                | 1:Excellent                                        | 1:Excellent                                        | 1.3                                                | B3A_COV                                            | \n",
       "| 001060000                                          | 8                                                  | A33                                                | 1:Yes                                              | 3:Other HH member                                  | 3:New                                              | 16                                                 | 1:Not yet married                                  | 3:Female                                           |  9                                                 | ⋯                                                  | NA                                                 | 0010600                                            | 00106                                              | 8                                                  | 001060008                                          | EF                                                 | 1:Excellent                                        | 1:Excellent                                        | 1.3                                                | B3A_COV                                            | \n",
       "| 001060004                                          | 2                                                  | A35                                                | 1:Yes                                              | 1:Head of household                                | 3:New                                              | 30                                                 | 2:Married                                          | 1:Male                                             |  4                                                 | ⋯                                                  | 5:Didn't know it was required                      | 0010651                                            | 00106                                              | 2                                                  | 001065102                                          | BD                                                 | 2:Good                                             | 2:Good                                             | 1.3                                                | B3A_COV                                            | \n",
       "| 001080003                                          | 1                                                  | A35                                                | 1:Yes                                              | 1:Head of household                                | 3:New                                              | 36                                                 | 2:Married                                          | 1:Male                                             | 13                                                 | ⋯                                                  | 5:Didn't know it was required                      | 0010851                                            | 00108                                              | 1                                                  | 001080003                                          | BCF                                                | 2:Good                                             | 2:Good                                             | 1.3                                                | B3A_COV                                            | \n",
       "\n",
       "\n"
      ],
      "text/plain": [
       "  hhid14_9  pid14 idivwr resvis rspndnt             panel age marstat          \n",
       "1 001060000 1     A35    1:Yes  1:Head of household 3:New 59  2:Married        \n",
       "2 001060004 1     A34    1:Yes  2:Spouse of head    3:New 28  2:Married        \n",
       "3 001060000 7     A33    1:Yes  2:Spouse of head    3:New 39  2:Married        \n",
       "4 001060000 8     A33    1:Yes  3:Other HH member   3:New 16  1:Not yet married\n",
       "5 001060004 2     A35    1:Yes  1:Head of household 3:New 30  2:Married        \n",
       "6 001080003 1     A35    1:Yes  1:Head of household 3:New 36  2:Married        \n",
       "  sex      dob_day ⋯ birth_cert_reas                                    hhid14 \n",
       "1 1:Male    5      ⋯ 5:Didn't know it was required                      0010600\n",
       "2 3:Female 98      ⋯ 7:Cannot show if asked /misplaced birth certificae 0010651\n",
       "3 3:Female  7      ⋯ NA                                                 0010600\n",
       "4 3:Female  9      ⋯ NA                                                 0010600\n",
       "5 1:Male    4      ⋯ 5:Didn't know it was required                      0010651\n",
       "6 1:Male   13      ⋯ 5:Didn't know it was required                      0010851\n",
       "  stemid pid pidlink   cp1 cp2         cp3         version module \n",
       "1 00106  1   001060001 CF  2:Good      2:Good      1.3     B3A_COV\n",
       "2 00106  1   001060004 BD  3:Fair      3:Fair      1.3     B3A_COV\n",
       "3 00106  7   001060007 BCD 1:Excellent 1:Excellent 1.3     B3A_COV\n",
       "4 00106  8   001060008 EF  1:Excellent 1:Excellent 1.3     B3A_COV\n",
       "5 00106  2   001065102 BD  2:Good      2:Good      1.3     B3A_COV\n",
       "6 00108  1   001080003 BCF 2:Good      2:Good      1.3     B3A_COV"
      ]
     },
     "metadata": {},
     "output_type": "display_data"
    },
    {
     "data": {
      "text/html": [
       "<table>\n",
       "<thead><tr><th scope=col>hhid14_9</th><th scope=col>hhid14</th><th scope=col>pidlink</th><th scope=col>sex</th><th scope=col>age</th><th scope=col>marstat</th></tr></thead>\n",
       "<tbody>\n",
       "\t<tr><td>001060000        </td><td>0010600          </td><td>001060001        </td><td>1:Male           </td><td>59               </td><td>2:Married        </td></tr>\n",
       "\t<tr><td>001060004        </td><td>0010651          </td><td>001060004        </td><td>3:Female         </td><td>28               </td><td>2:Married        </td></tr>\n",
       "\t<tr><td>001060000        </td><td>0010600          </td><td>001060007        </td><td>3:Female         </td><td>39               </td><td>2:Married        </td></tr>\n",
       "\t<tr><td>001060000        </td><td>0010600          </td><td>001060008        </td><td>3:Female         </td><td>16               </td><td>1:Not yet married</td></tr>\n",
       "\t<tr><td>001060004        </td><td>0010651          </td><td>001065102        </td><td>1:Male           </td><td>30               </td><td>2:Married        </td></tr>\n",
       "\t<tr><td>001080003        </td><td>0010851          </td><td>001080003        </td><td>1:Male           </td><td>36               </td><td>2:Married        </td></tr>\n",
       "</tbody>\n",
       "</table>\n"
      ],
      "text/latex": [
       "\\begin{tabular}{r|llllll}\n",
       " hhid14\\_9 & hhid14 & pidlink & sex & age & marstat\\\\\n",
       "\\hline\n",
       "\t 001060000         & 0010600           & 001060001         & 1:Male            & 59                & 2:Married        \\\\\n",
       "\t 001060004         & 0010651           & 001060004         & 3:Female          & 28                & 2:Married        \\\\\n",
       "\t 001060000         & 0010600           & 001060007         & 3:Female          & 39                & 2:Married        \\\\\n",
       "\t 001060000         & 0010600           & 001060008         & 3:Female          & 16                & 1:Not yet married\\\\\n",
       "\t 001060004         & 0010651           & 001065102         & 1:Male            & 30                & 2:Married        \\\\\n",
       "\t 001080003         & 0010851           & 001080003         & 1:Male            & 36                & 2:Married        \\\\\n",
       "\\end{tabular}\n"
      ],
      "text/markdown": [
       "\n",
       "hhid14_9 | hhid14 | pidlink | sex | age | marstat | \n",
       "|---|---|---|---|---|---|\n",
       "| 001060000         | 0010600           | 001060001         | 1:Male            | 59                | 2:Married         | \n",
       "| 001060004         | 0010651           | 001060004         | 3:Female          | 28                | 2:Married         | \n",
       "| 001060000         | 0010600           | 001060007         | 3:Female          | 39                | 2:Married         | \n",
       "| 001060000         | 0010600           | 001060008         | 3:Female          | 16                | 1:Not yet married | \n",
       "| 001060004         | 0010651           | 001065102         | 1:Male            | 30                | 2:Married         | \n",
       "| 001080003         | 0010851           | 001080003         | 1:Male            | 36                | 2:Married         | \n",
       "\n",
       "\n"
      ],
      "text/plain": [
       "  hhid14_9  hhid14  pidlink   sex      age marstat          \n",
       "1 001060000 0010600 001060001 1:Male   59  2:Married        \n",
       "2 001060004 0010651 001060004 3:Female 28  2:Married        \n",
       "3 001060000 0010600 001060007 3:Female 39  2:Married        \n",
       "4 001060000 0010600 001060008 3:Female 16  1:Not yet married\n",
       "5 001060004 0010651 001065102 1:Male   30  2:Married        \n",
       "6 001080003 0010851 001080003 1:Male   36  2:Married        "
      ]
     },
     "metadata": {},
     "output_type": "display_data"
    },
    {
     "data": {
      "text/html": [
       "<table>\n",
       "<thead><tr><th scope=col>hhid14_9</th><th scope=col>sc05</th><th scope=col>sc10</th><th scope=col>sc12</th><th scope=col>sc13</th><th scope=col>sc14</th><th scope=col>sc15</th><th scope=col>sc21x</th><th scope=col>sc21</th><th scope=col>hhid14</th><th scope=col>sc01_14_14</th><th scope=col>sc02_14_14</th><th scope=col>sc03_14_14</th><th scope=col>version</th><th scope=col>module</th></tr></thead>\n",
       "<tbody>\n",
       "\t<tr><td>001060000                                     </td><td>2:Rural                                       </td><td>A01                                           </td><td>A02                                           </td><td>A21                                           </td><td>A35                                           </td><td>A33                                           </td><td>13:Move out of the village, same province     </td><td>NA                                            </td><td>0010600                                       </td><td>12                                            </td><td>1                                             </td><td>62                                            </td><td>1.3                                           </td><td>BK_SC1                                        </td></tr>\n",
       "\t<tr><td>001060004                                     </td><td>2:Rural                                       </td><td>A01                                           </td><td>A11                                           </td><td>B21                                           </td><td>A35                                           </td><td>A34                                           </td><td>14:Move out of the village, different province</td><td>NA                                            </td><td>0010651                                       </td><td>12                                            </td><td>1                                             </td><td>62                                            </td><td>1.3                                           </td><td>BK_SC1                                        </td></tr>\n",
       "\t<tr><td>001080000                                     </td><td>2:Rural                                       </td><td>A01                                           </td><td>A11                                           </td><td>A21                                           </td><td>A31                                           </td><td>A35                                           </td><td>13:Move out of the village, same province     </td><td>NA                                            </td><td>0010800                                       </td><td>12                                            </td><td>1                                             </td><td>62                                            </td><td>1.3                                           </td><td>BK_SC1                                        </td></tr>\n",
       "\t<tr><td>001080003                                     </td><td>2:Rural                                       </td><td>A01                                           </td><td>A02                                           </td><td>A21                                           </td><td>A35                                           </td><td>A33                                           </td><td>14:Move out of the village, different province</td><td>NA                                            </td><td>0010851                                       </td><td>12                                            </td><td>1                                             </td><td>62                                            </td><td>1.3                                           </td><td>BK_SC1                                        </td></tr>\n",
       "\t<tr><td>001220000                                     </td><td>2:Rural                                       </td><td>A01                                           </td><td>A11                                           </td><td>A21                                           </td><td>A33                                           </td><td>A34                                           </td><td>96:SAME LOCATION                              </td><td>NA                                            </td><td>0012200                                       </td><td>12                                            </td><td>1                                             </td><td>62                                            </td><td>1.3                                           </td><td>BK_SC1                                        </td></tr>\n",
       "\t<tr><td>001220009                                     </td><td>1:Urban                                       </td><td>A01                                           </td><td>B11                                           </td><td>B21                                           </td><td>B32                                           </td><td>A11                                           </td><td>13:Move out of the village, same province     </td><td>NA                                            </td><td>0012251                                       </td><td>12                                            </td><td>4                                             </td><td>32                                            </td><td>1.3                                           </td><td>BK_SC1                                        </td></tr>\n",
       "</tbody>\n",
       "</table>\n"
      ],
      "text/latex": [
       "\\begin{tabular}{r|lllllllllllllll}\n",
       " hhid14\\_9 & sc05 & sc10 & sc12 & sc13 & sc14 & sc15 & sc21x & sc21 & hhid14 & sc01\\_14\\_14 & sc02\\_14\\_14 & sc03\\_14\\_14 & version & module\\\\\n",
       "\\hline\n",
       "\t 001060000                                      & 2:Rural                                        & A01                                            & A02                                            & A21                                            & A35                                            & A33                                            & 13:Move out of the village, same province      & NA                                             & 0010600                                        & 12                                             & 1                                              & 62                                             & 1.3                                            & BK\\_SC1                                      \\\\\n",
       "\t 001060004                                      & 2:Rural                                        & A01                                            & A11                                            & B21                                            & A35                                            & A34                                            & 14:Move out of the village, different province & NA                                             & 0010651                                        & 12                                             & 1                                              & 62                                             & 1.3                                            & BK\\_SC1                                      \\\\\n",
       "\t 001080000                                      & 2:Rural                                        & A01                                            & A11                                            & A21                                            & A31                                            & A35                                            & 13:Move out of the village, same province      & NA                                             & 0010800                                        & 12                                             & 1                                              & 62                                             & 1.3                                            & BK\\_SC1                                      \\\\\n",
       "\t 001080003                                      & 2:Rural                                        & A01                                            & A02                                            & A21                                            & A35                                            & A33                                            & 14:Move out of the village, different province & NA                                             & 0010851                                        & 12                                             & 1                                              & 62                                             & 1.3                                            & BK\\_SC1                                      \\\\\n",
       "\t 001220000                                      & 2:Rural                                        & A01                                            & A11                                            & A21                                            & A33                                            & A34                                            & 96:SAME LOCATION                               & NA                                             & 0012200                                        & 12                                             & 1                                              & 62                                             & 1.3                                            & BK\\_SC1                                      \\\\\n",
       "\t 001220009                                      & 1:Urban                                        & A01                                            & B11                                            & B21                                            & B32                                            & A11                                            & 13:Move out of the village, same province      & NA                                             & 0012251                                        & 12                                             & 4                                              & 32                                             & 1.3                                            & BK\\_SC1                                      \\\\\n",
       "\\end{tabular}\n"
      ],
      "text/markdown": [
       "\n",
       "hhid14_9 | sc05 | sc10 | sc12 | sc13 | sc14 | sc15 | sc21x | sc21 | hhid14 | sc01_14_14 | sc02_14_14 | sc03_14_14 | version | module | \n",
       "|---|---|---|---|---|---|\n",
       "| 001060000                                      | 2:Rural                                        | A01                                            | A02                                            | A21                                            | A35                                            | A33                                            | 13:Move out of the village, same province      | NA                                             | 0010600                                        | 12                                             | 1                                              | 62                                             | 1.3                                            | BK_SC1                                         | \n",
       "| 001060004                                      | 2:Rural                                        | A01                                            | A11                                            | B21                                            | A35                                            | A34                                            | 14:Move out of the village, different province | NA                                             | 0010651                                        | 12                                             | 1                                              | 62                                             | 1.3                                            | BK_SC1                                         | \n",
       "| 001080000                                      | 2:Rural                                        | A01                                            | A11                                            | A21                                            | A31                                            | A35                                            | 13:Move out of the village, same province      | NA                                             | 0010800                                        | 12                                             | 1                                              | 62                                             | 1.3                                            | BK_SC1                                         | \n",
       "| 001080003                                      | 2:Rural                                        | A01                                            | A02                                            | A21                                            | A35                                            | A33                                            | 14:Move out of the village, different province | NA                                             | 0010851                                        | 12                                             | 1                                              | 62                                             | 1.3                                            | BK_SC1                                         | \n",
       "| 001220000                                      | 2:Rural                                        | A01                                            | A11                                            | A21                                            | A33                                            | A34                                            | 96:SAME LOCATION                               | NA                                             | 0012200                                        | 12                                             | 1                                              | 62                                             | 1.3                                            | BK_SC1                                         | \n",
       "| 001220009                                      | 1:Urban                                        | A01                                            | B11                                            | B21                                            | B32                                            | A11                                            | 13:Move out of the village, same province      | NA                                             | 0012251                                        | 12                                             | 4                                              | 32                                             | 1.3                                            | BK_SC1                                         | \n",
       "\n",
       "\n"
      ],
      "text/plain": [
       "  hhid14_9  sc05    sc10 sc12 sc13 sc14 sc15\n",
       "1 001060000 2:Rural A01  A02  A21  A35  A33 \n",
       "2 001060004 2:Rural A01  A11  B21  A35  A34 \n",
       "3 001080000 2:Rural A01  A11  A21  A31  A35 \n",
       "4 001080003 2:Rural A01  A02  A21  A35  A33 \n",
       "5 001220000 2:Rural A01  A11  A21  A33  A34 \n",
       "6 001220009 1:Urban A01  B11  B21  B32  A11 \n",
       "  sc21x                                          sc21 hhid14  sc01_14_14\n",
       "1 13:Move out of the village, same province      NA   0010600 12        \n",
       "2 14:Move out of the village, different province NA   0010651 12        \n",
       "3 13:Move out of the village, same province      NA   0010800 12        \n",
       "4 14:Move out of the village, different province NA   0010851 12        \n",
       "5 96:SAME LOCATION                               NA   0012200 12        \n",
       "6 13:Move out of the village, same province      NA   0012251 12        \n",
       "  sc02_14_14 sc03_14_14 version module\n",
       "1 1          62         1.3     BK_SC1\n",
       "2 1          62         1.3     BK_SC1\n",
       "3 1          62         1.3     BK_SC1\n",
       "4 1          62         1.3     BK_SC1\n",
       "5 1          62         1.3     BK_SC1\n",
       "6 4          32         1.3     BK_SC1"
      ]
     },
     "metadata": {},
     "output_type": "display_data"
    },
    {
     "name": "stdout",
     "output_type": "stream",
     "text": [
      "'data.frame':\t15921 obs. of  15 variables:\n",
      " $ hhid14_9  : chr  \"001060000\" \"001060004\" \"001080000\" \"001080003\" ...\n",
      " $ sc05      : Factor w/ 2 levels \"1:Urban\",\"2:Rural\": 2 2 2 2 2 1 2 1 2 2 ...\n",
      " $ sc10      : chr  \"A01\" \"A01\" \"A01\" \"A01\" ...\n",
      " $ sc12      : chr  \"A02\" \"A11\" \"A11\" \"A02\" ...\n",
      " $ sc13      : chr  \"A21\" \"B21\" \"A21\" \"A21\" ...\n",
      " $ sc14      : chr  \"A35\" \"A35\" \"A31\" \"A35\" ...\n",
      " $ sc15      : chr  \"A33\" \"A34\" \"A35\" \"A33\" ...\n",
      " $ sc21x     : Factor w/ 8 levels \"1:Distance given (Moved in the same village)\",..: 4 5 4 5 6 4 6 2 4 5 ...\n",
      " $ sc21      : num  NA NA NA NA NA NA NA NA NA NA ...\n",
      " $ hhid14    : chr  \"0010600\" \"0010651\" \"0010800\" \"0010851\" ...\n",
      " $ sc01_14_14: num  12 12 12 12 12 12 12 12 12 12 ...\n",
      " $ sc02_14_14: num  1 1 1 1 1 4 1 78 1 1 ...\n",
      " $ sc03_14_14: num  62 62 62 62 62 32 62 40 62 62 ...\n",
      " $ version   : num  1.3 1.3 1.3 1.3 1.3 1.3 1.3 1.3 1.3 1.3 ...\n",
      " $ module    : chr  \"BK_SC1\" \"BK_SC1\" \"BK_SC1\" \"BK_SC1\" ...\n",
      " - attr(*, \"datalabel\")= chr \"\"\n",
      " - attr(*, \"time.stamp\")= chr \"\"\n",
      " - attr(*, \"formats\")= chr  \"%10s\" \"%12.0g\" \"%4s\" \"%4s\" ...\n",
      " - attr(*, \"types\")= int  10 255 4 4 4 4 4 255 255 8 ...\n",
      " - attr(*, \"val.labels\")= chr  \"\" \"sc05\" \"\" \"\" ...\n",
      " - attr(*, \"var.labels\")= chr  \"2014 Household ID (9-digit)\" \"Urban/Rural\" \"Code of field coordinator\" \"Code of local supervisor\" ...\n",
      " - attr(*, \"version\")= int -7\n",
      " - attr(*, \"label.table\")=List of 2\n",
      "  ..$ sc05 : Named int  1 2\n",
      "  .. ..- attr(*, \"names\")= chr  \"1:Urban\" \"2:Rural\"\n",
      "  ..$ sc21x: Named int  1 11 12 13 14 96 98 99\n",
      "  .. ..- attr(*, \"names\")= chr  \"1:Distance given (Moved in the same village)\" \"11:Move out of the village, same sub-district\" \"12:Move out of the village, same district\" \"13:Move out of the village, same province\" ...\n"
     ]
    },
    {
     "data": {
      "text/html": [
       "<table>\n",
       "<thead><tr><th scope=col>hhid14_9</th><th scope=col>hhid14</th><th scope=col>urban_rural</th></tr></thead>\n",
       "<tbody>\n",
       "\t<tr><td>001060000</td><td>0010600  </td><td>2:Rural  </td></tr>\n",
       "\t<tr><td>001060004</td><td>0010651  </td><td>2:Rural  </td></tr>\n",
       "\t<tr><td>001080000</td><td>0010800  </td><td>2:Rural  </td></tr>\n",
       "\t<tr><td>001080003</td><td>0010851  </td><td>2:Rural  </td></tr>\n",
       "\t<tr><td>001220000</td><td>0012200  </td><td>2:Rural  </td></tr>\n",
       "\t<tr><td>001220009</td><td>0012251  </td><td>1:Urban  </td></tr>\n",
       "</tbody>\n",
       "</table>\n"
      ],
      "text/latex": [
       "\\begin{tabular}{r|lll}\n",
       " hhid14\\_9 & hhid14 & urban\\_rural\\\\\n",
       "\\hline\n",
       "\t 001060000 & 0010600   & 2:Rural  \\\\\n",
       "\t 001060004 & 0010651   & 2:Rural  \\\\\n",
       "\t 001080000 & 0010800   & 2:Rural  \\\\\n",
       "\t 001080003 & 0010851   & 2:Rural  \\\\\n",
       "\t 001220000 & 0012200   & 2:Rural  \\\\\n",
       "\t 001220009 & 0012251   & 1:Urban  \\\\\n",
       "\\end{tabular}\n"
      ],
      "text/markdown": [
       "\n",
       "hhid14_9 | hhid14 | urban_rural | \n",
       "|---|---|---|---|---|---|\n",
       "| 001060000 | 0010600   | 2:Rural   | \n",
       "| 001060004 | 0010651   | 2:Rural   | \n",
       "| 001080000 | 0010800   | 2:Rural   | \n",
       "| 001080003 | 0010851   | 2:Rural   | \n",
       "| 001220000 | 0012200   | 2:Rural   | \n",
       "| 001220009 | 0012251   | 1:Urban   | \n",
       "\n",
       "\n"
      ],
      "text/plain": [
       "  hhid14_9  hhid14  urban_rural\n",
       "1 001060000 0010600 2:Rural    \n",
       "2 001060004 0010651 2:Rural    \n",
       "3 001080000 0010800 2:Rural    \n",
       "4 001080003 0010851 2:Rural    \n",
       "5 001220000 0012200 2:Rural    \n",
       "6 001220009 0012251 1:Urban    "
      ]
     },
     "metadata": {},
     "output_type": "display_data"
    },
    {
     "data": {
      "text/html": [
       "<table>\n",
       "<thead><tr><th scope=col>hhid14_9</th><th scope=col>hhid14</th><th scope=col>pidlink</th><th scope=col>sex</th><th scope=col>age</th><th scope=col>marstat</th><th scope=col>urban_rural</th></tr></thead>\n",
       "<tbody>\n",
       "\t<tr><td>001060000        </td><td>0010600          </td><td>001060001        </td><td>1:Male           </td><td>59               </td><td>2:Married        </td><td>2:Rural          </td></tr>\n",
       "\t<tr><td>001060004        </td><td>0010651          </td><td>001060004        </td><td>3:Female         </td><td>28               </td><td>2:Married        </td><td>2:Rural          </td></tr>\n",
       "\t<tr><td>001060000        </td><td>0010600          </td><td>001060007        </td><td>3:Female         </td><td>39               </td><td>2:Married        </td><td>2:Rural          </td></tr>\n",
       "\t<tr><td>001060000        </td><td>0010600          </td><td>001060008        </td><td>3:Female         </td><td>16               </td><td>1:Not yet married</td><td>2:Rural          </td></tr>\n",
       "\t<tr><td>001060004        </td><td>0010651          </td><td>001065102        </td><td>1:Male           </td><td>30               </td><td>2:Married        </td><td>2:Rural          </td></tr>\n",
       "\t<tr><td>001080003        </td><td>0010851          </td><td>001080003        </td><td>1:Male           </td><td>36               </td><td>2:Married        </td><td>2:Rural          </td></tr>\n",
       "</tbody>\n",
       "</table>\n"
      ],
      "text/latex": [
       "\\begin{tabular}{r|lllllll}\n",
       " hhid14\\_9 & hhid14 & pidlink & sex & age & marstat & urban\\_rural\\\\\n",
       "\\hline\n",
       "\t 001060000         & 0010600           & 001060001         & 1:Male            & 59                & 2:Married         & 2:Rural          \\\\\n",
       "\t 001060004         & 0010651           & 001060004         & 3:Female          & 28                & 2:Married         & 2:Rural          \\\\\n",
       "\t 001060000         & 0010600           & 001060007         & 3:Female          & 39                & 2:Married         & 2:Rural          \\\\\n",
       "\t 001060000         & 0010600           & 001060008         & 3:Female          & 16                & 1:Not yet married & 2:Rural          \\\\\n",
       "\t 001060004         & 0010651           & 001065102         & 1:Male            & 30                & 2:Married         & 2:Rural          \\\\\n",
       "\t 001080003         & 0010851           & 001080003         & 1:Male            & 36                & 2:Married         & 2:Rural          \\\\\n",
       "\\end{tabular}\n"
      ],
      "text/markdown": [
       "\n",
       "hhid14_9 | hhid14 | pidlink | sex | age | marstat | urban_rural | \n",
       "|---|---|---|---|---|---|\n",
       "| 001060000         | 0010600           | 001060001         | 1:Male            | 59                | 2:Married         | 2:Rural           | \n",
       "| 001060004         | 0010651           | 001060004         | 3:Female          | 28                | 2:Married         | 2:Rural           | \n",
       "| 001060000         | 0010600           | 001060007         | 3:Female          | 39                | 2:Married         | 2:Rural           | \n",
       "| 001060000         | 0010600           | 001060008         | 3:Female          | 16                | 1:Not yet married | 2:Rural           | \n",
       "| 001060004         | 0010651           | 001065102         | 1:Male            | 30                | 2:Married         | 2:Rural           | \n",
       "| 001080003         | 0010851           | 001080003         | 1:Male            | 36                | 2:Married         | 2:Rural           | \n",
       "\n",
       "\n"
      ],
      "text/plain": [
       "  hhid14_9  hhid14  pidlink   sex      age marstat           urban_rural\n",
       "1 001060000 0010600 001060001 1:Male   59  2:Married         2:Rural    \n",
       "2 001060004 0010651 001060004 3:Female 28  2:Married         2:Rural    \n",
       "3 001060000 0010600 001060007 3:Female 39  2:Married         2:Rural    \n",
       "4 001060000 0010600 001060008 3:Female 16  1:Not yet married 2:Rural    \n",
       "5 001060004 0010651 001065102 1:Male   30  2:Married         2:Rural    \n",
       "6 001080003 0010851 001080003 1:Male   36  2:Married         2:Rural    "
      ]
     },
     "metadata": {},
     "output_type": "display_data"
    },
    {
     "name": "stdout",
     "output_type": "stream",
     "text": [
      "'data.frame':\t36391 obs. of  7 variables:\n",
      " $ hhid14_9   : chr  \"001060000\" \"001060004\" \"001060000\" \"001060000\" ...\n",
      " $ hhid14     : chr  \"0010600\" \"0010651\" \"0010600\" \"0010600\" ...\n",
      " $ pidlink    : chr  \"001060001\" \"001060004\" \"001060007\" \"001060008\" ...\n",
      " $ sex        : Factor w/ 2 levels \"1:Male\",\"3:Female\": 1 2 2 2 1 1 1 2 1 2 ...\n",
      " $ age        : num  59 28 39 16 30 36 26 40 55 54 ...\n",
      " $ marstat    : Factor w/ 7 levels \"1:Not yet married\",..: 2 2 2 1 2 2 1 2 2 2 ...\n",
      " $ urban_rural: Factor w/ 2 levels \"1:Urban\",\"2:Rural\": 2 2 2 2 2 2 2 2 2 2 ...\n"
     ]
    },
    {
     "data": {
      "text/plain": [
       "   hhid14_9            hhid14            pidlink                sex       \n",
       " Length:36391       Length:36391       Length:36391       1:Male  :17560  \n",
       " Class :character   Class :character   Class :character   3:Female:18825  \n",
       " Mode  :character   Mode  :character   Mode  :character   NA's    :    6  \n",
       "                                                                          \n",
       "                                                                          \n",
       "                                                                          \n",
       "                                                                          \n",
       "      age                     marstat       urban_rural   \n",
       " Min.   : 14.0   2:Married        :25800   1:Urban:21887  \n",
       " 1st Qu.: 26.0   1:Not yet married: 7215   2:Rural:14504  \n",
       " Median : 35.0   5:Widowed        : 2366                  \n",
       " Mean   : 38.5   4:Divorced       :  819                  \n",
       " 3rd Qu.: 48.0   3:Separated      :  178                  \n",
       " Max.   :998.0   (Other)          :    7                  \n",
       " NA's   :6       NA's             :    6                  "
      ]
     },
     "metadata": {},
     "output_type": "display_data"
    }
   ],
   "source": [
    "# Sex, age and marstat\n",
    "\n",
    "b3a_cov <- read.dta(\"b3a_cov.dta\") \n",
    "head(b3a_cov)\n",
    "sex_age_marstat <- b3a_cov %>%\n",
    "    select(hhid14_9, hhid14, pidlink, sex, age, marstat)\n",
    "head(sex_age_marstat)\n",
    "\n",
    "# Residence\n",
    "\n",
    "bk_sc1 <- read.dta(\"bk_sc1.dta\") \n",
    "head(bk_sc1)\n",
    "str(bk_sc1)\n",
    "urban_rural <- bk_sc1 %>%\n",
    "    select(hhid14_9, hhid14, sc05)\n",
    "urban_rural <- rename(urban_rural, \"urban_rural\" = sc05)\n",
    "head(urban_rural)\n",
    "\n",
    "demographic <- left_join(sex_age_marstat, urban_rural, by = c(\"hhid14_9\",\"hhid14\")) #merged \n",
    "head(demographic)   \n",
    "str(demographic)\n",
    "summary(demographic)"
   ]
  },
  {
   "cell_type": "code",
   "execution_count": 18,
   "metadata": {
    "scrolled": true
   },
   "outputs": [
    {
     "data": {
      "text/html": [
       "<table>\n",
       "<thead><tr><th scope=col>hhid14_9</th><th scope=col>pid14</th><th scope=col>us07_0</th><th scope=col>us07aa</th><th scope=col>us07ax</th><th scope=col>us07a1</th><th scope=col>us07a2</th><th scope=col>us07ap</th><th scope=col>us07a_cd</th><th scope=col>us07a_1</th><th scope=col>⋯</th><th scope=col>us18</th><th scope=col>us18b_hr</th><th scope=col>us18b_min</th><th scope=col>us18b_ket</th><th scope=col>us14</th><th scope=col>us18c</th><th scope=col>hhid14</th><th scope=col>pidlink</th><th scope=col>version</th><th scope=col>module</th></tr></thead>\n",
       "<tbody>\n",
       "\t<tr><td>001060000            </td><td> 1                   </td><td>1:Enter 1 to continue</td><td>3:No                 </td><td>1:Yes                </td><td>146                  </td><td>93                   </td><td>114                  </td><td>NA                   </td><td>1:Left               </td><td>⋯                    </td><td>3:No                 </td><td>17                   </td><td> 5                   </td><td>1                    </td><td>6                    </td><td>W                    </td><td>0010600              </td><td>001060001            </td><td>1.3                  </td><td>BUS_US               </td></tr>\n",
       "\t<tr><td>001060004            </td><td> 1                   </td><td>1:Enter 1 to continue</td><td>3:No                 </td><td>1:Yes                </td><td>113                  </td><td>70                   </td><td> 85                  </td><td>NA                   </td><td>1:Left               </td><td>⋯                    </td><td>3:No                 </td><td>20                   </td><td> 0                   </td><td>2                    </td><td>7                    </td><td>W                    </td><td>0010651              </td><td>001060004            </td><td>1.3                  </td><td>BUS_US               </td></tr>\n",
       "\t<tr><td>001060000            </td><td> 7                   </td><td>1:Enter 1 to continue</td><td>3:No                 </td><td>1:Yes                </td><td>112                  </td><td>70                   </td><td> 49                  </td><td>NA                   </td><td>1:Left               </td><td>⋯                    </td><td>3:No                 </td><td> 6                   </td><td>30                   </td><td>1                    </td><td>5                    </td><td>W                    </td><td>0010600              </td><td>001060007            </td><td>1.3                  </td><td>BUS_US               </td></tr>\n",
       "\t<tr><td>001060000            </td><td> 8                   </td><td>1:Enter 1 to continue</td><td>3:No                 </td><td>1:Yes                </td><td>144                  </td><td>84                   </td><td> 78                  </td><td>NA                   </td><td>1:Left               </td><td>⋯                    </td><td>3:No                 </td><td>17                   </td><td> 5                   </td><td>1                    </td><td>8                    </td><td>W                    </td><td>0010600              </td><td>001060008            </td><td>1.3                  </td><td>BUS_US               </td></tr>\n",
       "\t<tr><td>001060000                                     </td><td> 9                                            </td><td>1:Enter 1 to continue                         </td><td>6:Age &lt; 15                                 </td><td>6:Age &lt; 15                                 </td><td> NA                                           </td><td>NA                                            </td><td> NA                                           </td><td>NA                                            </td><td><span style=white-space:pre-wrap>NA    </span></td><td>⋯                                             </td><td>3:No                                          </td><td> 6                                            </td><td>30                                            </td><td>1                                             </td><td>5                                             </td><td>W                                             </td><td>0010600                                       </td><td>001060009                                     </td><td>1.3                                           </td><td>BUS_US                                        </td></tr>\n",
       "\t<tr><td>001060000                                     </td><td>10                                            </td><td>1:Enter 1 to continue                         </td><td>6:Age &lt; 15                                 </td><td>6:Age &lt; 15                                 </td><td> NA                                           </td><td>NA                                            </td><td> NA                                           </td><td>NA                                            </td><td><span style=white-space:pre-wrap>NA    </span></td><td>⋯                                             </td><td>3:No                                          </td><td> 6                                            </td><td>30                                            </td><td>1                                             </td><td>8                                             </td><td>W                                             </td><td>0010600                                       </td><td>001060010                                     </td><td>1.3                                           </td><td>BUS_US                                        </td></tr>\n",
       "</tbody>\n",
       "</table>\n"
      ],
      "text/latex": [
       "\\begin{tabular}{r|lllllllllllllllllllllllllllllllllllllllllllllllllllllllllllllllllllllllllllllllllllllllllllllllllllllllllllllllllllllllllllllllllllllllllllllll}\n",
       " hhid14\\_9 & pid14 & us07\\_0 & us07aa & us07ax & us07a1 & us07a2 & us07ap & us07a\\_cd & us07a\\_1 & ⋯ & us18 & us18b\\_hr & us18b\\_min & us18b\\_ket & us14 & us18c & hhid14 & pidlink & version & module\\\\\n",
       "\\hline\n",
       "\t 001060000             &  1                    & 1:Enter 1 to continue & 3:No                  & 1:Yes                 & 146                   & 93                    & 114                   & NA                    & 1:Left                & ⋯                     & 3:No                  & 17                    &  5                    & 1                     & 6                     & W                     & 0010600               & 001060001             & 1.3                   & BUS\\_US             \\\\\n",
       "\t 001060004             &  1                    & 1:Enter 1 to continue & 3:No                  & 1:Yes                 & 113                   & 70                    &  85                   & NA                    & 1:Left                & ⋯                     & 3:No                  & 20                    &  0                    & 2                     & 7                     & W                     & 0010651               & 001060004             & 1.3                   & BUS\\_US             \\\\\n",
       "\t 001060000             &  7                    & 1:Enter 1 to continue & 3:No                  & 1:Yes                 & 112                   & 70                    &  49                   & NA                    & 1:Left                & ⋯                     & 3:No                  &  6                    & 30                    & 1                     & 5                     & W                     & 0010600               & 001060007             & 1.3                   & BUS\\_US             \\\\\n",
       "\t 001060000             &  8                    & 1:Enter 1 to continue & 3:No                  & 1:Yes                 & 144                   & 84                    &  78                   & NA                    & 1:Left                & ⋯                     & 3:No                  & 17                    &  5                    & 1                     & 8                     & W                     & 0010600               & 001060008             & 1.3                   & BUS\\_US             \\\\\n",
       "\t 001060000             &  9                    & 1:Enter 1 to continue & 6:Age < 15            & 6:Age < 15            &  NA                   & NA                    &  NA                   & NA                    & NA                    & ⋯                     & 3:No                  &  6                    & 30                    & 1                     & 5                     & W                     & 0010600               & 001060009             & 1.3                   & BUS\\_US             \\\\\n",
       "\t 001060000             & 10                    & 1:Enter 1 to continue & 6:Age < 15            & 6:Age < 15            &  NA                   & NA                    &  NA                   & NA                    & NA                    & ⋯                     & 3:No                  &  6                    & 30                    & 1                     & 8                     & W                     & 0010600               & 001060010             & 1.3                   & BUS\\_US             \\\\\n",
       "\\end{tabular}\n"
      ],
      "text/markdown": [
       "\n",
       "hhid14_9 | pid14 | us07_0 | us07aa | us07ax | us07a1 | us07a2 | us07ap | us07a_cd | us07a_1 | ⋯ | us18 | us18b_hr | us18b_min | us18b_ket | us14 | us18c | hhid14 | pidlink | version | module | \n",
       "|---|---|---|---|---|---|\n",
       "| 001060000             |  1                    | 1:Enter 1 to continue | 3:No                  | 1:Yes                 | 146                   | 93                    | 114                   | NA                    | 1:Left                | ⋯                     | 3:No                  | 17                    |  5                    | 1                     | 6                     | W                     | 0010600               | 001060001             | 1.3                   | BUS_US                | \n",
       "| 001060004             |  1                    | 1:Enter 1 to continue | 3:No                  | 1:Yes                 | 113                   | 70                    |  85                   | NA                    | 1:Left                | ⋯                     | 3:No                  | 20                    |  0                    | 2                     | 7                     | W                     | 0010651               | 001060004             | 1.3                   | BUS_US                | \n",
       "| 001060000             |  7                    | 1:Enter 1 to continue | 3:No                  | 1:Yes                 | 112                   | 70                    |  49                   | NA                    | 1:Left                | ⋯                     | 3:No                  |  6                    | 30                    | 1                     | 5                     | W                     | 0010600               | 001060007             | 1.3                   | BUS_US                | \n",
       "| 001060000             |  8                    | 1:Enter 1 to continue | 3:No                  | 1:Yes                 | 144                   | 84                    |  78                   | NA                    | 1:Left                | ⋯                     | 3:No                  | 17                    |  5                    | 1                     | 8                     | W                     | 0010600               | 001060008             | 1.3                   | BUS_US                | \n",
       "| 001060000             |  9                    | 1:Enter 1 to continue | 6:Age < 15            | 6:Age < 15            |  NA                   | NA                    |  NA                   | NA                    | NA                    | ⋯                     | 3:No                  |  6                    | 30                    | 1                     | 5                     | W                     | 0010600               | 001060009             | 1.3                   | BUS_US                | \n",
       "| 001060000             | 10                    | 1:Enter 1 to continue | 6:Age < 15            | 6:Age < 15            |  NA                   | NA                    |  NA                   | NA                    | NA                    | ⋯                     | 3:No                  |  6                    | 30                    | 1                     | 8                     | W                     | 0010600               | 001060010             | 1.3                   | BUS_US                | \n",
       "\n",
       "\n"
      ],
      "text/plain": [
       "  hhid14_9  pid14 us07_0                us07aa     us07ax     us07a1 us07a2\n",
       "1 001060000  1    1:Enter 1 to continue 3:No       1:Yes      146    93    \n",
       "2 001060004  1    1:Enter 1 to continue 3:No       1:Yes      113    70    \n",
       "3 001060000  7    1:Enter 1 to continue 3:No       1:Yes      112    70    \n",
       "4 001060000  8    1:Enter 1 to continue 3:No       1:Yes      144    84    \n",
       "5 001060000  9    1:Enter 1 to continue 6:Age < 15 6:Age < 15  NA    NA    \n",
       "6 001060000 10    1:Enter 1 to continue 6:Age < 15 6:Age < 15  NA    NA    \n",
       "  us07ap us07a_cd us07a_1 ⋯ us18 us18b_hr us18b_min us18b_ket us14 us18c\n",
       "1 114    NA       1:Left  ⋯ 3:No 17        5        1         6    W    \n",
       "2  85    NA       1:Left  ⋯ 3:No 20        0        2         7    W    \n",
       "3  49    NA       1:Left  ⋯ 3:No  6       30        1         5    W    \n",
       "4  78    NA       1:Left  ⋯ 3:No 17        5        1         8    W    \n",
       "5  NA    NA       NA      ⋯ 3:No  6       30        1         5    W    \n",
       "6  NA    NA       NA      ⋯ 3:No  6       30        1         8    W    \n",
       "  hhid14  pidlink   version module\n",
       "1 0010600 001060001 1.3     BUS_US\n",
       "2 0010651 001060004 1.3     BUS_US\n",
       "3 0010600 001060007 1.3     BUS_US\n",
       "4 0010600 001060008 1.3     BUS_US\n",
       "5 0010600 001060009 1.3     BUS_US\n",
       "6 0010600 001060010 1.3     BUS_US"
      ]
     },
     "metadata": {},
     "output_type": "display_data"
    },
    {
     "name": "stdout",
     "output_type": "stream",
     "text": [
      "'data.frame':\t48139 obs. of  143 variables:\n",
      " $ hhid14_9 : chr  \"001060000\" \"001060004\" \"001060000\" \"001060000\" ...\n",
      " $ pid14    : num  1 1 7 8 9 10 11 2 3 4 ...\n",
      " $ us07_0   : Factor w/ 1 level \"1:Enter 1 to continue\": 1 1 1 1 1 1 1 1 1 1 ...\n",
      " $ us07aa   : Factor w/ 4 levels \"1:Yes\",\"3:No\",..: 2 2 2 2 3 3 3 2 3 3 ...\n",
      " $ us07ax   : Factor w/ 5 levels \"1:Yes\",\"3:Why not measured\",..: 1 1 1 1 3 3 3 1 3 3 ...\n",
      " $ us07a1   : num  146 113 112 144 NA NA NA 143 NA NA ...\n",
      " $ us07a2   : num  93 70 70 84 NA NA NA 90 NA NA ...\n",
      " $ us07ap   : num  114 85 49 78 NA NA NA 54 NA NA ...\n",
      " $ us07a_cd : num  NA NA NA NA NA NA NA NA NA NA ...\n",
      " $ us07a_1  : Factor w/ 4 levels \"1:Left\",\"3:Right\",..: 1 1 1 1 NA NA NA 1 NA NA ...\n",
      " $ us07bx   : Factor w/ 5 levels \"1:Yes\",\"3:Why not measured\",..: 1 1 1 1 3 3 3 1 3 3 ...\n",
      " $ us07b1   : num  138 111 107 134 NA NA NA 140 NA NA ...\n",
      " $ us07b2   : num  82 69 69 89 NA NA NA 93 NA NA ...\n",
      " $ us07bp   : num  104 85 57 79 NA NA NA 56 NA NA ...\n",
      " $ us07b_cd : num  NA NA NA NA NA NA NA NA NA NA ...\n",
      " $ us07b_1  : Factor w/ 4 levels \"1:Left\",\"3:Right\",..: 2 2 2 2 NA NA NA 2 NA NA ...\n",
      " $ us07cx   : Factor w/ 5 levels \"1:Yes\",\"3:Why not measured\",..: 1 1 1 1 3 3 3 1 3 3 ...\n",
      " $ us07c1   : num  133 99 113 138 NA NA NA 142 NA NA ...\n",
      " $ us07c2   : num  82 70 72 78 NA NA NA 89 NA NA ...\n",
      " $ us07cp   : num  101 89 56 75 NA NA NA 55 NA NA ...\n",
      " $ us07c_cd : num  NA NA NA NA NA NA NA NA NA NA ...\n",
      " $ us07c_1  : Factor w/ 4 levels \"1:Left\",\"3:Right\",..: 1 1 1 1 NA NA NA 1 NA NA ...\n",
      " $ us06_0   : Factor w/ 1 level \"1:Enter 1 to  continue\": 1 1 1 1 1 1 1 1 1 1 ...\n",
      " $ us06x    : Factor w/ 4 levels \"1:Yes\",\"3:Why not measured\",..: 1 1 1 1 1 1 1 1 1 1 ...\n",
      " $ us06     : num  51.8 41.2 54.2 48.3 31 13.1 5.3 54.2 16.2 10 ...\n",
      " $ us06_cd  : num  NA NA NA NA NA NA NA NA NA NA ...\n",
      " $ us04x    : Factor w/ 4 levels \"1:Yes\",\"3:Why not measured\",..: 1 1 1 1 1 1 1 1 1 1 ...\n",
      " $ us04     : num  146 139 157 149 134 ...\n",
      " $ us04_cd  : Factor w/ 10 levels \"1:R felt it would not be safe\",..: NA NA NA NA NA NA NA NA NA NA ...\n",
      " $ us05     : Factor w/ 3 levels \"1:Standing\",\"3:Lying\",..: 1 1 1 1 1 1 2 1 1 1 ...\n",
      " $ us05_0   : Factor w/ 1 level \"1:Enter 1 to be continue\": 1 1 1 1 1 1 1 1 1 1 ...\n",
      " $ us05ax   : Factor w/ 5 levels \"1:Measured\",\"3:Reason not measured\",..: 1 3 3 3 3 3 3 3 3 3 ...\n",
      " $ us05a    : num  46.1 NA NA NA NA NA NA NA NA NA ...\n",
      " $ us05a_cd : num  NA NA NA NA NA NA NA NA NA NA ...\n",
      " $ us05b    : Factor w/ 4 levels \"1:Left\",\"3:Right\",..: 2 NA NA NA NA NA NA NA NA NA ...\n",
      " $ us05_00  : Factor w/ 1 level \"1:Enter 1 to continue\": 1 NA NA NA NA NA NA NA NA NA ...\n",
      " $ us05cx   : Factor w/ 5 levels \"1:Measured\",\"3:Reason not measured\",..: 1 3 3 3 3 3 3 3 3 3 ...\n",
      " $ us05c    : num  32.1 NA NA NA NA NA NA NA NA NA ...\n",
      " $ us05c_cd : num  NA NA NA NA NA NA NA NA NA NA ...\n",
      " $ us05d    : Factor w/ 4 levels \"1:Left\",\"3:Right\",..: 2 NA NA NA NA NA NA NA NA NA ...\n",
      " $ us06_00  : num  1 NA NA NA NA NA NA NA NA NA ...\n",
      " $ us06ax   : Factor w/ 5 levels \"1:Yes\",\"3:Why not measured\",..: 1 3 3 3 3 3 3 3 3 3 ...\n",
      " $ us06a    : num  84.3 NA NA NA NA NA NA NA NA NA ...\n",
      " $ us06a_cd : num  NA NA NA NA NA NA NA NA NA NA ...\n",
      " $ us06bx   : Factor w/ 5 levels \"1:Yes\",\"3:Why not measured\",..: 1 3 3 3 3 3 3 3 3 3 ...\n",
      " $ us06b    : num  93.1 NA NA NA NA NA NA NA NA NA ...\n",
      " $ us06b_cd : num  NA NA NA NA NA NA NA NA NA NA ...\n",
      " $ us10_0   : Factor w/ 1 level \"1:Enter 1 to  continue\": 1 1 1 1 1 1 1 1 1 1 ...\n",
      " $ us10aa   : Factor w/ 4 levels \"1:Measured\",\"3:Reason not measured\",..: 2 2 2 2 3 3 3 2 3 3 ...\n",
      " $ us10x    : Factor w/ 6 levels \"1:Yes\",\"2:Less than 5 times\",..: 1 1 1 1 NA NA NA 1 NA NA ...\n",
      " $ us10_1   : num  11.19 6.72 17.57 9.25 NA ...\n",
      " $ us10_2   : num  NA NA NA NA NA NA NA NA NA NA ...\n",
      " $ us10_cd  : Factor w/ 10 levels \"1:R felt it would not be safe\",..: NA NA NA NA NA NA NA NA NA NA ...\n",
      " $ us11     : num  NA NA NA NA NA NA NA NA NA NA ...\n",
      " $ us11a    : Factor w/ 10 levels \"1:R felt it would not be safe\",..: NA NA NA NA NA NA NA NA NA NA ...\n",
      " $ us12     : Factor w/ 3 levels \"1:Yes\",\"3:No\",..: 2 2 2 2 NA NA NA 2 NA NA ...\n",
      " $ us12a    : Factor w/ 4 levels \"1:Yes\",\"2:No, because of pain, illness or other physical reasons\",..: 1 1 3 1 NA NA NA 1 NA NA ...\n",
      " $ us20_0   : Factor w/ 1 level \"1:Enter 1 to be continue\": 1 1 1 1 NA NA NA 1 NA NA ...\n",
      " $ us20aa   : Factor w/ 6 levels \"1:Yes, in both hands\",..: 4 4 4 4 5 5 5 4 5 5 ...\n",
      " $ us20     : Factor w/ 5 levels \"1:Left\",\"2:Right\",..: 2 2 2 2 4 4 4 2 4 4 ...\n",
      " $ us20ax   : Factor w/ 5 levels \"1:Measured\",\"3:Reason not measured\",..: 1 1 1 1 3 3 3 1 3 3 ...\n",
      " $ us20a    : num  20 20 14 28 NA NA NA 42 NA NA ...\n",
      " $ us20a_cd : num  NA NA NA NA NA NA NA NA NA NA ...\n",
      " $ us20bx   : Factor w/ 5 levels \"1:Measured\",\"3:Reason not measured\",..: 1 1 1 1 3 3 3 1 3 3 ...\n",
      " $ us20b    : num  28 32 20 32 NA NA NA 40 NA NA ...\n",
      " $ us20b_cd : num  NA NA NA NA NA NA NA NA NA NA ...\n",
      " $ us20cx   : Factor w/ 5 levels \"1:Measured\",\"3:Reason not measured\",..: 1 1 1 1 3 3 3 1 3 3 ...\n",
      " $ us20c    : num  28 30 20 24 NA NA NA 46 NA NA ...\n",
      " $ us20c_cd : num  NA NA NA NA NA NA NA NA NA NA ...\n",
      " $ us20dx   : Factor w/ 5 levels \"1:Measured\",\"3:Reason not measured\",..: 1 1 1 1 3 3 3 1 3 3 ...\n",
      " $ us20d    : num  30 30 22 30 NA NA NA 40 NA NA ...\n",
      " $ us20d_cd : num  NA NA NA NA NA NA NA NA NA NA ...\n",
      " $ us23     : Factor w/ 4 levels \"1:Standing\",\"2:Sitting\",..: 1 2 1 1 3 3 3 1 3 3 ...\n",
      " $ us23a    : Factor w/ 4 levels \"1:Yes\",\"2:No, because of pain, illness or other physical reasons\",..: 1 1 1 1 3 3 3 1 3 3 ...\n",
      " $ us18aa   : Factor w/ 3 levels \"1:Yes\",\"3:No\",..: 2 2 2 2 2 2 2 2 2 2 ...\n",
      " $ us18ab   : Factor w/ 3 levels \"1:Yes\",\"3:No\",..: 2 2 2 2 2 2 2 2 2 2 ...\n",
      " $ us18ac   : Factor w/ 3 levels \"1:Yes\",\"3:No\",..: 2 2 2 2 2 2 2 2 2 2 ...\n",
      " $ us18ad   : Factor w/ 3 levels \"1:Yes\",\"3:No\",..: 2 2 2 2 2 2 2 2 2 2 ...\n",
      " $ us19a    : Factor w/ 3 levels \"1:Yes\",\"3:No --> US09A\",..: NA 2 2 2 2 2 2 2 2 2 ...\n",
      " $ us19_0   : Factor w/ 1 level \"1:Enter 1 to  continue\": 1 NA NA NA NA NA NA NA NA NA ...\n",
      " $ us19b    : Factor w/ 4 levels \"1:Measured\",\"3:Reason not measured\",..: 1 NA NA NA NA NA NA NA NA NA ...\n",
      " $ us19b_cd : num  NA NA NA NA NA NA NA NA NA NA ...\n",
      " $ us19c    : Factor w/ 4 levels \"1:Yes\",\"3:Less than 10 seconds\",..: 1 NA NA NA NA NA NA NA NA NA ...\n",
      " $ us19c1   : num  NA NA NA NA NA NA NA NA NA NA ...\n",
      " $ us19d    : Factor w/ 3 levels \"1:Yes\",\"3:No\",..: 2 NA NA NA NA NA NA NA NA NA ...\n",
      " $ us19e    : Factor w/ 3 levels \"1:Yes\",\"3:No --> US19L\",..: 1 NA NA NA NA NA NA NA NA NA ...\n",
      " $ us19f    : Factor w/ 3 levels \"1:Yes\",\"3:No --> (45<=age<70)\",..: 2 NA NA NA NA NA NA NA NA NA ...\n",
      " $ us19g    : Factor w/ 4 levels \"1:Measured --> US19i\",..: NA NA NA NA NA NA NA NA NA NA ...\n",
      " $ us19g_cd : num  NA NA NA NA NA NA NA NA NA NA ...\n",
      " $ us19h    : Factor w/ 4 levels \"1:Measured\",\"3:Reason not measured\",..: 1 NA NA NA NA NA NA NA NA NA ...\n",
      " $ us19h_cd : num  NA NA NA NA NA NA NA NA NA NA ...\n",
      " $ us19i    : Factor w/ 4 levels \"1:Yes\",\"3:Less than 60 seconds\",..: 1 NA NA NA NA NA NA NA NA NA ...\n",
      " $ us19i1   : num  NA NA NA NA NA NA NA NA NA NA ...\n",
      " $ us19j    : Factor w/ 3 levels \"1:Yes\",\"3:No\",..: 1 NA NA NA NA NA NA NA NA NA ...\n",
      " $ us19k    : Factor w/ 6 levels \"1:Tile / wood\",..: 1 NA NA NA NA NA NA NA NA NA ...\n",
      " $ us19l    : Factor w/ 4 levels \"1:Measured\",\"3:Reason not measured\",..: NA NA NA NA NA NA NA NA NA NA ...\n",
      " $ us19l_cd : num  NA NA NA NA NA NA NA NA NA NA ...\n",
      " $ us19m    : Factor w/ 4 levels \"1:Yes\",\"3:Less than 10 seconds\",..: NA NA NA NA NA NA NA NA NA NA ...\n",
      " $ us19m1   : num  NA NA NA NA NA NA NA NA NA NA ...\n",
      "  [list output truncated]\n",
      " - attr(*, \"datalabel\")= chr \"\"\n",
      " - attr(*, \"time.stamp\")= chr \"\"\n",
      " - attr(*, \"formats\")= chr  \"%10s\" \"%12.0g\" \"%12.0g\" \"%12.0g\" ...\n",
      " - attr(*, \"types\")= int  10 255 255 255 255 255 255 255 255 255 ...\n",
      " - attr(*, \"val.labels\")= chr  \"\" \"\" \"us07_0\" \"us07aa\" ...\n",
      " - attr(*, \"var.labels\")= chr  \"2014 Household ID (9-digit)\" \"2014 PID\" \"INTRO:  BLOOD PRESSURE MEASUREMENT\" \"Do you have a rash, a cast, edema (swelling) in the arm, etwhere the blood press\" ...\n",
      " - attr(*, \"version\")= int -7\n",
      " - attr(*, \"label.table\")=List of 78\n",
      "  ..$ us07_0 : Named int 1\n",
      "  .. ..- attr(*, \"names\")= chr \"1:Enter 1 to continue\"\n",
      "  ..$ us07aa : Named int  1 3 6 9\n",
      "  .. ..- attr(*, \"names\")= chr  \"1:Yes\" \"3:No\" \"6:Age < 15\" \"9:Missing\"\n",
      "  ..$ us07ax : Named int  1 3 6 7 9\n",
      "  .. ..- attr(*, \"names\")= chr  \"1:Yes\" \"3:Why not measured\" \"6:Age < 15\" \"7:Refused\" ...\n",
      "  ..$ us07a_1: Named int  1 3 6 9\n",
      "  .. ..- attr(*, \"names\")= chr  \"1:Left\" \"3:Right\" \"6:NA\" \"9:Missing\"\n",
      "  ..$ us07bx : Named int  1 3 6 7 9\n",
      "  .. ..- attr(*, \"names\")= chr  \"1:Yes\" \"3:Why not measured\" \"6:Age < 15\" \"7:Refused\" ...\n",
      "  ..$ us07b_1: Named int  1 3 6 9\n",
      "  .. ..- attr(*, \"names\")= chr  \"1:Left\" \"3:Right\" \"6:NA\" \"9:Missing\"\n",
      "  ..$ us07cx : Named int  1 3 6 7 9\n",
      "  .. ..- attr(*, \"names\")= chr  \"1:Yes\" \"3:Why not measured\" \"6:Age < 15\" \"7:Refused\" ...\n",
      "  ..$ us07c_1: Named int  1 3 6 9\n",
      "  .. ..- attr(*, \"names\")= chr  \"1:Left\" \"3:Right\" \"6:NA\" \"9:Missing\"\n",
      "  ..$ us06_0 : Named int 1\n",
      "  .. ..- attr(*, \"names\")= chr \"1:Enter 1 to  continue\"\n",
      "  ..$ us06x  : Named int  1 3 7 9\n",
      "  .. ..- attr(*, \"names\")= chr  \"1:Yes\" \"3:Why not measured\" \"7:Refused\" \"9:Missing\"\n",
      "  ..$ us06_cd: Named int  1 2 3 4 5 6 7 8 9\n",
      "  .. ..- attr(*, \"names\")= chr  \"1:R felt it would not be safe\" \"2:interviewer felt it would not be safe\" \"3:R tried but was unable to complete the measurement/test\" \"4:R did not understand instructions\" ...\n",
      "  ..$ us04x  : Named int  1 3 7 9\n",
      "  .. ..- attr(*, \"names\")= chr  \"1:Yes\" \"3:Why not measured\" \"7:Refused\" \"9:Missing\"\n",
      "  ..$ us04_cd: Named int  1 2 3 4 5 6 7 8 9 10\n",
      "  .. ..- attr(*, \"names\")= chr  \"1:R felt it would not be safe\" \"2:interviewer felt it would not be safe\" \"3:R tried but was unable to complete the measurement/test\" \"4:R did not understand instructions\" ...\n",
      "  ..$ us05   : Named int  1 3 9\n",
      "  .. ..- attr(*, \"names\")= chr  \"1:Standing\" \"3:Lying\" \"9:Missing\"\n",
      "  ..$ us05_0 : Named int 1\n",
      "  .. ..- attr(*, \"names\")= chr \"1:Enter 1 to be continue\"\n",
      "  ..$ us05ax : Named int  1 3 6 7 9\n",
      "  .. ..- attr(*, \"names\")= chr  \"1:Measured\" \"3:Reason not measured\" \"6:<40 years\" \"7:Refused\" ...\n",
      "  ..$ us05b  : Named int  1 3 6 9\n",
      "  .. ..- attr(*, \"names\")= chr  \"1:Left\" \"3:Right\" \"6:NA\" \"9:Missing\"\n",
      "  ..$ us05_00: Named int 1\n",
      "  .. ..- attr(*, \"names\")= chr \"1:Enter 1 to continue\"\n",
      "  ..$ us05cx : Named int  1 3 6 7 9\n",
      "  .. ..- attr(*, \"names\")= chr  \"1:Measured\" \"3:Reason not measured\" \"6:<40 years\" \"7:Refused\" ...\n",
      "  ..$ us05d  : Named int  1 3 6 9\n",
      "  .. ..- attr(*, \"names\")= chr  \"1:Left\" \"3:Right\" \"6:NA\" \"9:Missing\"\n",
      "  ..$ us06ax : Named int  1 3 6 7 9\n",
      "  .. ..- attr(*, \"names\")= chr  \"1:Yes\" \"3:Why not measured\" \"6:< 40\" \"7:Refused\" ...\n",
      "  ..$ us06bx : Named int  1 3 6 7 9\n",
      "  .. ..- attr(*, \"names\")= chr  \"1:Yes\" \"3:Why not measured\" \"6:< 40\" \"7:Refused\" ...\n",
      "  ..$ us10_0 : Named int 1\n",
      "  .. ..- attr(*, \"names\")= chr \"1:Enter 1 to  continue\"\n",
      "  ..$ us10aa : Named int  1 3 6 9\n",
      "  .. ..- attr(*, \"names\")= chr  \"1:Measured\" \"3:Reason not measured\" \"6:<15 years/moved/not yet contacted\" \"9:Missing\"\n",
      "  ..$ us10x  : Named int  1 2 3 6 7 9\n",
      "  .. ..- attr(*, \"names\")= chr  \"1:Yes\" \"2:Less than 5 times\" \"3:Not measured\" \"6:< 15 years old\" ...\n",
      "  ..$ us10_cd: Named int  1 2 3 4 5 6 7 8 9 10\n",
      "  .. ..- attr(*, \"names\")= chr  \"1:R felt it would not be safe\" \"2:interviewer felt it would not be safe\" \"3:R tried but was unable to complete the measurement/test\" \"4:R did not understand instructions\" ...\n",
      "  ..$ us11   : Named int 9\n",
      "  .. ..- attr(*, \"names\")= chr \"9:Missing\"\n",
      "  ..$ us11a  : Named int  1 2 3 4 5 6 7 8 9 10\n",
      "  .. ..- attr(*, \"names\")= chr  \"1:R felt it would not be safe\" \"2:interviewer felt it would not be safe\" \"3:R tried but was unable to complete the measurement/test\" \"4:R did not understand instructions\" ...\n",
      "  ..$ us12   : Named int  1 3 9\n",
      "  .. ..- attr(*, \"names\")= chr  \"1:Yes\" \"3:No\" \"9:Missing\"\n",
      "  ..$ us12a  : Named int  1 2 3 9\n",
      "  .. ..- attr(*, \"names\")= chr  \"1:Yes\" \"2:No, because of pain, illness or other physical reasons\" \"3:No, for other reasons\" \"9:Missing\"\n",
      "  ..$ us20_0 : Named int 1\n",
      "  .. ..- attr(*, \"names\")= chr \"1:Enter 1 to be continue\"\n",
      "  ..$ us20aa : Named int  1 2 3 4 6 9\n",
      "  .. ..- attr(*, \"names\")= chr  \"1:Yes, in both hands\" \"2:Yes, the left hand\" \"3:Yes, the right hand\" \"4:No\" ...\n",
      "  ..$ us20   : Named int  1 2 3 6 9\n",
      "  .. ..- attr(*, \"names\")= chr  \"1:Left\" \"2:Right\" \"3:Ambidextrous\" \"6:Both hand not functioning or Age < 15\" ...\n",
      "  ..$ us20ax : Named int  1 3 6 7 9\n",
      "  .. ..- attr(*, \"names\")= chr  \"1:Measured\" \"3:Reason not measured\" \"6:<15 years/moved/not yet contacted\" \"7:Refused\" ...\n",
      "  ..$ us20bx : Named int  1 3 6 7 9\n",
      "  .. ..- attr(*, \"names\")= chr  \"1:Measured\" \"3:Reason not measured\" \"6:<15 years/moved/not yet contacted\" \"7:Refused\" ...\n",
      "  ..$ us20cx : Named int  1 3 6 7 9\n",
      "  .. ..- attr(*, \"names\")= chr  \"1:Measured\" \"3:Reason not measured\" \"6:<15 years/moved/not yet contacted\" \"7:Refused\" ...\n",
      "  ..$ us20dx : Named int  1 3 6 7 9\n",
      "  .. ..- attr(*, \"names\")= chr  \"1:Measured\" \"3:Reason not measured\" \"6:<15 years/moved/not yet contacted\" \"7:Refused\" ...\n",
      "  ..$ us23   : Named int  1 2 6 9\n",
      "  .. ..- attr(*, \"names\")= chr  \"1:Standing\" \"2:Sitting\" \"6:Both hand not functioning or Age < 15\" \"9:Missing\"\n",
      "  ..$ us23a  : Named int  1 2 3 9\n",
      "  .. ..- attr(*, \"names\")= chr  \"1:Yes\" \"2:No, because of pain, illness or other physical reasons\" \"3:No, for other reasons\" \"9:Missing\"\n",
      "  ..$ us18aa : Named int  1 3 9\n",
      "  .. ..- attr(*, \"names\")= chr  \"1:Yes\" \"3:No\" \"9:Missing\"\n",
      "  ..$ us18ab : Named int  1 3 9\n",
      "  .. ..- attr(*, \"names\")= chr  \"1:Yes\" \"3:No\" \"9:Missing\"\n",
      "  ..$ us18ac : Named int  1 3 9\n",
      "  .. ..- attr(*, \"names\")= chr  \"1:Yes\" \"3:No\" \"9:Missing\"\n",
      "  ..$ us18ad : Named int  1 3 9\n",
      "  .. ..- attr(*, \"names\")= chr  \"1:Yes\" \"3:No\" \"9:Missing\"\n",
      "  ..$ us19a  : Named int  1 3 9\n",
      "  .. ..- attr(*, \"names\")= chr  \"1:Yes\" \"3:No --> US09A\" \"9:Missing\"\n",
      "  ..$ us19_0 : Named int 1\n",
      "  .. ..- attr(*, \"names\")= chr \"1:Enter 1 to  continue\"\n",
      "  ..$ us19b  : Named int  1 3 7 9\n",
      "  .. ..- attr(*, \"names\")= chr  \"1:Measured\" \"3:Reason not measured\" \"7:Refused\" \"9:Missing\"\n",
      "  ..$ us19c  : Named int  1 3 4 9\n",
      "  .. ..- attr(*, \"names\")= chr  \"1:Yes\" \"3:Less than 10 seconds\" \"4:Tried but failed --> US19L\" \"9:Missing\"\n",
      "  ..$ us19d  : Named int  1 3 9\n",
      "  .. ..- attr(*, \"names\")= chr  \"1:Yes\" \"3:No\" \"9:Missing\"\n",
      "  ..$ us19e  : Named int  1 3 9\n",
      "  .. ..- attr(*, \"names\")= chr  \"1:Yes\" \"3:No --> US19L\" \"9:Missing\"\n",
      "  ..$ us19f  : Named int  1 3 9\n",
      "  .. ..- attr(*, \"names\")= chr  \"1:Yes\" \"3:No --> (45<=age<70)\" \"9:Missing\"\n",
      "  ..$ us19g  : Named int  1 3 7 9\n",
      "  .. ..- attr(*, \"names\")= chr  \"1:Measured --> US19i\" \"3:Reason not measured\" \"7:Refused --> US19p\" \"9:Missing\"\n",
      "  ..$ us19h  : Named int  1 3 7 9\n",
      "  .. ..- attr(*, \"names\")= chr  \"1:Measured\" \"3:Reason not measured\" \"7:Refused --> US19p\" \"9:Missing\"\n",
      "  ..$ us19i  : Named int  1 3 4 9\n",
      "  .. ..- attr(*, \"names\")= chr  \"1:Yes\" \"3:Less than 60 seconds\" \"4:Tried but failed --> US19P\" \"9:Missing\"\n",
      "  ..$ us19j  : Named int  1 3 9\n",
      "  .. ..- attr(*, \"names\")= chr  \"1:Yes\" \"3:No\" \"9:Missing\"\n",
      "  ..$ us19k  : Named int  1 2 3 4 5 9\n",
      "  .. ..- attr(*, \"names\")= chr  \"1:Tile / wood\" \"2:Carpet\" \"3:Land\" \"4:Concrete\" ...\n",
      "  ..$ us19l  : Named int  1 3 7 9\n",
      "  .. ..- attr(*, \"names\")= chr  \"1:Measured\" \"3:Reason not measured\" \"7:Refused --> US19P\" \"9:Missing\"\n",
      "  ..$ us19m  : Named int  1 3 4 9\n",
      "  .. ..- attr(*, \"names\")= chr  \"1:Yes\" \"3:Less than 10 seconds\" \"4:Tried but failed --> US19P\" \"9:Missing\"\n",
      "  ..$ us19n  : Named int  1 3 9\n",
      "  .. ..- attr(*, \"names\")= chr  \"1:Yes\" \"3:No\" \"9:Missing\"\n",
      "  ..$ us19o  : Named int  1 2 3 4 5 9\n",
      "  .. ..- attr(*, \"names\")= chr  \"1:Tile / wood\" \"2:Carpet\" \"3:Land\" \"4:Concrete\" ...\n",
      "  ..$ us19p  : Named int  1 3 6 9\n",
      "  .. ..- attr(*, \"names\")= chr  \"1:Yes\" \"3:No\" \"6:<60year\" \"9:Missing\"\n",
      "  ..$ us19qx : Named int  1 3 6 7 9\n",
      "  .. ..- attr(*, \"names\")= chr  \"1:Measured\" \"3:Reason not measured\" \"6:< 60 year -->US09A\" \"7:Refused --> US09A\" ...\n",
      "  ..$ us19rx : Named int  1 3 7 9\n",
      "  .. ..- attr(*, \"names\")= chr  \"1:Measured\" \"3:Reason not measured\" \"7:Refused\" \"9:Missing\"\n",
      "  ..$ us19s  : Named int  1 2 3 4 5 9\n",
      "  .. ..- attr(*, \"names\")= chr  \"1:Tile / wood\" \"2:Carpet\" \"3:Land\" \"4:Concrete\" ...\n",
      "  ..$ us19t  : Named int  1 2 3 4 5 9\n",
      "  .. ..- attr(*, \"names\")= chr  \"1:None\" \"2:Walking stick\" \"3:Elbow crutches\" \"4:Walking frame\" ...\n",
      "  ..$ us09_0 : Named int 1\n",
      "  .. ..- attr(*, \"names\")= chr \"1:Enter 1 to  continue\"\n",
      "  ..$ us09ax : Named int  1 3 6 7 9\n",
      "  .. ..- attr(*, \"names\")= chr  \"1:Measured\" \"3:Reason not measured\" \"6:< 9 years old\" \"7:Rejected\" ...\n",
      "  ..$ us09bx : Named int  1 3 6 7 9\n",
      "  .. ..- attr(*, \"names\")= chr  \"1:Measured\" \"3:Reason not measured\" \"6:< 9 years old\" \"7:Rejected\" ...\n",
      "  ..$ us09cx : Named int  1 3 6 7 9\n",
      "  .. ..- attr(*, \"names\")= chr  \"1:Measured\" \"3:Reason not measured\" \"6:< 9 years old\" \"7:Rejected\" ...\n",
      "  ..$ us09d  : Named int  1 2 3 9\n",
      "  .. ..- attr(*, \"names\")= chr  \"1:Yes\" \"2:No, because of pain, illness or other physical reasons\" \"3:No, for other reasons\" \"9:Missing\"\n",
      "  ..$ us13_0 : Named int 1\n",
      "  .. ..- attr(*, \"names\")= chr \"1:Enter 1 to continue\"\n",
      "  ..$ us13x  : Named int  1 3 6 7 9\n",
      "  .. ..- attr(*, \"names\")= chr  \"1:Yes\" \"3:Why don't measured\" \"6:Age < 1\" \"7:Refused\" ...\n",
      "  ..$ us13_cd: Named int  1 2 3 4 5 6 7 8 9 10\n",
      "  .. ..- attr(*, \"names\")= chr  \"1:R felt it would not be safe\" \"2:interviewer felt it would not be safe\" \"3:R tried but was unable to complete the measurement/test\" \"4:R did not understand instructions\" ...\n",
      "  ..$ us13ab : Named int  1 3 9\n",
      "  .. ..- attr(*, \"names\")= chr  \"1:Yes\" \"3:No\" \"9:Missing\"\n",
      "  ..$ us13ax : Named int  1 3 6 7 9\n",
      "  .. ..- attr(*, \"names\")= chr  \"1:Yes\" \"3:Why not measured\" \"6:Age < 1\" \"7:Refused\" ...\n",
      "  ..$ us15a  : Named int  1 3 6 9\n",
      "  .. ..- attr(*, \"names\")= chr  \"1:Yes\" \"3:No\" \"6:Male / Female <15 years old or >49 years old\" \"9:Missing\"\n",
      "  ..$ us15b  : Named int  1 3 6 9\n",
      "  .. ..- attr(*, \"names\")= chr  \"1:Yes\" \"3:No\" \"6:Male / Female <15 years old or >49 years old\" \"9:Missing\"\n",
      "  ..$ us15c  : Named int  1 3 6 9\n",
      "  .. ..- attr(*, \"names\")= chr  \"1:Yes\" \"3:No\" \"6:Male / Female <15 years old or >49 years old\" \"9:Missing\"\n",
      "  ..$ us18   : Named int  1 3 9\n",
      "  .. ..- attr(*, \"names\")= chr  \"1:Yes\" \"3:No\" \"9:Missing\"\n"
     ]
    },
    {
     "data": {
      "text/html": [
       "<table>\n",
       "<thead><tr><th scope=col>pidlink</th><th scope=col>height_cm</th><th scope=col>weight_kg</th><th scope=col>waist</th><th scope=col>height_reason</th><th scope=col>weight_reason</th><th scope=col>waist_reason</th><th scope=col>height_m</th><th scope=col>bmi</th></tr></thead>\n",
       "<tbody>\n",
       "\t<tr><td>001060001</td><td>146.5    </td><td>51.8     </td><td>84.3     </td><td>1:Yes    </td><td>1:Yes    </td><td>1:Yes    </td><td>1.465    </td><td>24.13540 </td></tr>\n",
       "\t<tr><td>001060004                                   </td><td>139.4                                       </td><td>41.2                                        </td><td><span style=white-space:pre-wrap>  NA</span></td><td>1:Yes                                       </td><td>1:Yes                                       </td><td>6:&lt; 40                                   </td><td>1.394                                       </td><td>21.20175                                    </td></tr>\n",
       "\t<tr><td>001060007                                   </td><td>156.6                                       </td><td>54.2                                        </td><td><span style=white-space:pre-wrap>  NA</span></td><td>1:Yes                                       </td><td>1:Yes                                       </td><td>6:&lt; 40                                   </td><td>1.566                                       </td><td>22.10120                                    </td></tr>\n",
       "\t<tr><td>001060008                                   </td><td>148.6                                       </td><td>48.3                                        </td><td><span style=white-space:pre-wrap>  NA</span></td><td>1:Yes                                       </td><td>1:Yes                                       </td><td>6:&lt; 40                                   </td><td>1.486                                       </td><td>21.87306                                    </td></tr>\n",
       "\t<tr><td>001060009                                   </td><td>134.2                                       </td><td>31.0                                        </td><td><span style=white-space:pre-wrap>  NA</span></td><td>1:Yes                                       </td><td>1:Yes                                       </td><td>6:&lt; 40                                   </td><td>1.342                                       </td><td>17.21300                                    </td></tr>\n",
       "\t<tr><td>001060010                                   </td><td> 89.1                                       </td><td>13.1                                        </td><td><span style=white-space:pre-wrap>  NA</span></td><td>1:Yes                                       </td><td>1:Yes                                       </td><td>6:&lt; 40                                   </td><td>0.891                                       </td><td>16.50121                                    </td></tr>\n",
       "</tbody>\n",
       "</table>\n"
      ],
      "text/latex": [
       "\\begin{tabular}{r|lllllllll}\n",
       " pidlink & height\\_cm & weight\\_kg & waist & height\\_reason & weight\\_reason & waist\\_reason & height\\_m & bmi\\\\\n",
       "\\hline\n",
       "\t 001060001 & 146.5     & 51.8      & 84.3      & 1:Yes     & 1:Yes     & 1:Yes     & 1.465     & 24.13540 \\\\\n",
       "\t 001060004 & 139.4     & 41.2      &   NA      & 1:Yes     & 1:Yes     & 6:< 40    & 1.394     & 21.20175 \\\\\n",
       "\t 001060007 & 156.6     & 54.2      &   NA      & 1:Yes     & 1:Yes     & 6:< 40    & 1.566     & 22.10120 \\\\\n",
       "\t 001060008 & 148.6     & 48.3      &   NA      & 1:Yes     & 1:Yes     & 6:< 40    & 1.486     & 21.87306 \\\\\n",
       "\t 001060009 & 134.2     & 31.0      &   NA      & 1:Yes     & 1:Yes     & 6:< 40    & 1.342     & 17.21300 \\\\\n",
       "\t 001060010 &  89.1     & 13.1      &   NA      & 1:Yes     & 1:Yes     & 6:< 40    & 0.891     & 16.50121 \\\\\n",
       "\\end{tabular}\n"
      ],
      "text/markdown": [
       "\n",
       "pidlink | height_cm | weight_kg | waist | height_reason | weight_reason | waist_reason | height_m | bmi | \n",
       "|---|---|---|---|---|---|\n",
       "| 001060001 | 146.5     | 51.8      | 84.3      | 1:Yes     | 1:Yes     | 1:Yes     | 1.465     | 24.13540  | \n",
       "| 001060004 | 139.4     | 41.2      |   NA      | 1:Yes     | 1:Yes     | 6:< 40    | 1.394     | 21.20175  | \n",
       "| 001060007 | 156.6     | 54.2      |   NA      | 1:Yes     | 1:Yes     | 6:< 40    | 1.566     | 22.10120  | \n",
       "| 001060008 | 148.6     | 48.3      |   NA      | 1:Yes     | 1:Yes     | 6:< 40    | 1.486     | 21.87306  | \n",
       "| 001060009 | 134.2     | 31.0      |   NA      | 1:Yes     | 1:Yes     | 6:< 40    | 1.342     | 17.21300  | \n",
       "| 001060010 |  89.1     | 13.1      |   NA      | 1:Yes     | 1:Yes     | 6:< 40    | 0.891     | 16.50121  | \n",
       "\n",
       "\n"
      ],
      "text/plain": [
       "  pidlink   height_cm weight_kg waist height_reason weight_reason waist_reason\n",
       "1 001060001 146.5     51.8      84.3  1:Yes         1:Yes         1:Yes       \n",
       "2 001060004 139.4     41.2        NA  1:Yes         1:Yes         6:< 40      \n",
       "3 001060007 156.6     54.2        NA  1:Yes         1:Yes         6:< 40      \n",
       "4 001060008 148.6     48.3        NA  1:Yes         1:Yes         6:< 40      \n",
       "5 001060009 134.2     31.0        NA  1:Yes         1:Yes         6:< 40      \n",
       "6 001060010  89.1     13.1        NA  1:Yes         1:Yes         6:< 40      \n",
       "  height_m bmi     \n",
       "1 1.465    24.13540\n",
       "2 1.394    21.20175\n",
       "3 1.566    22.10120\n",
       "4 1.486    21.87306\n",
       "5 1.342    17.21300\n",
       "6 0.891    16.50121"
      ]
     },
     "metadata": {},
     "output_type": "display_data"
    },
    {
     "data": {
      "text/plain": [
       "   pidlink            height_cm       weight_kg          waist       \n",
       " Length:48139       Min.   : 42.0   Min.   :  1.50   Min.   : 32.00  \n",
       " Class :character   1st Qu.:136.6   1st Qu.: 31.40   1st Qu.: 75.30  \n",
       " Mode  :character   Median :151.4   Median : 49.40   Median : 83.60  \n",
       "                    Mean   :142.8   Mean   : 45.97   Mean   : 84.02  \n",
       "                    3rd Qu.:159.7   3rd Qu.: 59.60   3rd Qu.: 92.00  \n",
       "                    Max.   :198.0   Max.   :142.30   Max.   :150.00  \n",
       "                    NA's   :280     NA's   :210      NA's   :34916   \n",
       "            height_reason              weight_reason  \n",
       " 1:Yes             :47859   1:Yes             :47929  \n",
       " 3:Why not measured:  189   3:Why not measured:  194  \n",
       " 7:Refused         :   91   7:Refused         :   15  \n",
       " 9:Missing         :    0   9:Missing         :    1  \n",
       "                                                      \n",
       "                                                      \n",
       "                                                      \n",
       "             waist_reason      height_m          bmi        \n",
       " 1:Yes             :13223   Min.   :0.420   Min.   : 3.727  \n",
       " 3:Why not measured:  116   1st Qu.:1.366   1st Qu.:16.917  \n",
       " 6:< 40            :34785   Median :1.514   Median :20.497  \n",
       " 7:Refused         :   15   Mean   :1.428   Mean   :21.040  \n",
       " 9:Missing         :    0   3rd Qu.:1.597   3rd Qu.:24.388  \n",
       "                            Max.   :1.980   Max.   :68.763  \n",
       "                            NA's   :280     NA's   :356     "
      ]
     },
     "metadata": {},
     "output_type": "display_data"
    }
   ],
   "source": [
    "#Obesity (waist and bmi)\n",
    "\n",
    "bus_us <- read.dta(\"bus_us.dta\") \n",
    "head(bus_us) \n",
    "str(bus_us)\n",
    "obesity <- bus_us %>%\n",
    "    select(pidlink, us04, us06, us06a, us04x, us06x, us06ax) %>%\n",
    "    mutate(\"height_m\" = us04/100) %>%\n",
    "    mutate(\"bmi\" = us06 / (height_m^2))\n",
    "    \n",
    "obesity <- rename(obesity, \"height_cm\" = us04, \"weight_kg\" = us06, \"waist\" = us06a, \"height_reason\" = us04x, \"weight_reason\" = us06x, \"waist_reason\" = us06ax)\n",
    "head(obesity)\n",
    "summary(obesity)"
   ]
  },
  {
   "cell_type": "code",
   "execution_count": 19,
   "metadata": {
    "scrolled": true
   },
   "outputs": [
    {
     "data": {
      "text/html": [
       "<table>\n",
       "<thead><tr><th scope=col>pidlink</th><th scope=col>cdtype</th><th scope=col>hypertension_diag</th><th scope=col>hyper_medication</th></tr></thead>\n",
       "<tbody>\n",
       "\t<tr><td>001060001</td><td>A        </td><td>3:No     </td><td>NA       </td></tr>\n",
       "\t<tr><td>001060004</td><td>A        </td><td>3:No     </td><td>NA       </td></tr>\n",
       "\t<tr><td>001060007</td><td>A        </td><td>3:No     </td><td>NA       </td></tr>\n",
       "\t<tr><td>001060008</td><td>A        </td><td>3:No     </td><td>NA       </td></tr>\n",
       "\t<tr><td>001065102</td><td>A        </td><td>3:No     </td><td>NA       </td></tr>\n",
       "\t<tr><td>001080003</td><td>A        </td><td>3:No     </td><td>NA       </td></tr>\n",
       "</tbody>\n",
       "</table>\n"
      ],
      "text/latex": [
       "\\begin{tabular}{r|llll}\n",
       " pidlink & cdtype & hypertension\\_diag & hyper\\_medication\\\\\n",
       "\\hline\n",
       "\t 001060001 & A         & 3:No      & NA       \\\\\n",
       "\t 001060004 & A         & 3:No      & NA       \\\\\n",
       "\t 001060007 & A         & 3:No      & NA       \\\\\n",
       "\t 001060008 & A         & 3:No      & NA       \\\\\n",
       "\t 001065102 & A         & 3:No      & NA       \\\\\n",
       "\t 001080003 & A         & 3:No      & NA       \\\\\n",
       "\\end{tabular}\n"
      ],
      "text/markdown": [
       "\n",
       "pidlink | cdtype | hypertension_diag | hyper_medication | \n",
       "|---|---|---|---|---|---|\n",
       "| 001060001 | A         | 3:No      | NA        | \n",
       "| 001060004 | A         | 3:No      | NA        | \n",
       "| 001060007 | A         | 3:No      | NA        | \n",
       "| 001060008 | A         | 3:No      | NA        | \n",
       "| 001065102 | A         | 3:No      | NA        | \n",
       "| 001080003 | A         | 3:No      | NA        | \n",
       "\n",
       "\n"
      ],
      "text/plain": [
       "  pidlink   cdtype hypertension_diag hyper_medication\n",
       "1 001060001 A      3:No              NA              \n",
       "2 001060004 A      3:No              NA              \n",
       "3 001060007 A      3:No              NA              \n",
       "4 001060008 A      3:No              NA              \n",
       "5 001065102 A      3:No              NA              \n",
       "6 001080003 A      3:No              NA              "
      ]
     },
     "metadata": {},
     "output_type": "display_data"
    },
    {
     "name": "stdout",
     "output_type": "stream",
     "text": [
      "'data.frame':\t34257 obs. of  4 variables:\n",
      " $ pidlink          : chr  \"001060001\" \"001060004\" \"001060007\" \"001060008\" ...\n",
      " $ cdtype           : chr  \"A\" \"A\" \"A\" \"A\" ...\n",
      " $ hypertension_diag: Factor w/ 4 levels \"1:Yes\",\"3:No\",..: 2 2 2 2 2 2 2 2 1 2 ...\n",
      " $ hyper_medication : Factor w/ 3 levels \"1:Yes\",\"3:No\",..: NA NA NA NA NA NA NA NA 1 NA ...\n",
      " - attr(*, \"datalabel\")= chr \"\"\n",
      " - attr(*, \"time.stamp\")= chr \"\"\n",
      " - attr(*, \"formats\")= chr  \"%10s\" \"%12.0g\" \"%2s\" \"%12.0g\" ...\n",
      " - attr(*, \"types\")= int  10 255 2 255 2 255 255 255 255 255 ...\n",
      " - attr(*, \"val.labels\")= chr  \"\" \"\" \"\" \"cd05\" ...\n",
      " - attr(*, \"var.labels\")= chr  \"2014 Household ID (9-digit)\" \"2014 PID\" \"Type chronic conditions\" \"Have a doctor/paramedic ever told you that you had [...] ?\" ...\n",
      " - attr(*, \"version\")= int -7\n",
      " - attr(*, \"label.table\")=List of 6\n",
      "  ..$ cd05   : Named int  1 3 8 9\n",
      "  .. ..- attr(*, \"names\")= chr  \"1:Yes\" \"3:No\" \"8:Don't know\" \"9:Missing\"\n",
      "  ..$ cd07x  : Named int  1 2 8 9\n",
      "  .. ..- attr(*, \"names\")= chr  \"1:Given date\" \"2:Age\" \"8:Don't know\" \"9:Missing\"\n",
      "  ..$ cd07mth: Named int  1 2 3 4 5 6 7 8 9 10 ...\n",
      "  .. ..- attr(*, \"names\")= chr  \"1:January\" \"2:Pebruary\" \"3:March\" \"4:April\" ...\n",
      "  ..$ cd08   : Named int  1 2 3 4 9\n",
      "  .. ..- attr(*, \"names\")= chr  \"1:Doctor\" \"2:Paramedic\" \"3:Nurse\" \"4:midwife\" ...\n",
      "  ..$ cd09   : Named int  1 3 9\n",
      "  .. ..- attr(*, \"names\")= chr  \"1:Yes\" \"3:No\" \"9:Missing\"\n",
      "  ..$ cd10   : Named int  1 2 3 4 8 9\n",
      "  .. ..- attr(*, \"names\")= chr  \"1:Yes\" \"2:Yes\" \"3:No\" \"4:No\" ...\n"
     ]
    },
    {
     "data": {
      "text/plain": [
       "   pidlink             cdtype             hypertension_diag  hyper_medication\n",
       " Length:34257       Length:34257       1:Yes       : 4204   1:Yes    : 1130  \n",
       " Class :character   Class :character   3:No        :30035   3:No     : 3074  \n",
       " Mode  :character   Mode  :character   8:Don't know:   18   9:Missing:    0  \n",
       "                                       9:Missing   :    0   NA's     :30053  "
      ]
     },
     "metadata": {},
     "output_type": "display_data"
    },
    {
     "data": {
      "text/html": [
       "<table>\n",
       "<thead><tr><th scope=col>hhid14_9</th><th scope=col>pid14</th><th scope=col>us07_0</th><th scope=col>us07aa</th><th scope=col>us07ax</th><th scope=col>us07a1</th><th scope=col>us07a2</th><th scope=col>us07ap</th><th scope=col>us07a_cd</th><th scope=col>us07a_1</th><th scope=col>⋯</th><th scope=col>us18</th><th scope=col>us18b_hr</th><th scope=col>us18b_min</th><th scope=col>us18b_ket</th><th scope=col>us14</th><th scope=col>us18c</th><th scope=col>hhid14</th><th scope=col>pidlink</th><th scope=col>version</th><th scope=col>module</th></tr></thead>\n",
       "<tbody>\n",
       "\t<tr><td>001060000            </td><td> 1                   </td><td>1:Enter 1 to continue</td><td>3:No                 </td><td>1:Yes                </td><td>146                  </td><td>93                   </td><td>114                  </td><td>NA                   </td><td>1:Left               </td><td>⋯                    </td><td>3:No                 </td><td>17                   </td><td> 5                   </td><td>1                    </td><td>6                    </td><td>W                    </td><td>0010600              </td><td>001060001            </td><td>1.3                  </td><td>BUS_US               </td></tr>\n",
       "\t<tr><td>001060004            </td><td> 1                   </td><td>1:Enter 1 to continue</td><td>3:No                 </td><td>1:Yes                </td><td>113                  </td><td>70                   </td><td> 85                  </td><td>NA                   </td><td>1:Left               </td><td>⋯                    </td><td>3:No                 </td><td>20                   </td><td> 0                   </td><td>2                    </td><td>7                    </td><td>W                    </td><td>0010651              </td><td>001060004            </td><td>1.3                  </td><td>BUS_US               </td></tr>\n",
       "\t<tr><td>001060000            </td><td> 7                   </td><td>1:Enter 1 to continue</td><td>3:No                 </td><td>1:Yes                </td><td>112                  </td><td>70                   </td><td> 49                  </td><td>NA                   </td><td>1:Left               </td><td>⋯                    </td><td>3:No                 </td><td> 6                   </td><td>30                   </td><td>1                    </td><td>5                    </td><td>W                    </td><td>0010600              </td><td>001060007            </td><td>1.3                  </td><td>BUS_US               </td></tr>\n",
       "\t<tr><td>001060000            </td><td> 8                   </td><td>1:Enter 1 to continue</td><td>3:No                 </td><td>1:Yes                </td><td>144                  </td><td>84                   </td><td> 78                  </td><td>NA                   </td><td>1:Left               </td><td>⋯                    </td><td>3:No                 </td><td>17                   </td><td> 5                   </td><td>1                    </td><td>8                    </td><td>W                    </td><td>0010600              </td><td>001060008            </td><td>1.3                  </td><td>BUS_US               </td></tr>\n",
       "\t<tr><td>001060000                                     </td><td> 9                                            </td><td>1:Enter 1 to continue                         </td><td>6:Age &lt; 15                                 </td><td>6:Age &lt; 15                                 </td><td> NA                                           </td><td>NA                                            </td><td> NA                                           </td><td>NA                                            </td><td><span style=white-space:pre-wrap>NA    </span></td><td>⋯                                             </td><td>3:No                                          </td><td> 6                                            </td><td>30                                            </td><td>1                                             </td><td>5                                             </td><td>W                                             </td><td>0010600                                       </td><td>001060009                                     </td><td>1.3                                           </td><td>BUS_US                                        </td></tr>\n",
       "\t<tr><td>001060000                                     </td><td>10                                            </td><td>1:Enter 1 to continue                         </td><td>6:Age &lt; 15                                 </td><td>6:Age &lt; 15                                 </td><td> NA                                           </td><td>NA                                            </td><td> NA                                           </td><td>NA                                            </td><td><span style=white-space:pre-wrap>NA    </span></td><td>⋯                                             </td><td>3:No                                          </td><td> 6                                            </td><td>30                                            </td><td>1                                             </td><td>8                                             </td><td>W                                             </td><td>0010600                                       </td><td>001060010                                     </td><td>1.3                                           </td><td>BUS_US                                        </td></tr>\n",
       "</tbody>\n",
       "</table>\n"
      ],
      "text/latex": [
       "\\begin{tabular}{r|lllllllllllllllllllllllllllllllllllllllllllllllllllllllllllllllllllllllllllllllllllllllllllllllllllllllllllllllllllllllllllllllllllllllllllllll}\n",
       " hhid14\\_9 & pid14 & us07\\_0 & us07aa & us07ax & us07a1 & us07a2 & us07ap & us07a\\_cd & us07a\\_1 & ⋯ & us18 & us18b\\_hr & us18b\\_min & us18b\\_ket & us14 & us18c & hhid14 & pidlink & version & module\\\\\n",
       "\\hline\n",
       "\t 001060000             &  1                    & 1:Enter 1 to continue & 3:No                  & 1:Yes                 & 146                   & 93                    & 114                   & NA                    & 1:Left                & ⋯                     & 3:No                  & 17                    &  5                    & 1                     & 6                     & W                     & 0010600               & 001060001             & 1.3                   & BUS\\_US             \\\\\n",
       "\t 001060004             &  1                    & 1:Enter 1 to continue & 3:No                  & 1:Yes                 & 113                   & 70                    &  85                   & NA                    & 1:Left                & ⋯                     & 3:No                  & 20                    &  0                    & 2                     & 7                     & W                     & 0010651               & 001060004             & 1.3                   & BUS\\_US             \\\\\n",
       "\t 001060000             &  7                    & 1:Enter 1 to continue & 3:No                  & 1:Yes                 & 112                   & 70                    &  49                   & NA                    & 1:Left                & ⋯                     & 3:No                  &  6                    & 30                    & 1                     & 5                     & W                     & 0010600               & 001060007             & 1.3                   & BUS\\_US             \\\\\n",
       "\t 001060000             &  8                    & 1:Enter 1 to continue & 3:No                  & 1:Yes                 & 144                   & 84                    &  78                   & NA                    & 1:Left                & ⋯                     & 3:No                  & 17                    &  5                    & 1                     & 8                     & W                     & 0010600               & 001060008             & 1.3                   & BUS\\_US             \\\\\n",
       "\t 001060000             &  9                    & 1:Enter 1 to continue & 6:Age < 15            & 6:Age < 15            &  NA                   & NA                    &  NA                   & NA                    & NA                    & ⋯                     & 3:No                  &  6                    & 30                    & 1                     & 5                     & W                     & 0010600               & 001060009             & 1.3                   & BUS\\_US             \\\\\n",
       "\t 001060000             & 10                    & 1:Enter 1 to continue & 6:Age < 15            & 6:Age < 15            &  NA                   & NA                    &  NA                   & NA                    & NA                    & ⋯                     & 3:No                  &  6                    & 30                    & 1                     & 8                     & W                     & 0010600               & 001060010             & 1.3                   & BUS\\_US             \\\\\n",
       "\\end{tabular}\n"
      ],
      "text/markdown": [
       "\n",
       "hhid14_9 | pid14 | us07_0 | us07aa | us07ax | us07a1 | us07a2 | us07ap | us07a_cd | us07a_1 | ⋯ | us18 | us18b_hr | us18b_min | us18b_ket | us14 | us18c | hhid14 | pidlink | version | module | \n",
       "|---|---|---|---|---|---|\n",
       "| 001060000             |  1                    | 1:Enter 1 to continue | 3:No                  | 1:Yes                 | 146                   | 93                    | 114                   | NA                    | 1:Left                | ⋯                     | 3:No                  | 17                    |  5                    | 1                     | 6                     | W                     | 0010600               | 001060001             | 1.3                   | BUS_US                | \n",
       "| 001060004             |  1                    | 1:Enter 1 to continue | 3:No                  | 1:Yes                 | 113                   | 70                    |  85                   | NA                    | 1:Left                | ⋯                     | 3:No                  | 20                    |  0                    | 2                     | 7                     | W                     | 0010651               | 001060004             | 1.3                   | BUS_US                | \n",
       "| 001060000             |  7                    | 1:Enter 1 to continue | 3:No                  | 1:Yes                 | 112                   | 70                    |  49                   | NA                    | 1:Left                | ⋯                     | 3:No                  |  6                    | 30                    | 1                     | 5                     | W                     | 0010600               | 001060007             | 1.3                   | BUS_US                | \n",
       "| 001060000             |  8                    | 1:Enter 1 to continue | 3:No                  | 1:Yes                 | 144                   | 84                    |  78                   | NA                    | 1:Left                | ⋯                     | 3:No                  | 17                    |  5                    | 1                     | 8                     | W                     | 0010600               | 001060008             | 1.3                   | BUS_US                | \n",
       "| 001060000             |  9                    | 1:Enter 1 to continue | 6:Age < 15            | 6:Age < 15            |  NA                   | NA                    |  NA                   | NA                    | NA                    | ⋯                     | 3:No                  |  6                    | 30                    | 1                     | 5                     | W                     | 0010600               | 001060009             | 1.3                   | BUS_US                | \n",
       "| 001060000             | 10                    | 1:Enter 1 to continue | 6:Age < 15            | 6:Age < 15            |  NA                   | NA                    |  NA                   | NA                    | NA                    | ⋯                     | 3:No                  |  6                    | 30                    | 1                     | 8                     | W                     | 0010600               | 001060010             | 1.3                   | BUS_US                | \n",
       "\n",
       "\n"
      ],
      "text/plain": [
       "  hhid14_9  pid14 us07_0                us07aa     us07ax     us07a1 us07a2\n",
       "1 001060000  1    1:Enter 1 to continue 3:No       1:Yes      146    93    \n",
       "2 001060004  1    1:Enter 1 to continue 3:No       1:Yes      113    70    \n",
       "3 001060000  7    1:Enter 1 to continue 3:No       1:Yes      112    70    \n",
       "4 001060000  8    1:Enter 1 to continue 3:No       1:Yes      144    84    \n",
       "5 001060000  9    1:Enter 1 to continue 6:Age < 15 6:Age < 15  NA    NA    \n",
       "6 001060000 10    1:Enter 1 to continue 6:Age < 15 6:Age < 15  NA    NA    \n",
       "  us07ap us07a_cd us07a_1 ⋯ us18 us18b_hr us18b_min us18b_ket us14 us18c\n",
       "1 114    NA       1:Left  ⋯ 3:No 17        5        1         6    W    \n",
       "2  85    NA       1:Left  ⋯ 3:No 20        0        2         7    W    \n",
       "3  49    NA       1:Left  ⋯ 3:No  6       30        1         5    W    \n",
       "4  78    NA       1:Left  ⋯ 3:No 17        5        1         8    W    \n",
       "5  NA    NA       NA      ⋯ 3:No  6       30        1         5    W    \n",
       "6  NA    NA       NA      ⋯ 3:No  6       30        1         8    W    \n",
       "  hhid14  pidlink   version module\n",
       "1 0010600 001060001 1.3     BUS_US\n",
       "2 0010651 001060004 1.3     BUS_US\n",
       "3 0010600 001060007 1.3     BUS_US\n",
       "4 0010600 001060008 1.3     BUS_US\n",
       "5 0010600 001060009 1.3     BUS_US\n",
       "6 0010600 001060010 1.3     BUS_US"
      ]
     },
     "metadata": {},
     "output_type": "display_data"
    },
    {
     "data": {
      "text/html": [
       "<table>\n",
       "<thead><tr><th scope=col>pidlink</th><th scope=col>sistol</th><th scope=col>diastol</th><th scope=col>hypertension_diag</th><th scope=col>hyper_medication</th></tr></thead>\n",
       "<tbody>\n",
       "\t<tr><td>001060001</td><td>139.0000 </td><td>85.66667 </td><td>3:No     </td><td>NA       </td></tr>\n",
       "\t<tr><td>001060004</td><td>107.6667 </td><td>69.66667 </td><td>3:No     </td><td>NA       </td></tr>\n",
       "\t<tr><td>001060007</td><td>110.6667 </td><td>70.33333 </td><td>3:No     </td><td>NA       </td></tr>\n",
       "\t<tr><td>001060008</td><td>138.6667 </td><td>83.66667 </td><td>3:No     </td><td>NA       </td></tr>\n",
       "\t<tr><td>001060009</td><td>      NA </td><td>      NA </td><td>NA       </td><td>NA       </td></tr>\n",
       "\t<tr><td>001060010</td><td>      NA </td><td>      NA </td><td>NA       </td><td>NA       </td></tr>\n",
       "</tbody>\n",
       "</table>\n"
      ],
      "text/latex": [
       "\\begin{tabular}{r|lllll}\n",
       " pidlink & sistol & diastol & hypertension\\_diag & hyper\\_medication\\\\\n",
       "\\hline\n",
       "\t 001060001 & 139.0000  & 85.66667  & 3:No      & NA       \\\\\n",
       "\t 001060004 & 107.6667  & 69.66667  & 3:No      & NA       \\\\\n",
       "\t 001060007 & 110.6667  & 70.33333  & 3:No      & NA       \\\\\n",
       "\t 001060008 & 138.6667  & 83.66667  & 3:No      & NA       \\\\\n",
       "\t 001060009 &       NA  &       NA  & NA        & NA       \\\\\n",
       "\t 001060010 &       NA  &       NA  & NA        & NA       \\\\\n",
       "\\end{tabular}\n"
      ],
      "text/markdown": [
       "\n",
       "pidlink | sistol | diastol | hypertension_diag | hyper_medication | \n",
       "|---|---|---|---|---|---|\n",
       "| 001060001 | 139.0000  | 85.66667  | 3:No      | NA        | \n",
       "| 001060004 | 107.6667  | 69.66667  | 3:No      | NA        | \n",
       "| 001060007 | 110.6667  | 70.33333  | 3:No      | NA        | \n",
       "| 001060008 | 138.6667  | 83.66667  | 3:No      | NA        | \n",
       "| 001060009 |       NA  |       NA  | NA        | NA        | \n",
       "| 001060010 |       NA  |       NA  | NA        | NA        | \n",
       "\n",
       "\n"
      ],
      "text/plain": [
       "  pidlink   sistol   diastol  hypertension_diag hyper_medication\n",
       "1 001060001 139.0000 85.66667 3:No              NA              \n",
       "2 001060004 107.6667 69.66667 3:No              NA              \n",
       "3 001060007 110.6667 70.33333 3:No              NA              \n",
       "4 001060008 138.6667 83.66667 3:No              NA              \n",
       "5 001060009       NA       NA NA                NA              \n",
       "6 001060010       NA       NA NA                NA              "
      ]
     },
     "metadata": {},
     "output_type": "display_data"
    },
    {
     "data": {
      "text/plain": [
       "   pidlink              sistol         diastol          hypertension_diag\n",
       " Length:49761       Min.   : 78.0   Min.   : 38.33   1:Yes       : 4204  \n",
       " Class :character   1st Qu.:114.0   1st Qu.: 70.67   3:No        :30035  \n",
       " Mode  :character   Median :123.7   Median : 77.33   8:Don't know:   18  \n",
       "                    Mean   :128.0   Mean   : 78.67   9:Missing   :    0  \n",
       "                    3rd Qu.:136.3   3rd Qu.: 85.00   NA's        :15504  \n",
       "                    Max.   :240.7   Max.   :153.33                       \n",
       "                    NA's   :17337   NA's   :17337                        \n",
       "  hyper_medication\n",
       " 1:Yes    : 1130  \n",
       " 3:No     : 3074  \n",
       " 9:Missing:    0  \n",
       " NA's     :45557  \n",
       "                  \n",
       "                  \n",
       "                  "
      ]
     },
     "metadata": {},
     "output_type": "display_data"
    }
   ],
   "source": [
    "#Hypertension from diagnose and using medication \n",
    "hypertension_medication <- b3b_cd3 %>%\n",
    "                select(pidlink, cdtype, cd05, cd09) %>% \n",
    "                filter(cdtype == 'A')\n",
    "hypertension_medication <- rename(hypertension_medication, \"hypertension_diag\" = cd05, \"hyper_medication\" = cd09)\n",
    "head(hypertension_medication)\n",
    "str(hypertension_medication)\n",
    "summary(hypertension_medication)\n",
    "\n",
    "#Hypertension from health measurement\n",
    "head(bus_us)\n",
    "hypertension <- bus_us %>%\n",
    "    select(pidlink, us07a1, us07a2, us07b1, us07b2, us07c1, us07c2) %>%\n",
    "    mutate(\"sistol\" = (us07a1 + us07b1 + us07c1)/3, \n",
    "           \"diastol\" = (us07a2 + us07b2 + us07c2)/3) %>%\n",
    "    select(pidlink, sistol, diastol) %>%\n",
    "    full_join(hypertension_medication, by = \"pidlink\") %>%\n",
    "    select(-cdtype)\n",
    "\n",
    "head(hypertension)\n",
    "summary(hypertension)"
   ]
  },
  {
   "cell_type": "code",
   "execution_count": 20,
   "metadata": {
    "scrolled": true
   },
   "outputs": [
    {
     "data": {
      "text/html": [
       "<table>\n",
       "<thead><tr><th scope=col>hhid14_9</th><th scope=col>pid14</th><th scope=col>dl01a</th><th scope=col>dl01f</th><th scope=col>dl01g</th><th scope=col>dl01h</th><th scope=col>dl01e</th><th scope=col>dl02</th><th scope=col>dl02a</th><th scope=col>dl03</th><th scope=col>⋯</th><th scope=col>dl16xd</th><th scope=col>dl30</th><th scope=col>dl40</th><th scope=col>dl41</th><th scope=col>dl42</th><th scope=col>dl43</th><th scope=col>hhid14</th><th scope=col>pidlink</th><th scope=col>version</th><th scope=col>module</th></tr></thead>\n",
       "<tbody>\n",
       "\t<tr><td>001060000       </td><td>1               </td><td>N               </td><td>M               </td><td>M               </td><td>M               </td><td>13:Nias         </td><td>1:Yes           </td><td>1:Yes           </td><td>1:Yes           </td><td>⋯               </td><td>NA              </td><td>NA              </td><td>                </td><td>NA              </td><td>NA              </td><td>                </td><td>0010600         </td><td>001060001       </td><td>1.3             </td><td>B3A_DL1         </td></tr>\n",
       "\t<tr><td>001060004       </td><td>1               </td><td>N               </td><td>M               </td><td>M               </td><td>M               </td><td>96:None         </td><td>1:Yes           </td><td>1:Yes           </td><td>1:Yes           </td><td>⋯               </td><td>2:New respondent</td><td>3:No            </td><td>                </td><td>NA              </td><td>NA              </td><td>                </td><td>0010651         </td><td>001060004       </td><td>1.3             </td><td>B3A_DL1         </td></tr>\n",
       "\t<tr><td>001060000       </td><td>7               </td><td>N               </td><td>M               </td><td>M               </td><td>M               </td><td>13:Nias         </td><td>3:No            </td><td>3:No            </td><td>3:No            </td><td>⋯               </td><td>2:New respondent</td><td>3:No            </td><td>                </td><td>NA              </td><td>NA              </td><td>                </td><td>0010600         </td><td>001060007       </td><td>1.3             </td><td>B3A_DL1         </td></tr>\n",
       "\t<tr><td>001060000       </td><td>8               </td><td>WN              </td><td>M               </td><td>M               </td><td>M               </td><td>13:Nias         </td><td>1:Yes           </td><td>1:Yes           </td><td>1:Yes           </td><td>⋯               </td><td>2:New respondent</td><td>1:Yes           </td><td>A               </td><td>3:No            </td><td>3:No            </td><td>                </td><td>0010600         </td><td>001060008       </td><td>1.3             </td><td>B3A_DL1         </td></tr>\n",
       "\t<tr><td>001060004       </td><td>2               </td><td>N               </td><td>M               </td><td>M               </td><td>M               </td><td>13:Nias         </td><td>1:Yes           </td><td>1:Yes           </td><td>1:Yes           </td><td>⋯               </td><td>2:New respondent</td><td>3:No            </td><td>                </td><td>NA              </td><td>NA              </td><td>                </td><td>0010651         </td><td>001065102       </td><td>1.3             </td><td>B3A_DL1         </td></tr>\n",
       "\t<tr><td>001080003       </td><td>1               </td><td>N               </td><td>M               </td><td>M               </td><td>M               </td><td>13:Nias         </td><td>3:No            </td><td>3:No            </td><td>3:No            </td><td>⋯               </td><td>2:New respondent</td><td>3:No            </td><td>                </td><td>NA              </td><td>NA              </td><td>                </td><td>0010851         </td><td>001080003       </td><td>1.3             </td><td>B3A_DL1         </td></tr>\n",
       "</tbody>\n",
       "</table>\n"
      ],
      "text/latex": [
       "\\begin{tabular}{r|lllllllllllllllllllllllllllllllllllllllllllllllll}\n",
       " hhid14\\_9 & pid14 & dl01a & dl01f & dl01g & dl01h & dl01e & dl02 & dl02a & dl03 & ⋯ & dl16xd & dl30 & dl40 & dl41 & dl42 & dl43 & hhid14 & pidlink & version & module\\\\\n",
       "\\hline\n",
       "\t 001060000        & 1                & N                & M                & M                & M                & 13:Nias          & 1:Yes            & 1:Yes            & 1:Yes            & ⋯                & NA               & NA               &                  & NA               & NA               &                  & 0010600          & 001060001        & 1.3              & B3A\\_DL1       \\\\\n",
       "\t 001060004        & 1                & N                & M                & M                & M                & 96:None          & 1:Yes            & 1:Yes            & 1:Yes            & ⋯                & 2:New respondent & 3:No             &                  & NA               & NA               &                  & 0010651          & 001060004        & 1.3              & B3A\\_DL1       \\\\\n",
       "\t 001060000        & 7                & N                & M                & M                & M                & 13:Nias          & 3:No             & 3:No             & 3:No             & ⋯                & 2:New respondent & 3:No             &                  & NA               & NA               &                  & 0010600          & 001060007        & 1.3              & B3A\\_DL1       \\\\\n",
       "\t 001060000        & 8                & WN               & M                & M                & M                & 13:Nias          & 1:Yes            & 1:Yes            & 1:Yes            & ⋯                & 2:New respondent & 1:Yes            & A                & 3:No             & 3:No             &                  & 0010600          & 001060008        & 1.3              & B3A\\_DL1       \\\\\n",
       "\t 001060004        & 2                & N                & M                & M                & M                & 13:Nias          & 1:Yes            & 1:Yes            & 1:Yes            & ⋯                & 2:New respondent & 3:No             &                  & NA               & NA               &                  & 0010651          & 001065102        & 1.3              & B3A\\_DL1       \\\\\n",
       "\t 001080003        & 1                & N                & M                & M                & M                & 13:Nias          & 3:No             & 3:No             & 3:No             & ⋯                & 2:New respondent & 3:No             &                  & NA               & NA               &                  & 0010851          & 001080003        & 1.3              & B3A\\_DL1       \\\\\n",
       "\\end{tabular}\n"
      ],
      "text/markdown": [
       "\n",
       "hhid14_9 | pid14 | dl01a | dl01f | dl01g | dl01h | dl01e | dl02 | dl02a | dl03 | ⋯ | dl16xd | dl30 | dl40 | dl41 | dl42 | dl43 | hhid14 | pidlink | version | module | \n",
       "|---|---|---|---|---|---|\n",
       "| 001060000        | 1                | N                | M                | M                | M                | 13:Nias          | 1:Yes            | 1:Yes            | 1:Yes            | ⋯                | NA               | NA               |                  | NA               | NA               |                  | 0010600          | 001060001        | 1.3              | B3A_DL1          | \n",
       "| 001060004        | 1                | N                | M                | M                | M                | 96:None          | 1:Yes            | 1:Yes            | 1:Yes            | ⋯                | 2:New respondent | 3:No             |                  | NA               | NA               |                  | 0010651          | 001060004        | 1.3              | B3A_DL1          | \n",
       "| 001060000        | 7                | N                | M                | M                | M                | 13:Nias          | 3:No             | 3:No             | 3:No             | ⋯                | 2:New respondent | 3:No             |                  | NA               | NA               |                  | 0010600          | 001060007        | 1.3              | B3A_DL1          | \n",
       "| 001060000        | 8                | WN               | M                | M                | M                | 13:Nias          | 1:Yes            | 1:Yes            | 1:Yes            | ⋯                | 2:New respondent | 1:Yes            | A                | 3:No             | 3:No             |                  | 0010600          | 001060008        | 1.3              | B3A_DL1          | \n",
       "| 001060004        | 2                | N                | M                | M                | M                | 13:Nias          | 1:Yes            | 1:Yes            | 1:Yes            | ⋯                | 2:New respondent | 3:No             |                  | NA               | NA               |                  | 0010651          | 001065102        | 1.3              | B3A_DL1          | \n",
       "| 001080003        | 1                | N                | M                | M                | M                | 13:Nias          | 3:No             | 3:No             | 3:No             | ⋯                | 2:New respondent | 3:No             |                  | NA               | NA               |                  | 0010851          | 001080003        | 1.3              | B3A_DL1          | \n",
       "\n",
       "\n"
      ],
      "text/plain": [
       "  hhid14_9  pid14 dl01a dl01f dl01g dl01h dl01e   dl02  dl02a dl03  ⋯\n",
       "1 001060000 1     N     M     M     M     13:Nias 1:Yes 1:Yes 1:Yes ⋯\n",
       "2 001060004 1     N     M     M     M     96:None 1:Yes 1:Yes 1:Yes ⋯\n",
       "3 001060000 7     N     M     M     M     13:Nias 3:No  3:No  3:No  ⋯\n",
       "4 001060000 8     WN    M     M     M     13:Nias 1:Yes 1:Yes 1:Yes ⋯\n",
       "5 001060004 2     N     M     M     M     13:Nias 1:Yes 1:Yes 1:Yes ⋯\n",
       "6 001080003 1     N     M     M     M     13:Nias 3:No  3:No  3:No  ⋯\n",
       "  dl16xd           dl30  dl40 dl41 dl42 dl43 hhid14  pidlink   version module \n",
       "1 NA               NA         NA   NA        0010600 001060001 1.3     B3A_DL1\n",
       "2 2:New respondent 3:No       NA   NA        0010651 001060004 1.3     B3A_DL1\n",
       "3 2:New respondent 3:No       NA   NA        0010600 001060007 1.3     B3A_DL1\n",
       "4 2:New respondent 1:Yes A    3:No 3:No      0010600 001060008 1.3     B3A_DL1\n",
       "5 2:New respondent 3:No       NA   NA        0010651 001065102 1.3     B3A_DL1\n",
       "6 2:New respondent 3:No       NA   NA        0010851 001080003 1.3     B3A_DL1"
      ]
     },
     "metadata": {},
     "output_type": "display_data"
    },
    {
     "data": {
      "text/html": [
       "<table>\n",
       "<thead><tr><th scope=col>pidlink</th><th scope=col>education</th></tr></thead>\n",
       "<tbody>\n",
       "\t<tr><td>001060001            </td><td>2:Elementary school  </td></tr>\n",
       "\t<tr><td>001060004            </td><td>2:Elementary school  </td></tr>\n",
       "\t<tr><td>001060007            </td><td>2:Elementary school  </td></tr>\n",
       "\t<tr><td>001060008            </td><td>3:Junior high general</td></tr>\n",
       "\t<tr><td>001065102            </td><td>3:Junior high general</td></tr>\n",
       "\t<tr><td>001080003            </td><td>2:Elementary school  </td></tr>\n",
       "</tbody>\n",
       "</table>\n"
      ],
      "text/latex": [
       "\\begin{tabular}{r|ll}\n",
       " pidlink & education\\\\\n",
       "\\hline\n",
       "\t 001060001             & 2:Elementary school  \\\\\n",
       "\t 001060004             & 2:Elementary school  \\\\\n",
       "\t 001060007             & 2:Elementary school  \\\\\n",
       "\t 001060008             & 3:Junior high general\\\\\n",
       "\t 001065102             & 3:Junior high general\\\\\n",
       "\t 001080003             & 2:Elementary school  \\\\\n",
       "\\end{tabular}\n"
      ],
      "text/markdown": [
       "\n",
       "pidlink | education | \n",
       "|---|---|---|---|---|---|\n",
       "| 001060001             | 2:Elementary school   | \n",
       "| 001060004             | 2:Elementary school   | \n",
       "| 001060007             | 2:Elementary school   | \n",
       "| 001060008             | 3:Junior high general | \n",
       "| 001065102             | 3:Junior high general | \n",
       "| 001080003             | 2:Elementary school   | \n",
       "\n",
       "\n"
      ],
      "text/plain": [
       "  pidlink   education            \n",
       "1 001060001 2:Elementary school  \n",
       "2 001060004 2:Elementary school  \n",
       "3 001060007 2:Elementary school  \n",
       "4 001060008 3:Junior high general\n",
       "5 001065102 3:Junior high general\n",
       "6 001080003 2:Elementary school  "
      ]
     },
     "metadata": {},
     "output_type": "display_data"
    }
   ],
   "source": [
    "#Education\n",
    "\n",
    "b3a_dl1 <- read.dta(\"b3a_dl1.dta\") \n",
    "head(b3a_dl1)\n",
    "education <- b3a_dl1 %>%\n",
    "                select(pidlink, dl06)\n",
    "education <- rename(education, \"education\" = dl06)\n",
    "head(education)"
   ]
  },
  {
   "cell_type": "code",
   "execution_count": 21,
   "metadata": {
    "scrolled": true
   },
   "outputs": [
    {
     "name": "stdout",
     "output_type": "stream",
     "text": [
      "'data.frame':\t314470 obs. of  8 variables:\n",
      " $ hhid14_9: chr  \"001060000\" \"001060000\" \"001060000\" \"001060000\" ...\n",
      " $ pid14   : num  1 1 1 1 1 1 1 1 1 1 ...\n",
      " $ kptype  : chr  \"A\" \"B\" \"C\" \"D\" ...\n",
      " $ kp02    : Factor w/ 5 levels \"1:Rarely or none (<= 1 day)\",..: 1 1 1 1 3 1 1 4 3 3 ...\n",
      " $ hhid14  : chr  \"0010600\" \"0010600\" \"0010600\" \"0010600\" ...\n",
      " $ pidlink : chr  \"001060001\" \"001060001\" \"001060001\" \"001060001\" ...\n",
      " $ version : num  1.3 1.3 1.3 1.3 1.3 1.3 1.3 1.3 1.3 1.3 ...\n",
      " $ module  : chr  \"B3B_KP\" \"B3B_KP\" \"B3B_KP\" \"B3B_KP\" ...\n",
      " - attr(*, \"datalabel\")= chr \"\"\n",
      " - attr(*, \"time.stamp\")= chr \"\"\n",
      " - attr(*, \"formats\")= chr  \"%10s\" \"%12.0g\" \"%2s\" \"%12.0g\" ...\n",
      " - attr(*, \"types\")= int  10 255 2 255 8 10 255 8\n",
      " - attr(*, \"val.labels\")= chr  \"\" \"\" \"\" \"kp02\" ...\n",
      " - attr(*, \"var.labels\")= chr  \"2014 Household ID (9-digit)\" \"2014 PID\" \"TYPE OF KP FEELINGS\" \"How often\" ...\n",
      " - attr(*, \"version\")= int -7\n",
      " - attr(*, \"label.table\")=List of 1\n",
      "  ..$ kp02: Named int  1 2 3 4 9\n",
      "  .. ..- attr(*, \"names\")= chr  \"1:Rarely or none (<= 1 day)\" \"2:Some days (1-2 days)\" \"3:Occasionally (3-4 days)\" \"4:Most of the time (5-7 days)\" ...\n"
     ]
    },
    {
     "data": {
      "text/plain": [
       "   hhid14_9             pid14          kptype         \n",
       " Length:314470      Min.   : 1.00   Length:314470     \n",
       " Class :character   1st Qu.: 1.00   Class :character  \n",
       " Mode  :character   Median : 2.00   Mode  :character  \n",
       "                    Mean   : 3.02                     \n",
       "                    3rd Qu.: 4.00                     \n",
       "                    Max.   :27.00                     \n",
       "                            kp02           hhid14            pidlink         \n",
       " 1:Rarely or none (<= 1 day)  :174397   Length:314470      Length:314470     \n",
       " 2:Some days (1-2 days)       : 47524   Class :character   Class :character  \n",
       " 3:Occasionally (3-4 days)    : 47259   Mode  :character   Mode  :character  \n",
       " 4:Most of the time (5-7 days): 45290                                        \n",
       " 9:MISSING                    :     0                                        \n",
       "                                                                             \n",
       "    version       module         \n",
       " Min.   :1.3   Length:314470     \n",
       " 1st Qu.:1.3   Class :character  \n",
       " Median :1.3   Mode  :character  \n",
       " Mean   :1.3                     \n",
       " 3rd Qu.:1.3                     \n",
       " Max.   :1.3                     "
      ]
     },
     "metadata": {},
     "output_type": "display_data"
    },
    {
     "data": {
      "text/html": [
       "<table>\n",
       "<thead><tr><th scope=col>hhid14_9</th><th scope=col>pid14</th><th scope=col>kptype</th><th scope=col>kp02</th><th scope=col>hhid14</th><th scope=col>pidlink</th><th scope=col>version</th><th scope=col>module</th></tr></thead>\n",
       "<tbody>\n",
       "\t<tr><td>001060000                     </td><td>1                             </td><td>A                             </td><td>1:Rarely or none (&lt;= 1 day)</td><td>0010600                       </td><td>001060001                     </td><td>1.3                           </td><td>B3B_KP                        </td></tr>\n",
       "\t<tr><td>001060000                     </td><td>1                             </td><td>B                             </td><td>1:Rarely or none (&lt;= 1 day)</td><td>0010600                       </td><td>001060001                     </td><td>1.3                           </td><td>B3B_KP                        </td></tr>\n",
       "\t<tr><td>001060000                     </td><td>1                             </td><td>C                             </td><td>1:Rarely or none (&lt;= 1 day)</td><td>0010600                       </td><td>001060001                     </td><td>1.3                           </td><td>B3B_KP                        </td></tr>\n",
       "\t<tr><td>001060000                     </td><td>1                             </td><td>D                             </td><td>1:Rarely or none (&lt;= 1 day)</td><td>0010600                       </td><td>001060001                     </td><td>1.3                           </td><td>B3B_KP                        </td></tr>\n",
       "\t<tr><td>001060000                  </td><td>1                          </td><td>E                          </td><td>3:Occasionally (3-4 days)  </td><td>0010600                    </td><td>001060001                  </td><td>1.3                        </td><td>B3B_KP                     </td></tr>\n",
       "\t<tr><td>001060000                     </td><td>1                             </td><td>F                             </td><td>1:Rarely or none (&lt;= 1 day)</td><td>0010600                       </td><td>001060001                     </td><td>1.3                           </td><td>B3B_KP                        </td></tr>\n",
       "</tbody>\n",
       "</table>\n"
      ],
      "text/latex": [
       "\\begin{tabular}{r|llllllll}\n",
       " hhid14\\_9 & pid14 & kptype & kp02 & hhid14 & pidlink & version & module\\\\\n",
       "\\hline\n",
       "\t 001060000                   & 1                           & A                           & 1:Rarely or none (<= 1 day) & 0010600                     & 001060001                   & 1.3                         & B3B\\_KP                   \\\\\n",
       "\t 001060000                   & 1                           & B                           & 1:Rarely or none (<= 1 day) & 0010600                     & 001060001                   & 1.3                         & B3B\\_KP                   \\\\\n",
       "\t 001060000                   & 1                           & C                           & 1:Rarely or none (<= 1 day) & 0010600                     & 001060001                   & 1.3                         & B3B\\_KP                   \\\\\n",
       "\t 001060000                   & 1                           & D                           & 1:Rarely or none (<= 1 day) & 0010600                     & 001060001                   & 1.3                         & B3B\\_KP                   \\\\\n",
       "\t 001060000                   & 1                           & E                           & 3:Occasionally (3-4 days)   & 0010600                     & 001060001                   & 1.3                         & B3B\\_KP                   \\\\\n",
       "\t 001060000                   & 1                           & F                           & 1:Rarely or none (<= 1 day) & 0010600                     & 001060001                   & 1.3                         & B3B\\_KP                   \\\\\n",
       "\\end{tabular}\n"
      ],
      "text/markdown": [
       "\n",
       "hhid14_9 | pid14 | kptype | kp02 | hhid14 | pidlink | version | module | \n",
       "|---|---|---|---|---|---|\n",
       "| 001060000                   | 1                           | A                           | 1:Rarely or none (<= 1 day) | 0010600                     | 001060001                   | 1.3                         | B3B_KP                      | \n",
       "| 001060000                   | 1                           | B                           | 1:Rarely or none (<= 1 day) | 0010600                     | 001060001                   | 1.3                         | B3B_KP                      | \n",
       "| 001060000                   | 1                           | C                           | 1:Rarely or none (<= 1 day) | 0010600                     | 001060001                   | 1.3                         | B3B_KP                      | \n",
       "| 001060000                   | 1                           | D                           | 1:Rarely or none (<= 1 day) | 0010600                     | 001060001                   | 1.3                         | B3B_KP                      | \n",
       "| 001060000                   | 1                           | E                           | 3:Occasionally (3-4 days)   | 0010600                     | 001060001                   | 1.3                         | B3B_KP                      | \n",
       "| 001060000                   | 1                           | F                           | 1:Rarely or none (<= 1 day) | 0010600                     | 001060001                   | 1.3                         | B3B_KP                      | \n",
       "\n",
       "\n"
      ],
      "text/plain": [
       "  hhid14_9  pid14 kptype kp02                        hhid14  pidlink   version\n",
       "1 001060000 1     A      1:Rarely or none (<= 1 day) 0010600 001060001 1.3    \n",
       "2 001060000 1     B      1:Rarely or none (<= 1 day) 0010600 001060001 1.3    \n",
       "3 001060000 1     C      1:Rarely or none (<= 1 day) 0010600 001060001 1.3    \n",
       "4 001060000 1     D      1:Rarely or none (<= 1 day) 0010600 001060001 1.3    \n",
       "5 001060000 1     E      3:Occasionally (3-4 days)   0010600 001060001 1.3    \n",
       "6 001060000 1     F      1:Rarely or none (<= 1 day) 0010600 001060001 1.3    \n",
       "  module\n",
       "1 B3B_KP\n",
       "2 B3B_KP\n",
       "3 B3B_KP\n",
       "4 B3B_KP\n",
       "5 B3B_KP\n",
       "6 B3B_KP"
      ]
     },
     "metadata": {},
     "output_type": "display_data"
    },
    {
     "name": "stderr",
     "output_type": "stream",
     "text": [
      "Warning message:\n",
      "“Column `score` joining factors with different levels, coercing to character vector”"
     ]
    },
    {
     "data": {
      "text/html": [
       "<table>\n",
       "<thead><tr><th scope=col>pidlink</th><th scope=col>depression_score</th></tr></thead>\n",
       "<tbody>\n",
       "\t<tr><td>001060001</td><td> 5       </td></tr>\n",
       "\t<tr><td>001060004</td><td> 8       </td></tr>\n",
       "\t<tr><td>001060007</td><td>11       </td></tr>\n",
       "\t<tr><td>001060008</td><td> 8       </td></tr>\n",
       "\t<tr><td>001065102</td><td> 7       </td></tr>\n",
       "\t<tr><td>001080003</td><td>18       </td></tr>\n",
       "</tbody>\n",
       "</table>\n"
      ],
      "text/latex": [
       "\\begin{tabular}{r|ll}\n",
       " pidlink & depression\\_score\\\\\n",
       "\\hline\n",
       "\t 001060001 &  5       \\\\\n",
       "\t 001060004 &  8       \\\\\n",
       "\t 001060007 & 11       \\\\\n",
       "\t 001060008 &  8       \\\\\n",
       "\t 001065102 &  7       \\\\\n",
       "\t 001080003 & 18       \\\\\n",
       "\\end{tabular}\n"
      ],
      "text/markdown": [
       "\n",
       "pidlink | depression_score | \n",
       "|---|---|---|---|---|---|\n",
       "| 001060001 |  5        | \n",
       "| 001060004 |  8        | \n",
       "| 001060007 | 11        | \n",
       "| 001060008 |  8        | \n",
       "| 001065102 |  7        | \n",
       "| 001080003 | 18        | \n",
       "\n",
       "\n"
      ],
      "text/plain": [
       "  pidlink   depression_score\n",
       "1 001060001  5              \n",
       "2 001060004  8              \n",
       "3 001060007 11              \n",
       "4 001060008  8              \n",
       "5 001065102  7              \n",
       "6 001080003 18              "
      ]
     },
     "metadata": {},
     "output_type": "display_data"
    },
    {
     "name": "stdout",
     "output_type": "stream",
     "text": [
      "Classes ‘tbl_df’, ‘tbl’ and 'data.frame':\t31447 obs. of  2 variables:\n",
      " $ pidlink         : chr  \"001060001\" \"001060004\" \"001060007\" \"001060008\" ...\n",
      " $ depression_score: int  5 8 11 8 7 18 10 2 13 12 ...\n"
     ]
    },
    {
     "data": {
      "text/plain": [
       "   pidlink          depression_score\n",
       " Length:31447       Min.   : 0.000  \n",
       " Class :character   1st Qu.: 3.000  \n",
       " Mode  :character   Median : 5.000  \n",
       "                    Mean   : 6.402  \n",
       "                    3rd Qu.: 9.000  \n",
       "                    Max.   :30.000  "
      ]
     },
     "metadata": {},
     "output_type": "display_data"
    }
   ],
   "source": [
    "# Depression\n",
    "\n",
    "b3b_kp <- read.dta(\"b3b_kp.dta\") \n",
    "str(b3b_kp)\n",
    "summary(b3b_kp)\n",
    "head(b3b_kp)\n",
    "\n",
    "#coding by separate into two categorized, depressing (+) and undepressing (-) then merge them\n",
    "depressing <- subset(b3b_kp, kptype %in% c('A', 'B', 'C', 'D', 'F', 'G', 'I', 'J'))\n",
    "undepressing <- subset(b3b_kp, kptype %in% c('E', 'H'))\n",
    "\n",
    "depressing_score <- depressing %>%\n",
    "                        mutate(score = revalue(kp02, c(\"1:Rarely or none (<= 1 day)\" = 0, \n",
    "                                                       \"2:Some days (1-2 days)\" = 1, \n",
    "                                                       \"3:Occasionally (3-4 days)\" = 2,\n",
    "                                                        \"4:Most of the time (5-7 days)\" = 3)))\n",
    "\n",
    "undepressing_score <- undepressing %>%\n",
    "                        mutate(score = revalue(kp02, c(\"1:Rarely or none (<= 1 day)\" = 3, \n",
    "                                                       \"2:Some days (1-2 days)\" = 2, \n",
    "                                                       \"3:Occasionally (3-4 days)\" = 1,\n",
    "                                                        \"4:Most of the time (5-7 days)\" = 0)))\n",
    "\n",
    "depression_score_merged <- union(depressing_score, undepressing_score)\n",
    "\n",
    "#aggregate sum of score each person \n",
    "depression_score_merged$score <- as.integer(depression_score_merged$score)\n",
    "\n",
    "depression <- depression_score_merged %>%\n",
    "                    select(pidlink, score) %>%\n",
    "                    group_by(pidlink) %>%\n",
    "                    summarize_all(sum) \n",
    "depression <- rename(depression, \"depression_score\" = score)\n",
    "head(depression)\n",
    "str(depression)\n",
    "summary(depression)"
   ]
  },
  {
   "cell_type": "markdown",
   "metadata": {},
   "source": [
    "# Merge all column into one single table"
   ]
  },
  {
   "cell_type": "code",
   "execution_count": 22,
   "metadata": {
    "scrolled": true
   },
   "outputs": [
    {
     "data": {
      "text/html": [
       "<table>\n",
       "<thead><tr><th scope=col>hhid14_9.x</th><th scope=col>hhid14.x</th><th scope=col>pidlink</th><th scope=col>cdtype</th><th scope=col>diabetes</th><th scope=col>medication</th><th scope=col>activity_cat</th><th scope=col>sistol</th><th scope=col>diastol</th><th scope=col>hypertension_diag</th><th scope=col>⋯</th><th scope=col>waist_reason</th><th scope=col>height_m</th><th scope=col>bmi</th><th scope=col>education</th><th scope=col>depression_score</th><th scope=col>sex</th><th scope=col>age</th><th scope=col>marstat</th><th scope=col>urban_rural</th><th scope=col>insurance</th></tr></thead>\n",
       "<tbody>\n",
       "\t<tr><td>001060000            </td><td>0010600              </td><td>001060001            </td><td>B                    </td><td>3:No                 </td><td>NA                   </td><td>2:Low                </td><td>139.0000             </td><td>85.66667             </td><td>3:No                 </td><td>⋯                    </td><td>1:Yes                </td><td>1.465                </td><td>24.13540             </td><td>2:Elementary school  </td><td> 5                   </td><td>1:Male               </td><td>59                   </td><td>2:Married            </td><td>2:Rural              </td><td>3:No                 </td></tr>\n",
       "\t<tr><td>001060004                                                    </td><td>0010651                                                      </td><td>001060004                                                    </td><td>B                                                            </td><td>3:No                                                         </td><td>NA                                                           </td><td><span style=white-space:pre-wrap>2:Low     </span>           </td><td>107.6667                                                     </td><td>69.66667                                                     </td><td>3:No                                                         </td><td>⋯                                                            </td><td>6:&lt; 40                                                    </td><td>1.394                                                        </td><td>21.20175                                                     </td><td><span style=white-space:pre-wrap>2:Elementary school  </span></td><td> 8                                                           </td><td>3:Female                                                     </td><td>28                                                           </td><td><span style=white-space:pre-wrap>2:Married        </span>    </td><td>2:Rural                                                      </td><td>3:No                                                         </td></tr>\n",
       "\t<tr><td>001060000                                                    </td><td>0010600                                                      </td><td>001060007                                                    </td><td>B                                                            </td><td>3:No                                                         </td><td>NA                                                           </td><td><span style=white-space:pre-wrap>2:Low     </span>           </td><td>110.6667                                                     </td><td>70.33333                                                     </td><td>3:No                                                         </td><td>⋯                                                            </td><td>6:&lt; 40                                                    </td><td>1.566                                                        </td><td>22.10120                                                     </td><td><span style=white-space:pre-wrap>2:Elementary school  </span></td><td>11                                                           </td><td>3:Female                                                     </td><td>39                                                           </td><td><span style=white-space:pre-wrap>2:Married        </span>    </td><td>2:Rural                                                      </td><td>3:No                                                         </td></tr>\n",
       "\t<tr><td>001060000                                         </td><td>0010600                                           </td><td>001060008                                         </td><td>B                                                 </td><td>3:No                                              </td><td>NA                                                </td><td><span style=white-space:pre-wrap>0:High    </span></td><td>138.6667                                          </td><td>83.66667                                          </td><td>3:No                                              </td><td>⋯                                                 </td><td>6:&lt; 40                                         </td><td>1.486                                             </td><td>21.87306                                          </td><td>3:Junior high general                             </td><td> 8                                                </td><td>3:Female                                          </td><td>16                                                </td><td>1:Not yet married                                 </td><td>2:Rural                                           </td><td>3:No                                              </td></tr>\n",
       "\t<tr><td>001060004                                                </td><td>0010651                                                  </td><td>001065102                                                </td><td>B                                                        </td><td>3:No                                                     </td><td>NA                                                       </td><td>1:Moderate                                               </td><td>141.6667                                                 </td><td>90.66667                                                 </td><td>3:No                                                     </td><td>⋯                                                        </td><td>6:&lt; 40                                                </td><td>1.581                                                    </td><td>21.68381                                                 </td><td>3:Junior high general                                    </td><td> 7                                                       </td><td><span style=white-space:pre-wrap>1:Male  </span>         </td><td>30                                                       </td><td><span style=white-space:pre-wrap>2:Married        </span></td><td>2:Rural                                                  </td><td>3:No                                                     </td></tr>\n",
       "\t<tr><td>001080003                                                    </td><td>0010851                                                      </td><td>001080003                                                    </td><td>B                                                            </td><td>3:No                                                         </td><td>NA                                                           </td><td>1:Moderate                                                   </td><td>138.3333                                                     </td><td>95.00000                                                     </td><td>3:No                                                         </td><td>⋯                                                            </td><td>6:&lt; 40                                                    </td><td>1.568                                                        </td><td>19.80783                                                     </td><td><span style=white-space:pre-wrap>2:Elementary school  </span></td><td>18                                                           </td><td><span style=white-space:pre-wrap>1:Male  </span>             </td><td>36                                                           </td><td><span style=white-space:pre-wrap>2:Married        </span>    </td><td>2:Rural                                                      </td><td>3:No                                                         </td></tr>\n",
       "</tbody>\n",
       "</table>\n"
      ],
      "text/latex": [
       "\\begin{tabular}{r|llllllllllllllllllllllllll}\n",
       " hhid14\\_9.x & hhid14.x & pidlink & cdtype & diabetes & medication & activity\\_cat & sistol & diastol & hypertension\\_diag & ⋯ & waist\\_reason & height\\_m & bmi & education & depression\\_score & sex & age & marstat & urban\\_rural & insurance\\\\\n",
       "\\hline\n",
       "\t 001060000             & 0010600               & 001060001             & B                     & 3:No                  & NA                    & 2:Low                 & 139.0000              & 85.66667              & 3:No                  & ⋯                     & 1:Yes                 & 1.465                 & 24.13540              & 2:Elementary school   &  5                    & 1:Male                & 59                    & 2:Married             & 2:Rural               & 3:No                 \\\\\n",
       "\t 001060004             & 0010651               & 001060004             & B                     & 3:No                  & NA                    & 2:Low                 & 107.6667              & 69.66667              & 3:No                  & ⋯                     & 6:< 40                & 1.394                 & 21.20175              & 2:Elementary school   &  8                    & 3:Female              & 28                    & 2:Married             & 2:Rural               & 3:No                 \\\\\n",
       "\t 001060000             & 0010600               & 001060007             & B                     & 3:No                  & NA                    & 2:Low                 & 110.6667              & 70.33333              & 3:No                  & ⋯                     & 6:< 40                & 1.566                 & 22.10120              & 2:Elementary school   & 11                    & 3:Female              & 39                    & 2:Married             & 2:Rural               & 3:No                 \\\\\n",
       "\t 001060000             & 0010600               & 001060008             & B                     & 3:No                  & NA                    & 0:High                & 138.6667              & 83.66667              & 3:No                  & ⋯                     & 6:< 40                & 1.486                 & 21.87306              & 3:Junior high general &  8                    & 3:Female              & 16                    & 1:Not yet married     & 2:Rural               & 3:No                 \\\\\n",
       "\t 001060004             & 0010651               & 001065102             & B                     & 3:No                  & NA                    & 1:Moderate            & 141.6667              & 90.66667              & 3:No                  & ⋯                     & 6:< 40                & 1.581                 & 21.68381              & 3:Junior high general &  7                    & 1:Male                & 30                    & 2:Married             & 2:Rural               & 3:No                 \\\\\n",
       "\t 001080003             & 0010851               & 001080003             & B                     & 3:No                  & NA                    & 1:Moderate            & 138.3333              & 95.00000              & 3:No                  & ⋯                     & 6:< 40                & 1.568                 & 19.80783              & 2:Elementary school   & 18                    & 1:Male                & 36                    & 2:Married             & 2:Rural               & 3:No                 \\\\\n",
       "\\end{tabular}\n"
      ],
      "text/markdown": [
       "\n",
       "hhid14_9.x | hhid14.x | pidlink | cdtype | diabetes | medication | activity_cat | sistol | diastol | hypertension_diag | ⋯ | waist_reason | height_m | bmi | education | depression_score | sex | age | marstat | urban_rural | insurance | \n",
       "|---|---|---|---|---|---|\n",
       "| 001060000             | 0010600               | 001060001             | B                     | 3:No                  | NA                    | 2:Low                 | 139.0000              | 85.66667              | 3:No                  | ⋯                     | 1:Yes                 | 1.465                 | 24.13540              | 2:Elementary school   |  5                    | 1:Male                | 59                    | 2:Married             | 2:Rural               | 3:No                  | \n",
       "| 001060004             | 0010651               | 001060004             | B                     | 3:No                  | NA                    | 2:Low                 | 107.6667              | 69.66667              | 3:No                  | ⋯                     | 6:< 40                | 1.394                 | 21.20175              | 2:Elementary school   |  8                    | 3:Female              | 28                    | 2:Married             | 2:Rural               | 3:No                  | \n",
       "| 001060000             | 0010600               | 001060007             | B                     | 3:No                  | NA                    | 2:Low                 | 110.6667              | 70.33333              | 3:No                  | ⋯                     | 6:< 40                | 1.566                 | 22.10120              | 2:Elementary school   | 11                    | 3:Female              | 39                    | 2:Married             | 2:Rural               | 3:No                  | \n",
       "| 001060000             | 0010600               | 001060008             | B                     | 3:No                  | NA                    | 0:High                | 138.6667              | 83.66667              | 3:No                  | ⋯                     | 6:< 40                | 1.486                 | 21.87306              | 3:Junior high general |  8                    | 3:Female              | 16                    | 1:Not yet married     | 2:Rural               | 3:No                  | \n",
       "| 001060004             | 0010651               | 001065102             | B                     | 3:No                  | NA                    | 1:Moderate            | 141.6667              | 90.66667              | 3:No                  | ⋯                     | 6:< 40                | 1.581                 | 21.68381              | 3:Junior high general |  7                    | 1:Male                | 30                    | 2:Married             | 2:Rural               | 3:No                  | \n",
       "| 001080003             | 0010851               | 001080003             | B                     | 3:No                  | NA                    | 1:Moderate            | 138.3333              | 95.00000              | 3:No                  | ⋯                     | 6:< 40                | 1.568                 | 19.80783              | 2:Elementary school   | 18                    | 1:Male                | 36                    | 2:Married             | 2:Rural               | 3:No                  | \n",
       "\n",
       "\n"
      ],
      "text/plain": [
       "  hhid14_9.x hhid14.x pidlink   cdtype diabetes medication activity_cat\n",
       "1 001060000  0010600  001060001 B      3:No     NA         2:Low       \n",
       "2 001060004  0010651  001060004 B      3:No     NA         2:Low       \n",
       "3 001060000  0010600  001060007 B      3:No     NA         2:Low       \n",
       "4 001060000  0010600  001060008 B      3:No     NA         0:High      \n",
       "5 001060004  0010651  001065102 B      3:No     NA         1:Moderate  \n",
       "6 001080003  0010851  001080003 B      3:No     NA         1:Moderate  \n",
       "  sistol   diastol  hypertension_diag ⋯ waist_reason height_m bmi     \n",
       "1 139.0000 85.66667 3:No              ⋯ 1:Yes        1.465    24.13540\n",
       "2 107.6667 69.66667 3:No              ⋯ 6:< 40       1.394    21.20175\n",
       "3 110.6667 70.33333 3:No              ⋯ 6:< 40       1.566    22.10120\n",
       "4 138.6667 83.66667 3:No              ⋯ 6:< 40       1.486    21.87306\n",
       "5 141.6667 90.66667 3:No              ⋯ 6:< 40       1.581    21.68381\n",
       "6 138.3333 95.00000 3:No              ⋯ 6:< 40       1.568    19.80783\n",
       "  education             depression_score sex      age marstat          \n",
       "1 2:Elementary school    5               1:Male   59  2:Married        \n",
       "2 2:Elementary school    8               3:Female 28  2:Married        \n",
       "3 2:Elementary school   11               3:Female 39  2:Married        \n",
       "4 3:Junior high general  8               3:Female 16  1:Not yet married\n",
       "5 3:Junior high general  7               1:Male   30  2:Married        \n",
       "6 2:Elementary school   18               1:Male   36  2:Married        \n",
       "  urban_rural insurance\n",
       "1 2:Rural     3:No     \n",
       "2 2:Rural     3:No     \n",
       "3 2:Rural     3:No     \n",
       "4 2:Rural     3:No     \n",
       "5 2:Rural     3:No     \n",
       "6 2:Rural     3:No     "
      ]
     },
     "metadata": {},
     "output_type": "display_data"
    },
    {
     "name": "stdout",
     "output_type": "stream",
     "text": [
      "'data.frame':\t34257 obs. of  26 variables:\n",
      " $ hhid14_9.x       : chr  \"001060000\" \"001060004\" \"001060000\" \"001060000\" ...\n",
      " $ hhid14.x         : chr  \"0010600\" \"0010651\" \"0010600\" \"0010600\" ...\n",
      " $ pidlink          : chr  \"001060001\" \"001060004\" \"001060007\" \"001060008\" ...\n",
      " $ cdtype           : chr  \"B\" \"B\" \"B\" \"B\" ...\n",
      " $ diabetes         : Factor w/ 4 levels \"1:Yes\",\"3:No\",..: 2 2 2 2 2 2 2 2 2 2 ...\n",
      " $ medication       : Factor w/ 3 levels \"1:Yes\",\"3:No\",..: NA NA NA NA NA NA NA NA NA NA ...\n",
      " $ activity_cat     : Factor w/ 3 levels \"0:High\",\"1:Moderate\",..: 3 3 3 1 2 2 3 3 1 2 ...\n",
      " $ sistol           : num  139 108 111 139 142 ...\n",
      " $ diastol          : num  85.7 69.7 70.3 83.7 90.7 ...\n",
      " $ hypertension_diag: Factor w/ 4 levels \"1:Yes\",\"3:No\",..: 2 2 2 2 2 2 2 2 1 2 ...\n",
      " $ hyper_medication : Factor w/ 3 levels \"1:Yes\",\"3:No\",..: NA NA NA NA NA NA NA NA 1 NA ...\n",
      " $ height_cm        : num  146 139 157 149 158 ...\n",
      " $ weight_kg        : num  51.8 41.2 54.2 48.3 54.2 48.7 56.1 45.9 58.5 47.4 ...\n",
      " $ waist            : num  84.3 NA NA NA NA NA NA 71.1 83.8 70.3 ...\n",
      " $ height_reason    : Factor w/ 4 levels \"1:Yes\",\"3:Why not measured\",..: 1 1 1 1 1 1 1 1 1 1 ...\n",
      " $ weight_reason    : Factor w/ 4 levels \"1:Yes\",\"3:Why not measured\",..: 1 1 1 1 1 1 1 1 1 1 ...\n",
      " $ waist_reason     : Factor w/ 5 levels \"1:Yes\",\"3:Why not measured\",..: 1 3 3 3 3 3 3 1 1 1 ...\n",
      " $ height_m         : num  1.47 1.39 1.57 1.49 1.58 ...\n",
      " $ bmi              : num  24.1 21.2 22.1 21.9 21.7 ...\n",
      " $ education        : Factor w/ 22 levels \"2:Elementary school\",..: 1 1 1 2 2 1 1 NA 1 1 ...\n",
      " $ depression_score : int  5 8 11 8 7 18 10 2 13 12 ...\n",
      " $ sex              : Factor w/ 2 levels \"1:Male\",\"3:Female\": 1 2 2 2 1 1 1 2 1 2 ...\n",
      " $ age              : num  59 28 39 16 30 36 26 40 55 54 ...\n",
      " $ marstat          : Factor w/ 7 levels \"1:Not yet married\",..: 2 2 2 1 2 2 1 2 2 2 ...\n",
      " $ urban_rural      : Factor w/ 2 levels \"1:Urban\",\"2:Rural\": 2 2 2 2 2 2 2 2 2 2 ...\n",
      " $ insurance        : Factor w/ 4 levels \"1:Yes\",\"3:No\",..: 2 2 2 2 2 2 2 2 1 1 ...\n"
     ]
    },
    {
     "data": {
      "text/plain": [
       "  hhid14_9.x          hhid14.x           pidlink             cdtype         \n",
       " Length:34257       Length:34257       Length:34257       Length:34257      \n",
       " Class :character   Class :character   Class :character   Class :character  \n",
       " Mode  :character   Mode  :character   Mode  :character   Mode  :character  \n",
       "                                                                            \n",
       "                                                                            \n",
       "                                                                            \n",
       "                                                                            \n",
       "         diabetes         medication        activity_cat       sistol     \n",
       " 1:Yes       :  779   1:Yes    :  411   0:High    : 7048   Min.   : 78.0  \n",
       " 3:No        :33462   3:No     :  368   1:Moderate: 9574   1st Qu.:114.0  \n",
       " 8:Don't know:   16   9:Missing:    0   2:Low     :14829   Median :123.7  \n",
       " 9:Missing   :    0   NA's     :33478   NA's      : 2806   Mean   :128.0  \n",
       "                                                           3rd Qu.:136.3  \n",
       "                                                           Max.   :240.7  \n",
       "                                                           NA's   :2009   \n",
       "    diastol          hypertension_diag  hyper_medication   height_cm    \n",
       " Min.   : 38.33   1:Yes       : 4204   1:Yes    : 1130   Min.   : 65.2  \n",
       " 1st Qu.: 70.67   3:No        :30035   3:No     : 3074   1st Qu.:150.2  \n",
       " Median : 77.33   8:Don't know:   18   9:Missing:    0   Median :156.0  \n",
       " Mean   : 78.68   9:Missing   :    0   NA's     :30053   Mean   :156.4  \n",
       " 3rd Qu.: 85.00                                          3rd Qu.:162.5  \n",
       " Max.   :153.33                                          Max.   :198.0  \n",
       " NA's   :2009                                            NA's   :1783   \n",
       "   weight_kg          waist                  height_reason  \n",
       " Min.   :  6.20   Min.   : 32.0   1:Yes             :32474  \n",
       " 1st Qu.: 48.40   1st Qu.: 75.3   3:Why not measured:  158  \n",
       " Median : 55.40   Median : 83.6   7:Refused         :    3  \n",
       " Mean   : 56.81   Mean   : 84.0   9:Missing         :    0  \n",
       " 3rd Qu.: 63.80   3rd Qu.: 92.0   NA's              : 1622  \n",
       " Max.   :142.30   Max.   :150.0                             \n",
       " NA's   :1812     NA's   :21122                             \n",
       "            weight_reason               waist_reason      height_m    \n",
       " 1:Yes             :32445   1:Yes             :13135   Min.   :0.652  \n",
       " 3:Why not measured:  182   3:Why not measured:  116   1st Qu.:1.502  \n",
       " 7:Refused         :    8   6:< 40            :19369   Median :1.560  \n",
       " 9:Missing         :    0   7:Refused         :   15   Mean   :1.564  \n",
       " NA's              : 1622   9:Missing         :    0   3rd Qu.:1.625  \n",
       "                            NA's              : 1622   Max.   :1.980  \n",
       "                                                       NA's   :1783   \n",
       "      bmi                           education    depression_score\n",
       " Min.   :10.85   2:Elementary school     :9845   Min.   : 0.000  \n",
       " 1st Qu.:19.86   5:Senior high general   :5308   1st Qu.: 3.000  \n",
       " Median :22.57   3:Junior high general   :5103   Median : 5.000  \n",
       " Mean   :23.22   6:Senior high vocational:4517   Mean   : 6.402  \n",
       " 3rd Qu.:25.92   61:University S1        :3166   3rd Qu.: 9.000  \n",
       " Max.   :68.76   (Other)                 :4543   Max.   :30.000  \n",
       " NA's   :1843    NA's                    :1775   NA's   :2810    \n",
       "       sex             age                      marstat       urban_rural   \n",
       " 1:Male  :16333   Min.   : 14.00   2:Married        :24357   1:Urban:20291  \n",
       " 3:Female:17918   1st Qu.: 26.00   1:Not yet married: 6728   2:Rural:13966  \n",
       " NA's    :    6   Median : 35.00   5:Widowed        : 2232                  \n",
       "                  Mean   : 38.41   4:Divorced       :  757                  \n",
       "                  3rd Qu.: 48.00   3:Separated      :  170                  \n",
       "                  Max.   :998.00   (Other)          :    7                  \n",
       "                  NA's   :6        NA's             :    6                  \n",
       "        insurance    \n",
       " 1:Yes       :16712  \n",
       " 3:No        :17478  \n",
       " 8:Don't know:   37  \n",
       " 9:Missing   :    0  \n",
       " NA's        :   30  \n",
       "                     \n",
       "                     "
      ]
     },
     "metadata": {},
     "output_type": "display_data"
    }
   ],
   "source": [
    "all_merged <- diabetes_medication %>%\n",
    "    left_join(activity_categorized, by = \"pidlink\") %>%\n",
    "    left_join(hypertension, by = \"pidlink\") %>%\n",
    "    left_join(obesity, by = \"pidlink\") %>%\n",
    "    left_join(education, by = \"pidlink\") %>%\n",
    "    left_join(depression, by = \"pidlink\") %>%\n",
    "    left_join(demographic, by = \"pidlink\") %>%\n",
    "    select(-\"hhid14_9.y\", -\"hhid14.y\") %>% \n",
    "    left_join(insurance, by = \"pidlink\") \n",
    "              \n",
    "head(all_merged)\n",
    "str(all_merged)\n",
    "summary(all_merged)"
   ]
  },
  {
   "cell_type": "code",
   "execution_count": 23,
   "metadata": {},
   "outputs": [],
   "source": [
    "write.csv(all_merged, file = \"unfiltered_numeric_dataset.csv\")"
   ]
  },
  {
   "cell_type": "markdown",
   "metadata": {},
   "source": [
    "# Data transofmation - filtering (outlier haven't been excluded yet), categorized numerical values, and recoding "
   ]
  },
  {
   "cell_type": "code",
   "execution_count": 24,
   "metadata": {
    "scrolled": true
   },
   "outputs": [
    {
     "data": {
      "text/html": [
       "<table>\n",
       "<thead><tr><th scope=col>hhid14_9.x</th><th scope=col>hhid14.x</th><th scope=col>pidlink</th><th scope=col>diabetes</th><th scope=col>medication</th><th scope=col>activity_cat</th><th scope=col>sistol</th><th scope=col>diastol</th><th scope=col>hypertension_diag</th><th scope=col>hyper_medication</th><th scope=col>waist</th><th scope=col>bmi</th><th scope=col>education</th><th scope=col>depression_score</th><th scope=col>sex</th><th scope=col>age</th><th scope=col>marstat</th><th scope=col>urban_rural</th><th scope=col>insurance</th></tr></thead>\n",
       "<tbody>\n",
       "\t<tr><td>001060000          </td><td>0010600            </td><td>001060001          </td><td>3:No               </td><td>NA                 </td><td>2:Low              </td><td>139.0000           </td><td> 85.66667          </td><td>3:No               </td><td>NA                 </td><td>84.3               </td><td>24.13540           </td><td>2:Elementary school</td><td> 5                 </td><td>1:Male             </td><td>59                 </td><td>2:Married          </td><td>2:Rural            </td><td>3:No               </td></tr>\n",
       "\t<tr><td>001220000          </td><td>0012200            </td><td>001220001          </td><td>3:No               </td><td>NA                 </td><td>0:High             </td><td>198.6667           </td><td>120.00000          </td><td>1:Yes              </td><td>1:Yes              </td><td>83.8               </td><td>22.40130           </td><td>2:Elementary school</td><td>13                 </td><td>1:Male             </td><td>55                 </td><td>2:Married          </td><td>2:Rural            </td><td>1:Yes              </td></tr>\n",
       "\t<tr><td>001220000          </td><td>0012200            </td><td>001220002          </td><td>3:No               </td><td>NA                 </td><td>1:Moderate         </td><td>116.0000           </td><td> 78.66667          </td><td>3:No               </td><td>NA                 </td><td>70.3               </td><td>19.25451           </td><td>2:Elementary school</td><td>12                 </td><td>3:Female           </td><td>54                 </td><td>2:Married          </td><td>2:Rural            </td><td>1:Yes              </td></tr>\n",
       "\t<tr><td>001240000          </td><td>0012400            </td><td>001240002          </td><td>3:No               </td><td>NA                 </td><td>1:Moderate         </td><td>161.6667           </td><td> 90.00000          </td><td>1:Yes              </td><td>3:No               </td><td>77.6               </td><td>22.59041           </td><td>2:Elementary school</td><td>10                 </td><td>3:Female           </td><td>62                 </td><td>5:Widowed          </td><td>2:Rural            </td><td>3:No               </td></tr>\n",
       "\t<tr><td>001240005          </td><td>0012451            </td><td>001245101          </td><td>3:No               </td><td>NA                 </td><td>1:Moderate         </td><td>127.0000           </td><td> 86.66667          </td><td>1:Yes              </td><td>3:No               </td><td>95.1               </td><td>26.26042           </td><td>2:Elementary school</td><td>14                 </td><td>1:Male             </td><td>50                 </td><td>2:Married          </td><td>2:Rural            </td><td>1:Yes              </td></tr>\n",
       "\t<tr><td>001290000          </td><td>0012900            </td><td>001290001          </td><td>3:No               </td><td>NA                 </td><td>2:Low              </td><td>227.0000           </td><td>128.00000          </td><td>3:No               </td><td>NA                 </td><td>70.8               </td><td>20.59532           </td><td>2:Elementary school</td><td>15                 </td><td>1:Male             </td><td>58                 </td><td>2:Married          </td><td>2:Rural            </td><td>1:Yes              </td></tr>\n",
       "</tbody>\n",
       "</table>\n"
      ],
      "text/latex": [
       "\\begin{tabular}{r|lllllllllllllllllll}\n",
       " hhid14\\_9.x & hhid14.x & pidlink & diabetes & medication & activity\\_cat & sistol & diastol & hypertension\\_diag & hyper\\_medication & waist & bmi & education & depression\\_score & sex & age & marstat & urban\\_rural & insurance\\\\\n",
       "\\hline\n",
       "\t 001060000           & 0010600             & 001060001           & 3:No                & NA                  & 2:Low               & 139.0000            &  85.66667           & 3:No                & NA                  & 84.3                & 24.13540            & 2:Elementary school &  5                  & 1:Male              & 59                  & 2:Married           & 2:Rural             & 3:No               \\\\\n",
       "\t 001220000           & 0012200             & 001220001           & 3:No                & NA                  & 0:High              & 198.6667            & 120.00000           & 1:Yes               & 1:Yes               & 83.8                & 22.40130            & 2:Elementary school & 13                  & 1:Male              & 55                  & 2:Married           & 2:Rural             & 1:Yes              \\\\\n",
       "\t 001220000           & 0012200             & 001220002           & 3:No                & NA                  & 1:Moderate          & 116.0000            &  78.66667           & 3:No                & NA                  & 70.3                & 19.25451            & 2:Elementary school & 12                  & 3:Female            & 54                  & 2:Married           & 2:Rural             & 1:Yes              \\\\\n",
       "\t 001240000           & 0012400             & 001240002           & 3:No                & NA                  & 1:Moderate          & 161.6667            &  90.00000           & 1:Yes               & 3:No                & 77.6                & 22.59041            & 2:Elementary school & 10                  & 3:Female            & 62                  & 5:Widowed           & 2:Rural             & 3:No               \\\\\n",
       "\t 001240005           & 0012451             & 001245101           & 3:No                & NA                  & 1:Moderate          & 127.0000            &  86.66667           & 1:Yes               & 3:No                & 95.1                & 26.26042            & 2:Elementary school & 14                  & 1:Male              & 50                  & 2:Married           & 2:Rural             & 1:Yes              \\\\\n",
       "\t 001290000           & 0012900             & 001290001           & 3:No                & NA                  & 2:Low               & 227.0000            & 128.00000           & 3:No                & NA                  & 70.8                & 20.59532            & 2:Elementary school & 15                  & 1:Male              & 58                  & 2:Married           & 2:Rural             & 1:Yes              \\\\\n",
       "\\end{tabular}\n"
      ],
      "text/markdown": [
       "\n",
       "hhid14_9.x | hhid14.x | pidlink | diabetes | medication | activity_cat | sistol | diastol | hypertension_diag | hyper_medication | waist | bmi | education | depression_score | sex | age | marstat | urban_rural | insurance | \n",
       "|---|---|---|---|---|---|\n",
       "| 001060000           | 0010600             | 001060001           | 3:No                | NA                  | 2:Low               | 139.0000            |  85.66667           | 3:No                | NA                  | 84.3                | 24.13540            | 2:Elementary school |  5                  | 1:Male              | 59                  | 2:Married           | 2:Rural             | 3:No                | \n",
       "| 001220000           | 0012200             | 001220001           | 3:No                | NA                  | 0:High              | 198.6667            | 120.00000           | 1:Yes               | 1:Yes               | 83.8                | 22.40130            | 2:Elementary school | 13                  | 1:Male              | 55                  | 2:Married           | 2:Rural             | 1:Yes               | \n",
       "| 001220000           | 0012200             | 001220002           | 3:No                | NA                  | 1:Moderate          | 116.0000            |  78.66667           | 3:No                | NA                  | 70.3                | 19.25451            | 2:Elementary school | 12                  | 3:Female            | 54                  | 2:Married           | 2:Rural             | 1:Yes               | \n",
       "| 001240000           | 0012400             | 001240002           | 3:No                | NA                  | 1:Moderate          | 161.6667            |  90.00000           | 1:Yes               | 3:No                | 77.6                | 22.59041            | 2:Elementary school | 10                  | 3:Female            | 62                  | 5:Widowed           | 2:Rural             | 3:No                | \n",
       "| 001240005           | 0012451             | 001245101           | 3:No                | NA                  | 1:Moderate          | 127.0000            |  86.66667           | 1:Yes               | 3:No                | 95.1                | 26.26042            | 2:Elementary school | 14                  | 1:Male              | 50                  | 2:Married           | 2:Rural             | 1:Yes               | \n",
       "| 001290000           | 0012900             | 001290001           | 3:No                | NA                  | 2:Low               | 227.0000            | 128.00000           | 3:No                | NA                  | 70.8                | 20.59532            | 2:Elementary school | 15                  | 1:Male              | 58                  | 2:Married           | 2:Rural             | 1:Yes               | \n",
       "\n",
       "\n"
      ],
      "text/plain": [
       "  hhid14_9.x hhid14.x pidlink   diabetes medication activity_cat sistol  \n",
       "1 001060000  0010600  001060001 3:No     NA         2:Low        139.0000\n",
       "2 001220000  0012200  001220001 3:No     NA         0:High       198.6667\n",
       "3 001220000  0012200  001220002 3:No     NA         1:Moderate   116.0000\n",
       "4 001240000  0012400  001240002 3:No     NA         1:Moderate   161.6667\n",
       "5 001240005  0012451  001245101 3:No     NA         1:Moderate   127.0000\n",
       "6 001290000  0012900  001290001 3:No     NA         2:Low        227.0000\n",
       "  diastol   hypertension_diag hyper_medication waist bmi     \n",
       "1  85.66667 3:No              NA               84.3  24.13540\n",
       "2 120.00000 1:Yes             1:Yes            83.8  22.40130\n",
       "3  78.66667 3:No              NA               70.3  19.25451\n",
       "4  90.00000 1:Yes             3:No             77.6  22.59041\n",
       "5  86.66667 1:Yes             3:No             95.1  26.26042\n",
       "6 128.00000 3:No              NA               70.8  20.59532\n",
       "  education           depression_score sex      age marstat   urban_rural\n",
       "1 2:Elementary school  5               1:Male   59  2:Married 2:Rural    \n",
       "2 2:Elementary school 13               1:Male   55  2:Married 2:Rural    \n",
       "3 2:Elementary school 12               3:Female 54  2:Married 2:Rural    \n",
       "4 2:Elementary school 10               3:Female 62  5:Widowed 2:Rural    \n",
       "5 2:Elementary school 14               1:Male   50  2:Married 2:Rural    \n",
       "6 2:Elementary school 15               1:Male   58  2:Married 2:Rural    \n",
       "  insurance\n",
       "1 3:No     \n",
       "2 1:Yes    \n",
       "3 1:Yes    \n",
       "4 3:No     \n",
       "5 1:Yes    \n",
       "6 1:Yes    "
      ]
     },
     "metadata": {},
     "output_type": "display_data"
    },
    {
     "name": "stdout",
     "output_type": "stream",
     "text": [
      "'data.frame':\t8076 obs. of  19 variables:\n",
      " $ hhid14_9.x       : chr  \"001060000\" \"001220000\" \"001220000\" \"001240000\" ...\n",
      " $ hhid14.x         : chr  \"0010600\" \"0012200\" \"0012200\" \"0012400\" ...\n",
      " $ pidlink          : chr  \"001060001\" \"001220001\" \"001220002\" \"001240002\" ...\n",
      " $ diabetes         : Factor w/ 4 levels \"1:Yes\",\"3:No\",..: 2 2 2 2 2 2 2 2 2 2 ...\n",
      " $ medication       : Factor w/ 3 levels \"1:Yes\",\"3:No\",..: NA NA NA NA NA NA NA NA NA NA ...\n",
      " $ activity_cat     : Factor w/ 3 levels \"0:High\",\"1:Moderate\",..: 3 1 2 2 2 3 1 2 2 1 ...\n",
      " $ sistol           : num  139 199 116 162 127 ...\n",
      " $ diastol          : num  85.7 120 78.7 90 86.7 ...\n",
      " $ hypertension_diag: Factor w/ 4 levels \"1:Yes\",\"3:No\",..: 2 1 2 1 1 2 2 2 2 1 ...\n",
      " $ hyper_medication : Factor w/ 3 levels \"1:Yes\",\"3:No\",..: NA 1 NA 2 2 NA NA NA NA 2 ...\n",
      " $ waist            : num  84.3 83.8 70.3 77.6 95.1 70.8 91.5 91.8 77.5 81.4 ...\n",
      " $ bmi              : num  24.1 22.4 19.3 22.6 26.3 ...\n",
      " $ education        : Factor w/ 22 levels \"2:Elementary school\",..: 1 1 1 1 1 1 1 2 1 4 ...\n",
      " $ depression_score : int  5 13 12 10 14 15 8 5 10 10 ...\n",
      " $ sex              : Factor w/ 2 levels \"1:Male\",\"3:Female\": 1 1 2 2 1 1 2 1 1 1 ...\n",
      " $ age              : num  59 55 54 62 50 58 46 56 46 52 ...\n",
      " $ marstat          : Factor w/ 7 levels \"1:Not yet married\",..: 2 2 2 5 2 2 2 2 2 2 ...\n",
      " $ urban_rural      : Factor w/ 2 levels \"1:Urban\",\"2:Rural\": 2 2 2 2 2 2 2 2 2 2 ...\n",
      " $ insurance        : Factor w/ 4 levels \"1:Yes\",\"3:No\",..: 2 1 1 2 1 1 1 1 1 1 ...\n"
     ]
    },
    {
     "data": {
      "text/plain": [
       "  hhid14_9.x          hhid14.x           pidlink                  diabetes   \n",
       " Length:8076        Length:8076        Length:8076        1:Yes       : 481  \n",
       " Class :character   Class :character   Class :character   3:No        :7595  \n",
       " Mode  :character   Mode  :character   Mode  :character   8:Don't know:   0  \n",
       "                                                          9:Missing   :   0  \n",
       "                                                                             \n",
       "                                                                             \n",
       "                                                                             \n",
       "     medication       activity_cat      sistol          diastol      \n",
       " 1:Yes    : 266   0:High    :1942   Min.   : 86.33   Min.   : 39.00  \n",
       " 3:No     : 215   1:Moderate:2643   1st Qu.:123.67   1st Qu.: 75.00  \n",
       " 9:Missing:   0   2:Low     :3491   Median :136.33   Median : 82.00  \n",
       " NA's     :7595                     Mean   :140.98   Mean   : 83.66  \n",
       "                                    3rd Qu.:154.67   3rd Qu.: 90.67  \n",
       "                                    Max.   :240.67   Max.   :153.33  \n",
       "                                    NA's   :105      NA's   :105     \n",
       "    hypertension_diag  hyper_medication     waist             bmi       \n",
       " 1:Yes       :1925    1:Yes    : 653    Min.   : 32.00   Min.   :12.57  \n",
       " 3:No        :6151    3:No     :1272    1st Qu.: 76.20   1st Qu.:20.68  \n",
       " 8:Don't know:   0    9:Missing:   0    Median : 84.80   Median :23.60  \n",
       " 9:Missing   :   0    NA's     :6151    Mean   : 84.94   Mean   :23.98  \n",
       "                                        3rd Qu.: 93.00   3rd Qu.:26.78  \n",
       "                                        Max.   :132.00   Max.   :68.76  \n",
       "                                                                        \n",
       "                    education    depression_score       sex      \n",
       " 2:Elementary school     :4434   Min.   : 0.000   1:Male  :4055  \n",
       " 3:Junior high general   : 909   1st Qu.: 2.000   3:Female:4021  \n",
       " 5:Senior high general   : 836   Median : 5.000                  \n",
       " 61:University S1        : 537   Mean   : 5.652                  \n",
       " 6:Senior high vocational: 530   3rd Qu.: 8.000                  \n",
       " 60:College (D1,D2,D3)   : 216   Max.   :27.000                  \n",
       " (Other)                 : 614                                   \n",
       "      age                      marstat      urban_rural          insurance   \n",
       " Min.   : 45.00   1:Not yet married: 115   1:Urban:4804   1:Yes       :4079  \n",
       " 1st Qu.: 49.00   2:Married        :6548   2:Rural:3272   3:No        :3997  \n",
       " Median : 54.00   3:Separated      :  52                  8:Don't know:   0  \n",
       " Mean   : 55.64   4:Divorced       : 225                  9:Missing   :   0  \n",
       " 3rd Qu.: 61.00   5:Widowed        :1135                                     \n",
       " Max.   :101.00   6:Cohabitate     :   1                                     \n",
       "                  9:MISSING        :   0                                     "
      ]
     },
     "metadata": {},
     "output_type": "display_data"
    }
   ],
   "source": [
    "# Age >= 45, bmi, waist, education, insurance and depression_score is not NA, education not in pesantren\n",
    "# Maybe should exclude outlier in some continous variable also (height, weight, waist, sistol and diastol)\n",
    "\n",
    "filtered <- all_merged %>%\n",
    "            filter(age >= 45,\n",
    "                   !is.na(bmi),\n",
    "                   !is.na(waist),\n",
    "                   !is.na(education),\n",
    "                   !is.na(depression_score), \n",
    "                   !is.na(insurance),\n",
    "                   !education %in% c(\"14:Islamic School (pesantren)\", \"95:Other\", \"98:Don't Know\", \"99:MISSING\")) %>%\n",
    "            select(-waist_reason, -weight_reason, -height_reason, -cdtype, -height_cm, -weight_kg, -height_m)\n",
    "            \n",
    "head(filtered)\n",
    "str(filtered)\n",
    "summary(filtered)"
   ]
  },
  {
   "cell_type": "code",
   "execution_count": 25,
   "metadata": {},
   "outputs": [],
   "source": [
    "write.csv(filtered, file = \"numeric_dataset.csv\")"
   ]
  },
  {
   "cell_type": "code",
   "execution_count": 26,
   "metadata": {
    "scrolled": true
   },
   "outputs": [
    {
     "data": {
      "image/png": "[encoded data removed]",
      "text/plain": [
       "plot without title"
      ]
     },
     "metadata": {},
     "output_type": "display_data"
    }
   ],
   "source": [
    "#Checking the outliers in numeric data. Should we exclude outliers? \n",
    "\n",
    "boxplot(filtered$age,\n",
    "       filtered$bmi,\n",
    "       filtered$waist,\n",
    "       filtered$sistol,\n",
    "       filtered$diastol,\n",
    "       filtered$depression_score)"
   ]
  },
  {
   "cell_type": "code",
   "execution_count": 27,
   "metadata": {
    "scrolled": true
   },
   "outputs": [
    {
     "data": {
      "text/html": [
       "<table>\n",
       "<thead><tr><th scope=col>pidlink</th><th scope=col>diabetes</th><th scope=col>activity</th><th scope=col>sex</th><th scope=col>residence</th><th scope=col>insurance</th><th scope=col>depression</th><th scope=col>age</th><th scope=col>bmi_obesity</th><th scope=col>waist_obesity</th><th scope=col>hypertension</th><th scope=col>marital</th><th scope=col>education</th></tr></thead>\n",
       "<tbody>\n",
       "\t<tr><td>001060001     </td><td>0:No          </td><td>2:Low         </td><td>0:Male        </td><td>1:Rural       </td><td>0:No          </td><td>0:No          </td><td>1:55-64       </td><td>2:At risk     </td><td>0:Normal      </td><td>0:Normal      </td><td>0:Married     </td><td>2:Rendah      </td></tr>\n",
       "\t<tr><td>001220001     </td><td>0:No          </td><td>0:High        </td><td>0:Male        </td><td>1:Rural       </td><td>1:Yes         </td><td>1:Yes         </td><td>1:55-64       </td><td>1:Normal      </td><td>0:Normal      </td><td>1:Hypertension</td><td>0:Married     </td><td>2:Rendah      </td></tr>\n",
       "\t<tr><td>001220002     </td><td>0:No          </td><td>1:Moderate    </td><td>1:Female      </td><td>1:Rural       </td><td>1:Yes         </td><td>1:Yes         </td><td>0:45-54       </td><td>1:Normal      </td><td>0:Normal      </td><td>0:Normal      </td><td>0:Married     </td><td>2:Rendah      </td></tr>\n",
       "\t<tr><td>001240002     </td><td>0:No          </td><td>1:Moderate    </td><td>1:Female      </td><td>1:Rural       </td><td>0:No          </td><td>1:Yes         </td><td>1:55-64       </td><td>1:Normal      </td><td>0:Normal      </td><td>1:Hypertension</td><td>1:Others      </td><td>2:Rendah      </td></tr>\n",
       "\t<tr><td>001245101     </td><td>0:No          </td><td>1:Moderate    </td><td>0:Male        </td><td>1:Rural       </td><td>1:Yes         </td><td>1:Yes         </td><td>0:45-54       </td><td>3:Obese I     </td><td>1:Obese       </td><td>1:Hypertension</td><td>0:Married     </td><td>2:Rendah      </td></tr>\n",
       "\t<tr><td>001290001     </td><td>0:No          </td><td>2:Low         </td><td>0:Male        </td><td>1:Rural       </td><td>1:Yes         </td><td>1:Yes         </td><td>1:55-64       </td><td>1:Normal      </td><td>0:Normal      </td><td>1:Hypertension</td><td>0:Married     </td><td>2:Rendah      </td></tr>\n",
       "</tbody>\n",
       "</table>\n"
      ],
      "text/latex": [
       "\\begin{tabular}{r|lllllllllllll}\n",
       " pidlink & diabetes & activity & sex & residence & insurance & depression & age & bmi\\_obesity & waist\\_obesity & hypertension & marital & education\\\\\n",
       "\\hline\n",
       "\t 001060001      & 0:No           & 2:Low          & 0:Male         & 1:Rural        & 0:No           & 0:No           & 1:55-64        & 2:At risk      & 0:Normal       & 0:Normal       & 0:Married      & 2:Rendah      \\\\\n",
       "\t 001220001      & 0:No           & 0:High         & 0:Male         & 1:Rural        & 1:Yes          & 1:Yes          & 1:55-64        & 1:Normal       & 0:Normal       & 1:Hypertension & 0:Married      & 2:Rendah      \\\\\n",
       "\t 001220002      & 0:No           & 1:Moderate     & 1:Female       & 1:Rural        & 1:Yes          & 1:Yes          & 0:45-54        & 1:Normal       & 0:Normal       & 0:Normal       & 0:Married      & 2:Rendah      \\\\\n",
       "\t 001240002      & 0:No           & 1:Moderate     & 1:Female       & 1:Rural        & 0:No           & 1:Yes          & 1:55-64        & 1:Normal       & 0:Normal       & 1:Hypertension & 1:Others       & 2:Rendah      \\\\\n",
       "\t 001245101      & 0:No           & 1:Moderate     & 0:Male         & 1:Rural        & 1:Yes          & 1:Yes          & 0:45-54        & 3:Obese I      & 1:Obese        & 1:Hypertension & 0:Married      & 2:Rendah      \\\\\n",
       "\t 001290001      & 0:No           & 2:Low          & 0:Male         & 1:Rural        & 1:Yes          & 1:Yes          & 1:55-64        & 1:Normal       & 0:Normal       & 1:Hypertension & 0:Married      & 2:Rendah      \\\\\n",
       "\\end{tabular}\n"
      ],
      "text/markdown": [
       "\n",
       "pidlink | diabetes | activity | sex | residence | insurance | depression | age | bmi_obesity | waist_obesity | hypertension | marital | education | \n",
       "|---|---|---|---|---|---|\n",
       "| 001060001      | 0:No           | 2:Low          | 0:Male         | 1:Rural        | 0:No           | 0:No           | 1:55-64        | 2:At risk      | 0:Normal       | 0:Normal       | 0:Married      | 2:Rendah       | \n",
       "| 001220001      | 0:No           | 0:High         | 0:Male         | 1:Rural        | 1:Yes          | 1:Yes          | 1:55-64        | 1:Normal       | 0:Normal       | 1:Hypertension | 0:Married      | 2:Rendah       | \n",
       "| 001220002      | 0:No           | 1:Moderate     | 1:Female       | 1:Rural        | 1:Yes          | 1:Yes          | 0:45-54        | 1:Normal       | 0:Normal       | 0:Normal       | 0:Married      | 2:Rendah       | \n",
       "| 001240002      | 0:No           | 1:Moderate     | 1:Female       | 1:Rural        | 0:No           | 1:Yes          | 1:55-64        | 1:Normal       | 0:Normal       | 1:Hypertension | 1:Others       | 2:Rendah       | \n",
       "| 001245101      | 0:No           | 1:Moderate     | 0:Male         | 1:Rural        | 1:Yes          | 1:Yes          | 0:45-54        | 3:Obese I      | 1:Obese        | 1:Hypertension | 0:Married      | 2:Rendah       | \n",
       "| 001290001      | 0:No           | 2:Low          | 0:Male         | 1:Rural        | 1:Yes          | 1:Yes          | 1:55-64        | 1:Normal       | 0:Normal       | 1:Hypertension | 0:Married      | 2:Rendah       | \n",
       "\n",
       "\n"
      ],
      "text/plain": [
       "  pidlink   diabetes activity   sex      residence insurance depression age    \n",
       "1 001060001 0:No     2:Low      0:Male   1:Rural   0:No      0:No       1:55-64\n",
       "2 001220001 0:No     0:High     0:Male   1:Rural   1:Yes     1:Yes      1:55-64\n",
       "3 001220002 0:No     1:Moderate 1:Female 1:Rural   1:Yes     1:Yes      0:45-54\n",
       "4 001240002 0:No     1:Moderate 1:Female 1:Rural   0:No      1:Yes      1:55-64\n",
       "5 001245101 0:No     1:Moderate 0:Male   1:Rural   1:Yes     1:Yes      0:45-54\n",
       "6 001290001 0:No     2:Low      0:Male   1:Rural   1:Yes     1:Yes      1:55-64\n",
       "  bmi_obesity waist_obesity hypertension   marital   education\n",
       "1 2:At risk   0:Normal      0:Normal       0:Married 2:Rendah \n",
       "2 1:Normal    0:Normal      1:Hypertension 0:Married 2:Rendah \n",
       "3 1:Normal    0:Normal      0:Normal       0:Married 2:Rendah \n",
       "4 1:Normal    0:Normal      1:Hypertension 1:Others  2:Rendah \n",
       "5 3:Obese I   1:Obese       1:Hypertension 0:Married 2:Rendah \n",
       "6 1:Normal    0:Normal      1:Hypertension 0:Married 2:Rendah "
      ]
     },
     "metadata": {},
     "output_type": "display_data"
    },
    {
     "name": "stdout",
     "output_type": "stream",
     "text": [
      "'data.frame':\t8076 obs. of  13 variables:\n",
      " $ pidlink      : chr  \"001060001\" \"001220001\" \"001220002\" \"001240002\" ...\n",
      " $ diabetes     : Factor w/ 2 levels \"0:No\",\"1:Yes\": 1 1 1 1 1 1 1 1 1 1 ...\n",
      " $ activity     : Factor w/ 3 levels \"0:High\",\"1:Moderate\",..: 3 1 2 2 2 3 1 2 2 1 ...\n",
      " $ sex          : Factor w/ 2 levels \"0:Male\",\"1:Female\": 1 1 2 2 1 1 2 1 1 1 ...\n",
      " $ residence    : Factor w/ 2 levels \"0:Urban\",\"1:Rural\": 2 2 2 2 2 2 2 2 2 2 ...\n",
      " $ insurance    : Factor w/ 2 levels \"0:No\",\"1:Yes\": 1 2 2 1 2 2 2 2 2 2 ...\n",
      " $ depression   : Factor w/ 2 levels \"0:No\",\"1:Yes\": 1 2 2 2 2 2 1 1 2 2 ...\n",
      " $ age          : Ord.factor w/ 4 levels \"0:45-54\"<\"1:55-64\"<..: 2 2 1 2 1 2 1 2 1 1 ...\n",
      " $ bmi_obesity  : Ord.factor w/ 5 levels \"0:Underweight\"<..: 3 2 2 2 4 2 4 3 2 2 ...\n",
      " $ waist_obesity: Ord.factor w/ 2 levels \"0:Normal\"<\"1:Obese\": 1 1 1 1 2 1 2 2 1 1 ...\n",
      " $ hypertension : Factor w/ 2 levels \"0:Normal\",\"1:Hypertension\": 1 2 1 2 2 2 1 1 1 2 ...\n",
      " $ marital      : Factor w/ 2 levels \"0:Married\",\"1:Others\": 1 1 1 2 1 1 1 1 1 1 ...\n",
      " $ education    : Ord.factor w/ 3 levels \"0:Tinggi\"<\"1:Menengah\"<..: 3 3 3 3 3 3 3 2 3 2 ...\n"
     ]
    },
    {
     "data": {
      "text/plain": [
       "   pidlink           diabetes          activity          sex      \n",
       " Length:8076        0:No :7595   0:High    :1942   0:Male  :4055  \n",
       " Class :character   1:Yes: 481   1:Moderate:2643   1:Female:4021  \n",
       " Mode  :character                2:Low     :3491                  \n",
       "                                                                  \n",
       "                                                                  \n",
       "   residence    insurance    depression        age              bmi_obesity  \n",
       " 0:Urban:4804   0:No :3997   0:No :6634   0:45-54:4267   0:Underweight: 754  \n",
       " 1:Rural:3272   1:Yes:4079   1:Yes:1442   1:55-64:2541   1:Normal     :2864  \n",
       "                                          2:65-74:1021   2:At risk    :1374  \n",
       "                                          3:>=75 : 247   3:Obese I    :2334  \n",
       "                                                         4:Obese II   : 750  \n",
       "  waist_obesity          hypertension       marital          education   \n",
       " 0:Normal:4075   0:Normal      :3890   0:Married:6548   0:Tinggi  : 834  \n",
       " 1:Obese :4001   1:Hypertension:4186   1:Others :1528   1:Menengah:2587  \n",
       "                                                        2:Rendah  :4655  \n",
       "                                                                         \n",
       "                                                                         "
      ]
     },
     "metadata": {},
     "output_type": "display_data"
    }
   ],
   "source": [
    "# Convert continous data to categorical data and change data type to ordered factors (ordinal data type)\n",
    "\n",
    "dataset <- filtered %>%\n",
    "            mutate(depression = as.factor(case_when(depression_score < 10 ~ \"0:No\",\n",
    "                                          depression_score >= 10 ~ \"1:Yes\")),\n",
    "                   depression = factor(depression, levels = c(\"0:No\", \"1:Yes\")),\n",
    "                   age_categorized = as.factor(case_when(age >= 45 & age <55 ~ \"0:45-54\",\n",
    "                                               age >= 55 & age <65 ~ \"1:55-64\",\n",
    "                                               age >= 65 & age <75 ~ \"2:65-74\",\n",
    "                                               age >= 75 ~ \"3:>=75\")),\n",
    "                   age_categorized = factor(age_categorized, ordered = TRUE, levels = c(\"0:45-54\", \"1:55-64\", \"2:65-74\", \"3:>=75\")),\n",
    "                   bmi_obesity = as.factor(case_when(bmi <18.5 ~ \"0:Underweight\",\n",
    "                                           bmi >= 18.5 & bmi <23 ~ \"1:Normal\",\n",
    "                                           bmi >= 23 & bmi <25 ~ \"2:At risk\",\n",
    "                                           bmi >= 25 & bmi <30 ~ \"3:Obese I\",\n",
    "                                           bmi >30 ~ \"4:Obese II\")),\n",
    "                   bmi_obesity = factor(bmi_obesity, ordered = TRUE, levels = c(\"0:Underweight\", \"1:Normal\", \"2:At risk\", \"3:Obese I\", \"4:Obese II\")),\n",
    "                   waist_obesity = as.factor(case_when(waist <90 & sex == \"1:Male\" ~ \"0:Normal\",\n",
    "                                             waist >=90 & sex == \"1:Male\" ~ \"1:Obese\",\n",
    "                                             waist <80 & sex == \"3:Female\" ~ \"0:Normal\",\n",
    "                                             waist >=80 & sex == \"3:Female\" ~ \"1:Obese\")),\n",
    "                   waist_obesity = factor(waist_obesity, ordered = TRUE, levels = c(\"0:Normal\", \"1:Obese\")),\n",
    "                   hypertension = as.factor(case_when(sistol >= 140 | diastol >= 90 | hypertension_diag == \"1:Yes\"| hyper_medication == \"1:Yes\" ~ \"1:Hypertension\",\n",
    "                                            TRUE ~ \"0:Normal\")),\n",
    "                   hypertension = factor(hypertension, levels = c(\"0:Normal\", \"1:Hypertension\")),\n",
    "                   marstat_categorized = as.factor(revalue(marstat, c(\"2:Married\" = \"0:Married\", \n",
    "                                                                       \"1:Not yet married\" = \"1:Others\",\n",
    "                                                                       \"3:Separated\" = \"1:Others\",\n",
    "                                                                       \"4:Divorced\" = \"1:Others\",\n",
    "                                                                       \"5:Widowed\" = \"1:Others\",\n",
    "                                                                       \"6:Cohabitate\" = \"1:Others\"))),\n",
    "                   marstat_categorized = factor(marstat_categorized, levels = c(\"0:Married\", \"1:Others\")),\n",
    "                   edu_categorized = as.factor(revalue(education, c(\"2:Elementary school\" = \"2:Rendah\",\n",
    "                                                                      \"90:Kindergarten\" = \"2:Rendah\",\n",
    "                                                                      \"11:Adult education A\" = \"2:Rendah\",\n",
    "                                                                      \"17:School for Disabled\" = \"2:Rendah\",\n",
    "                                                                      \"72:Islamic Elementary School (Madrasah Ibtidaiyah)\" = \"2:Rendah\",\n",
    "                                                                      \"3:Junior high general\" = \"1:Menengah\",\n",
    "                                                                      \"12:Adult education B\" = \"1:Menengah\",\n",
    "                                                                      \"4:Junior high vocational\" = \"1:Menengah\",\n",
    "                                                                      \"5:Senior high general\" = \"1:Menengah\",\n",
    "                                                                      \"6:Senior high vocational\" = \"1:Menengah\",\n",
    "                                                                      \"15:Adult education C\" = \"1:Menengah\",\n",
    "                                                                      \"73:Islamic Junior/High School (Madrasah Tsanawiyah)\" = \"1:Menengah\",\n",
    "                                                                      \"74:Islamic Senior/High School (Madrasah Tsanawiyah)\" = \"1:Menengah\",\n",
    "                                                                      \"60:College (D1,D2,D3)\" = \"0:Tinggi\",\n",
    "                                                                      \"13:Open university\" = \"0:Tinggi\",\n",
    "                                                                      \"61:University S1\" = \"0:Tinggi\",\n",
    "                                                                      \"62:University S2\" = \"0:Tinggi\",\n",
    "                                                                      \"63:University S3\" = \"0:Tinggi\"))),\n",
    "                    edu_categorized = factor(edu_categorized, ordered = TRUE, levels = c(\"0:Tinggi\", \"1:Menengah\", \"2:Rendah\")),\n",
    "                    diabetes = as.factor(revalue(diabetes, c(\"3:No\" = \"0:No\",\n",
    "                                                              \"1:Yes\" = \"1:Yes\"))),\n",
    "                    diabetes = factor(diabetes, levels = c(\"0:No\", \"1:Yes\")),\n",
    "                    urban_rural = as.factor(revalue(urban_rural, c(\"2:Rural\" = \"1:Rural\",\n",
    "                                                                   \"1:Urban\" = \"0:Urban\"))),\n",
    "                    urban_rural = factor(urban_rural, levels = c(\"0:Urban\", \"1:Rural\")),\n",
    "                    sex = as.factor(revalue(sex, c(\"1:Male\" = \"0:Male\",\n",
    "                                                   \"3:Female\" = \"1:Female\"))),\n",
    "                    sex = factor(sex, levels = c(\"0:Male\", \"1:Female\")),\n",
    "                    insurance = as.factor(revalue(insurance, c(\"3:No\" = \"0:No\",\n",
    "                                                              \"1:Yes\" = \"1:Yes\"))),\n",
    "                    insurance = factor(insurance, levels = c(\"0:No\", \"1:Yes\"))) %>%\n",
    "                    select(-age, -depression_score, -bmi, -waist, -sistol, -diastol, -hypertension_diag, -hyper_medication, -marstat, -education, -hhid14_9.x, -hhid14.x, -medication)\n",
    "\n",
    "dataset <- rename(dataset, \"activity\" = activity_cat,\n",
    "                           \"residence\" = urban_rural,\n",
    "                           \"age\" = age_categorized,\n",
    "                           \"marital\" = marstat_categorized,\n",
    "                           \"education\" = edu_categorized)\n",
    "\n",
    "head(dataset)\n",
    "str(dataset)\n",
    "summary(dataset)"
   ]
  },
  {
   "cell_type": "code",
   "execution_count": 28,
   "metadata": {
    "scrolled": true
   },
   "outputs": [
    {
     "data": {
      "text/html": [
       "<table>\n",
       "<thead><tr><th scope=col>pidlink</th><th scope=col>diabetes</th><th scope=col>activity</th><th scope=col>sex</th><th scope=col>residence</th><th scope=col>insurance</th><th scope=col>depression</th><th scope=col>age</th><th scope=col>bmi_obesity</th><th scope=col>waist_obesity</th><th scope=col>hypertension</th><th scope=col>marital</th><th scope=col>education</th></tr></thead>\n",
       "<tbody>\n",
       "\t<tr><td>001060001     </td><td>0:No          </td><td>2:Low         </td><td>0:Male        </td><td>1:Rural       </td><td>0:No          </td><td>0:No          </td><td>1:55-64       </td><td>2:At risk     </td><td>0:Normal      </td><td>0:Normal      </td><td>0:Married     </td><td>2:Rendah      </td></tr>\n",
       "\t<tr><td>001220001     </td><td>0:No          </td><td>0:High        </td><td>0:Male        </td><td>1:Rural       </td><td>1:Yes         </td><td>1:Yes         </td><td>1:55-64       </td><td>1:Normal      </td><td>0:Normal      </td><td>1:Hypertension</td><td>0:Married     </td><td>2:Rendah      </td></tr>\n",
       "\t<tr><td>001220002     </td><td>0:No          </td><td>1:Moderate    </td><td>1:Female      </td><td>1:Rural       </td><td>1:Yes         </td><td>1:Yes         </td><td>0:45-54       </td><td>1:Normal      </td><td>0:Normal      </td><td>0:Normal      </td><td>0:Married     </td><td>2:Rendah      </td></tr>\n",
       "\t<tr><td>001240002     </td><td>0:No          </td><td>1:Moderate    </td><td>1:Female      </td><td>1:Rural       </td><td>0:No          </td><td>1:Yes         </td><td>1:55-64       </td><td>1:Normal      </td><td>0:Normal      </td><td>1:Hypertension</td><td>1:Others      </td><td>2:Rendah      </td></tr>\n",
       "\t<tr><td>001245101     </td><td>0:No          </td><td>1:Moderate    </td><td>0:Male        </td><td>1:Rural       </td><td>1:Yes         </td><td>1:Yes         </td><td>0:45-54       </td><td>3:Obese I     </td><td>1:Obese       </td><td>1:Hypertension</td><td>0:Married     </td><td>2:Rendah      </td></tr>\n",
       "\t<tr><td>001290001     </td><td>0:No          </td><td>2:Low         </td><td>0:Male        </td><td>1:Rural       </td><td>1:Yes         </td><td>1:Yes         </td><td>1:55-64       </td><td>1:Normal      </td><td>0:Normal      </td><td>1:Hypertension</td><td>0:Married     </td><td>2:Rendah      </td></tr>\n",
       "</tbody>\n",
       "</table>\n"
      ],
      "text/latex": [
       "\\begin{tabular}{r|lllllllllllll}\n",
       " pidlink & diabetes & activity & sex & residence & insurance & depression & age & bmi\\_obesity & waist\\_obesity & hypertension & marital & education\\\\\n",
       "\\hline\n",
       "\t 001060001      & 0:No           & 2:Low          & 0:Male         & 1:Rural        & 0:No           & 0:No           & 1:55-64        & 2:At risk      & 0:Normal       & 0:Normal       & 0:Married      & 2:Rendah      \\\\\n",
       "\t 001220001      & 0:No           & 0:High         & 0:Male         & 1:Rural        & 1:Yes          & 1:Yes          & 1:55-64        & 1:Normal       & 0:Normal       & 1:Hypertension & 0:Married      & 2:Rendah      \\\\\n",
       "\t 001220002      & 0:No           & 1:Moderate     & 1:Female       & 1:Rural        & 1:Yes          & 1:Yes          & 0:45-54        & 1:Normal       & 0:Normal       & 0:Normal       & 0:Married      & 2:Rendah      \\\\\n",
       "\t 001240002      & 0:No           & 1:Moderate     & 1:Female       & 1:Rural        & 0:No           & 1:Yes          & 1:55-64        & 1:Normal       & 0:Normal       & 1:Hypertension & 1:Others       & 2:Rendah      \\\\\n",
       "\t 001245101      & 0:No           & 1:Moderate     & 0:Male         & 1:Rural        & 1:Yes          & 1:Yes          & 0:45-54        & 3:Obese I      & 1:Obese        & 1:Hypertension & 0:Married      & 2:Rendah      \\\\\n",
       "\t 001290001      & 0:No           & 2:Low          & 0:Male         & 1:Rural        & 1:Yes          & 1:Yes          & 1:55-64        & 1:Normal       & 0:Normal       & 1:Hypertension & 0:Married      & 2:Rendah      \\\\\n",
       "\\end{tabular}\n"
      ],
      "text/markdown": [
       "\n",
       "pidlink | diabetes | activity | sex | residence | insurance | depression | age | bmi_obesity | waist_obesity | hypertension | marital | education | \n",
       "|---|---|---|---|---|---|\n",
       "| 001060001      | 0:No           | 2:Low          | 0:Male         | 1:Rural        | 0:No           | 0:No           | 1:55-64        | 2:At risk      | 0:Normal       | 0:Normal       | 0:Married      | 2:Rendah       | \n",
       "| 001220001      | 0:No           | 0:High         | 0:Male         | 1:Rural        | 1:Yes          | 1:Yes          | 1:55-64        | 1:Normal       | 0:Normal       | 1:Hypertension | 0:Married      | 2:Rendah       | \n",
       "| 001220002      | 0:No           | 1:Moderate     | 1:Female       | 1:Rural        | 1:Yes          | 1:Yes          | 0:45-54        | 1:Normal       | 0:Normal       | 0:Normal       | 0:Married      | 2:Rendah       | \n",
       "| 001240002      | 0:No           | 1:Moderate     | 1:Female       | 1:Rural        | 0:No           | 1:Yes          | 1:55-64        | 1:Normal       | 0:Normal       | 1:Hypertension | 1:Others       | 2:Rendah       | \n",
       "| 001245101      | 0:No           | 1:Moderate     | 0:Male         | 1:Rural        | 1:Yes          | 1:Yes          | 0:45-54        | 3:Obese I      | 1:Obese        | 1:Hypertension | 0:Married      | 2:Rendah       | \n",
       "| 001290001      | 0:No           | 2:Low          | 0:Male         | 1:Rural        | 1:Yes          | 1:Yes          | 1:55-64        | 1:Normal       | 0:Normal       | 1:Hypertension | 0:Married      | 2:Rendah       | \n",
       "\n",
       "\n"
      ],
      "text/plain": [
       "  pidlink   diabetes activity   sex      residence insurance depression age    \n",
       "1 001060001 0:No     2:Low      0:Male   1:Rural   0:No      0:No       1:55-64\n",
       "2 001220001 0:No     0:High     0:Male   1:Rural   1:Yes     1:Yes      1:55-64\n",
       "3 001220002 0:No     1:Moderate 1:Female 1:Rural   1:Yes     1:Yes      0:45-54\n",
       "4 001240002 0:No     1:Moderate 1:Female 1:Rural   0:No      1:Yes      1:55-64\n",
       "5 001245101 0:No     1:Moderate 0:Male   1:Rural   1:Yes     1:Yes      0:45-54\n",
       "6 001290001 0:No     2:Low      0:Male   1:Rural   1:Yes     1:Yes      1:55-64\n",
       "  bmi_obesity waist_obesity hypertension   marital   education\n",
       "1 2:At risk   0:Normal      0:Normal       0:Married 2:Rendah \n",
       "2 1:Normal    0:Normal      1:Hypertension 0:Married 2:Rendah \n",
       "3 1:Normal    0:Normal      0:Normal       0:Married 2:Rendah \n",
       "4 1:Normal    0:Normal      1:Hypertension 1:Others  2:Rendah \n",
       "5 3:Obese I   1:Obese       1:Hypertension 0:Married 2:Rendah \n",
       "6 1:Normal    0:Normal      1:Hypertension 0:Married 2:Rendah "
      ]
     },
     "metadata": {},
     "output_type": "display_data"
    },
    {
     "name": "stdout",
     "output_type": "stream",
     "text": [
      "'data.frame':\t8076 obs. of  13 variables:\n",
      " $ pidlink      : chr  \"001060001\" \"001220001\" \"001220002\" \"001240002\" ...\n",
      " $ diabetes     : Factor w/ 2 levels \"0:No\",\"1:Yes\": 1 1 1 1 1 1 1 1 1 1 ...\n",
      " $ activity     : Factor w/ 3 levels \"0:High\",\"1:Moderate\",..: 3 1 2 2 2 3 1 2 2 1 ...\n",
      " $ sex          : Factor w/ 2 levels \"0:Male\",\"1:Female\": 1 1 2 2 1 1 2 1 1 1 ...\n",
      " $ residence    : Factor w/ 2 levels \"0:Urban\",\"1:Rural\": 2 2 2 2 2 2 2 2 2 2 ...\n",
      " $ insurance    : Factor w/ 2 levels \"0:No\",\"1:Yes\": 1 2 2 1 2 2 2 2 2 2 ...\n",
      " $ depression   : Factor w/ 2 levels \"0:No\",\"1:Yes\": 1 2 2 2 2 2 1 1 2 2 ...\n",
      " $ age          : Factor w/ 4 levels \"0:45-54\",\"1:55-64\",..: 2 2 1 2 1 2 1 2 1 1 ...\n",
      " $ bmi_obesity  : Factor w/ 5 levels \"0:Underweight\",..: 3 2 2 2 4 2 4 3 2 2 ...\n",
      " $ waist_obesity: Factor w/ 2 levels \"0:Normal\",\"1:Obese\": 1 1 1 1 2 1 2 2 1 1 ...\n",
      " $ hypertension : Factor w/ 2 levels \"0:Normal\",\"1:Hypertension\": 1 2 1 2 2 2 1 1 1 2 ...\n",
      " $ marital      : Factor w/ 2 levels \"0:Married\",\"1:Others\": 1 1 1 2 1 1 1 1 1 1 ...\n",
      " $ education    : Factor w/ 3 levels \"0:Tinggi\",\"1:Menengah\",..: 3 3 3 3 3 3 3 2 3 2 ...\n"
     ]
    },
    {
     "data": {
      "text/plain": [
       "   pidlink           diabetes          activity          sex      \n",
       " Length:8076        0:No :7595   0:High    :1942   0:Male  :4055  \n",
       " Class :character   1:Yes: 481   1:Moderate:2643   1:Female:4021  \n",
       " Mode  :character                2:Low     :3491                  \n",
       "                                                                  \n",
       "                                                                  \n",
       "   residence    insurance    depression        age              bmi_obesity  \n",
       " 0:Urban:4804   0:No :3997   0:No :6634   0:45-54:4267   0:Underweight: 754  \n",
       " 1:Rural:3272   1:Yes:4079   1:Yes:1442   1:55-64:2541   1:Normal     :2864  \n",
       "                                          2:65-74:1021   2:At risk    :1374  \n",
       "                                          3:>=75 : 247   3:Obese I    :2334  \n",
       "                                                         4:Obese II   : 750  \n",
       "  waist_obesity          hypertension       marital          education   \n",
       " 0:Normal:4075   0:Normal      :3890   0:Married:6548   0:Tinggi  : 834  \n",
       " 1:Obese :4001   1:Hypertension:4186   1:Others :1528   1:Menengah:2587  \n",
       "                                                        2:Rendah  :4655  \n",
       "                                                                         \n",
       "                                                                         "
      ]
     },
     "metadata": {},
     "output_type": "display_data"
    }
   ],
   "source": [
    "# Create a unordered factor for logistic regression analysis \n",
    "\n",
    "dataset_unordered <- filtered %>%\n",
    "            mutate(depression = as.factor(case_when(depression_score < 10 ~ \"0:No\",\n",
    "                                          depression_score >= 10 ~ \"1:Yes\")),\n",
    "                   depression = factor(depression, levels = c(\"0:No\", \"1:Yes\")),\n",
    "                   age_categorized = as.factor(case_when(age >= 45 & age <55 ~ \"0:45-54\",\n",
    "                                               age >= 55 & age <65 ~ \"1:55-64\",\n",
    "                                               age >= 65 & age <75 ~ \"2:65-74\",\n",
    "                                               age >= 75 ~ \"3:>=75\")),\n",
    "                   age_categorized = factor(age_categorized, levels = c(\"0:45-54\", \"1:55-64\", \"2:65-74\", \"3:>=75\")),\n",
    "                   bmi_obesity = as.factor(case_when(bmi <18.5 ~ \"0:Underweight\",\n",
    "                                           bmi >= 18.5 & bmi <23 ~ \"1:Normal\",\n",
    "                                           bmi >= 23 & bmi <25 ~ \"2:At risk\",\n",
    "                                           bmi >= 25 & bmi <30 ~ \"3:Obese I\",\n",
    "                                           bmi >30 ~ \"4:Obese II\")),\n",
    "                   bmi_obesity = factor(bmi_obesity, levels = c(\"0:Underweight\", \"1:Normal\", \"2:At risk\", \"3:Obese I\", \"4:Obese II\")),\n",
    "                   waist_obesity = as.factor(case_when(waist <90 & sex == \"1:Male\" ~ \"0:Normal\",\n",
    "                                             waist >=90 & sex == \"1:Male\" ~ \"1:Obese\",\n",
    "                                             waist <80 & sex == \"3:Female\" ~ \"0:Normal\",\n",
    "                                             waist >=80 & sex == \"3:Female\" ~ \"1:Obese\")),\n",
    "                   waist_obesity = factor(waist_obesity, levels = c(\"0:Normal\", \"1:Obese\")),\n",
    "                   hypertension = as.factor(case_when(sistol >= 140 | diastol >= 90 | hypertension_diag == \"1:Yes\"| hyper_medication == \"1:Yes\" ~ \"1:Hypertension\",\n",
    "                                            TRUE ~ \"0:Normal\")),\n",
    "                   hypertension = factor(hypertension, levels = c(\"0:Normal\", \"1:Hypertension\")),\n",
    "                   marstat_categorized = as.factor(revalue(marstat, c(\"2:Married\" = \"0:Married\", \n",
    "                                                                       \"1:Not yet married\" = \"1:Others\",\n",
    "                                                                       \"3:Separated\" = \"1:Others\",\n",
    "                                                                       \"4:Divorced\" = \"1:Others\",\n",
    "                                                                       \"5:Widowed\" = \"1:Others\",\n",
    "                                                                       \"6:Cohabitate\" = \"1:Others\"))),\n",
    "                   marstat_categorized = factor(marstat_categorized, levels = c(\"0:Married\", \"1:Others\")),\n",
    "                   edu_categorized = as.factor(revalue(education, c(\"2:Elementary school\" = \"2:Rendah\",\n",
    "                                                                      \"90:Kindergarten\" = \"2:Rendah\",\n",
    "                                                                      \"11:Adult education A\" = \"2:Rendah\",\n",
    "                                                                      \"17:School for Disabled\" = \"2:Rendah\",\n",
    "                                                                      \"72:Islamic Elementary School (Madrasah Ibtidaiyah)\" = \"2:Rendah\",\n",
    "                                                                      \"3:Junior high general\" = \"1:Menengah\",\n",
    "                                                                      \"12:Adult education B\" = \"1:Menengah\",\n",
    "                                                                      \"4:Junior high vocational\" = \"1:Menengah\",\n",
    "                                                                      \"5:Senior high general\" = \"1:Menengah\",\n",
    "                                                                      \"6:Senior high vocational\" = \"1:Menengah\",\n",
    "                                                                      \"15:Adult education C\" = \"1:Menengah\",\n",
    "                                                                      \"73:Islamic Junior/High School (Madrasah Tsanawiyah)\" = \"1:Menengah\",\n",
    "                                                                      \"74:Islamic Senior/High School (Madrasah Tsanawiyah)\" = \"1:Menengah\",\n",
    "                                                                      \"60:College (D1,D2,D3)\" = \"0:Tinggi\",\n",
    "                                                                      \"13:Open university\" = \"0:Tinggi\",\n",
    "                                                                      \"61:University S1\" = \"0:Tinggi\",\n",
    "                                                                      \"62:University S2\" = \"0:Tinggi\",\n",
    "                                                                      \"63:University S3\" = \"0:Tinggi\"))),\n",
    "                    edu_categorized = factor(edu_categorized, levels = c(\"0:Tinggi\", \"1:Menengah\", \"2:Rendah\")),\n",
    "                    diabetes = as.factor(revalue(diabetes, c(\"3:No\" = \"0:No\",\n",
    "                                                              \"1:Yes\" = \"1:Yes\"))),\n",
    "                    diabetes = factor(diabetes, levels = c(\"0:No\", \"1:Yes\")),\n",
    "                    urban_rural = as.factor(revalue(urban_rural, c(\"2:Rural\" = \"1:Rural\",\n",
    "                                                                   \"1:Urban\" = \"0:Urban\"))),\n",
    "                    urban_rural = factor(urban_rural, levels = c(\"0:Urban\", \"1:Rural\")),\n",
    "                    sex = as.factor(revalue(sex, c(\"1:Male\" = \"0:Male\",\n",
    "                                                   \"3:Female\" = \"1:Female\"))),\n",
    "                    sex = factor(sex, levels = c(\"0:Male\", \"1:Female\")),\n",
    "                    insurance = as.factor(revalue(insurance, c(\"3:No\" = \"0:No\",\n",
    "                                                              \"1:Yes\" = \"1:Yes\"))),\n",
    "                    insurance = factor(insurance, levels = c(\"0:No\", \"1:Yes\"))) %>%\n",
    "                    select(-age, -depression_score, -bmi, -waist, -sistol, -diastol, -hypertension_diag, -hyper_medication, -marstat, -education, -hhid14_9.x, -hhid14.x, -medication)\n",
    "\n",
    "dataset_unordered <- rename(dataset_unordered, \"activity\" = activity_cat,\n",
    "                           \"residence\" = urban_rural,\n",
    "                           \"age\" = age_categorized,\n",
    "                           \"marital\" = marstat_categorized,\n",
    "                           \"education\" = edu_categorized)\n",
    "\n",
    "head(dataset_unordered)\n",
    "str(dataset_unordered)\n",
    "summary(dataset_unordered)"
   ]
  },
  {
   "cell_type": "code",
   "execution_count": 29,
   "metadata": {},
   "outputs": [],
   "source": [
    "write.csv(dataset, file = \"dataset.csv\")"
   ]
  },
  {
   "cell_type": "code",
   "execution_count": 30,
   "metadata": {},
   "outputs": [],
   "source": [
    "write.csv(dataset_unordered, file = \"dataset_unordered.csv\")"
   ]
  },
  {
   "cell_type": "markdown",
   "metadata": {},
   "source": [
    "# Univariate analysis (proportion tables)"
   ]
  },
  {
   "cell_type": "code",
   "execution_count": 31,
   "metadata": {
    "scrolled": true
   },
   "outputs": [
    {
     "data": {
      "text/plain": [
       "            DB\n",
       "Activity     0:No 1:Yes\n",
       "  0:High     1874    68\n",
       "  1:Moderate 2482   161\n",
       "  2:Low      3239   252"
      ]
     },
     "metadata": {},
     "output_type": "display_data"
    },
    {
     "data": {
      "text/plain": [
       "            DB\n",
       "Activity     0:No 1:Yes\n",
       "  0:High     0.96  0.04\n",
       "  1:Moderate 0.94  0.06\n",
       "  2:Low      0.93  0.07"
      ]
     },
     "metadata": {},
     "output_type": "display_data"
    },
    {
     "data": {
      "text/plain": [
       "          DB\n",
       "Sex        0:No 1:Yes\n",
       "  0:Male   3829   226\n",
       "  1:Female 3766   255"
      ]
     },
     "metadata": {},
     "output_type": "display_data"
    },
    {
     "data": {
      "text/plain": [
       "          DB\n",
       "Sex        0:No 1:Yes\n",
       "  0:Male   0.94  0.06\n",
       "  1:Female 0.94  0.06"
      ]
     },
     "metadata": {},
     "output_type": "display_data"
    },
    {
     "data": {
      "text/plain": [
       "         DB\n",
       "residence 0:No 1:Yes\n",
       "  0:Urban 4435   369\n",
       "  1:Rural 3160   112"
      ]
     },
     "metadata": {},
     "output_type": "display_data"
    },
    {
     "data": {
      "text/plain": [
       "         DB\n",
       "residence 0:No 1:Yes\n",
       "  0:Urban 0.92  0.08\n",
       "  1:Rural 0.97  0.03"
      ]
     },
     "metadata": {},
     "output_type": "display_data"
    },
    {
     "data": {
      "text/plain": [
       "         DB\n",
       "insurance 0:No 1:Yes\n",
       "    0:No  3806   191\n",
       "    1:Yes 3789   290"
      ]
     },
     "metadata": {},
     "output_type": "display_data"
    },
    {
     "data": {
      "text/plain": [
       "         DB\n",
       "insurance 0:No 1:Yes\n",
       "    0:No  0.95  0.05\n",
       "    1:Yes 0.93  0.07"
      ]
     },
     "metadata": {},
     "output_type": "display_data"
    },
    {
     "data": {
      "text/plain": [
       "          DB\n",
       "depression 0:No 1:Yes\n",
       "     0:No  6238   396\n",
       "     1:Yes 1357    85"
      ]
     },
     "metadata": {},
     "output_type": "display_data"
    },
    {
     "data": {
      "text/plain": [
       "          DB\n",
       "depression 0:No 1:Yes\n",
       "     0:No  0.94  0.06\n",
       "     1:Yes 0.94  0.06"
      ]
     },
     "metadata": {},
     "output_type": "display_data"
    },
    {
     "data": {
      "text/plain": [
       "         DB\n",
       "age       0:No 1:Yes\n",
       "  0:45-54 4082   185\n",
       "  1:55-64 2326   215\n",
       "  2:65-74  950    71\n",
       "  3:>=75   237    10"
      ]
     },
     "metadata": {},
     "output_type": "display_data"
    },
    {
     "data": {
      "text/plain": [
       "         DB\n",
       "age       0:No 1:Yes\n",
       "  0:45-54 0.96  0.04\n",
       "  1:55-64 0.92  0.08\n",
       "  2:65-74 0.93  0.07\n",
       "  3:>=75  0.96  0.04"
      ]
     },
     "metadata": {},
     "output_type": "display_data"
    },
    {
     "data": {
      "text/plain": [
       "               DB\n",
       "bmi_obesity     0:No 1:Yes\n",
       "  0:Underweight  735    19\n",
       "  1:Normal      2730   134\n",
       "  2:At risk     1273   101\n",
       "  3:Obese I     2156   178\n",
       "  4:Obese II     701    49"
      ]
     },
     "metadata": {},
     "output_type": "display_data"
    },
    {
     "data": {
      "text/plain": [
       "               DB\n",
       "bmi_obesity     0:No 1:Yes\n",
       "  0:Underweight 0.97  0.03\n",
       "  1:Normal      0.95  0.05\n",
       "  2:At risk     0.93  0.07\n",
       "  3:Obese I     0.92  0.08\n",
       "  4:Obese II    0.93  0.07"
      ]
     },
     "metadata": {},
     "output_type": "display_data"
    },
    {
     "data": {
      "text/plain": [
       "             DB\n",
       "waist_obesity 0:No 1:Yes\n",
       "     0:Normal 3913   162\n",
       "     1:Obese  3682   319"
      ]
     },
     "metadata": {},
     "output_type": "display_data"
    },
    {
     "data": {
      "text/plain": [
       "             DB\n",
       "waist_obesity 0:No 1:Yes\n",
       "     0:Normal 0.96  0.04\n",
       "     1:Obese  0.92  0.08"
      ]
     },
     "metadata": {},
     "output_type": "display_data"
    },
    {
     "data": {
      "text/plain": [
       "                DB\n",
       "hypertension     0:No 1:Yes\n",
       "  0:Normal       3745   145\n",
       "  1:Hypertension 3850   336"
      ]
     },
     "metadata": {},
     "output_type": "display_data"
    },
    {
     "data": {
      "text/plain": [
       "                DB\n",
       "hypertension     0:No 1:Yes\n",
       "  0:Normal       0.96  0.04\n",
       "  1:Hypertension 0.92  0.08"
      ]
     },
     "metadata": {},
     "output_type": "display_data"
    },
    {
     "data": {
      "text/plain": [
       "           DB\n",
       "marital     0:No 1:Yes\n",
       "  0:Married 6156   392\n",
       "  1:Others  1439    89"
      ]
     },
     "metadata": {},
     "output_type": "display_data"
    },
    {
     "data": {
      "text/plain": [
       "           DB\n",
       "marital     0:No 1:Yes\n",
       "  0:Married 0.94  0.06\n",
       "  1:Others  0.94  0.06"
      ]
     },
     "metadata": {},
     "output_type": "display_data"
    },
    {
     "data": {
      "text/plain": [
       "            DB\n",
       "education    0:No 1:Yes\n",
       "  0:Tinggi    747    87\n",
       "  1:Menengah 2415   172\n",
       "  2:Rendah   4433   222"
      ]
     },
     "metadata": {},
     "output_type": "display_data"
    },
    {
     "data": {
      "text/plain": [
       "            DB\n",
       "education    0:No 1:Yes\n",
       "  0:Tinggi   0.90  0.10\n",
       "  1:Menengah 0.93  0.07\n",
       "  2:Rendah   0.95  0.05"
      ]
     },
     "metadata": {},
     "output_type": "display_data"
    }
   ],
   "source": [
    "#Proportion table diabetes prevalence each independent variable groups\n",
    "    \n",
    "absolute_activity_db <- table(dataset$activity, dataset$diabetes, dnn = c(\"Activity\", \"DB\"))\n",
    "prop_activity_db <- round(prop.table(table(dataset$activity, dataset$diabetes, dnn = c(\"Activity\", \"DB\")),1),digits=2) \n",
    "absolute_activity_db\n",
    "prop_activity_db\n",
    "\n",
    "absolute_sex_db <- table(dataset$sex, dataset$diabetes, dnn = c(\"Sex\", \"DB\"))\n",
    "prop_sex_db <- round(prop.table(table(dataset$sex, dataset$diabetes, dnn = c(\"Sex\", \"DB\")),1),digits=2) \n",
    "absolute_sex_db\n",
    "prop_sex_db\n",
    "\n",
    "absolute_residence_db <- table(dataset$residence, dataset$diabetes, dnn = c(\"residence\", \"DB\"))\n",
    "prop_residence_db <- round(prop.table(table(dataset$residence, dataset$diabetes, dnn = c(\"residence\", \"DB\")),1),digits=2) \n",
    "absolute_residence_db\n",
    "prop_residence_db\n",
    "\n",
    "absolute_insurance_db <- table(dataset$insurance, dataset$diabetes, dnn = c(\"insurance\", \"DB\"))\n",
    "prop_insurance_db <- round(prop.table(table(dataset$insurance, dataset$diabetes, dnn = c(\"insurance\", \"DB\")),1),digits=2) \n",
    "absolute_insurance_db\n",
    "prop_insurance_db\n",
    "\n",
    "absolute_depression_db <- table(dataset$depression, dataset$diabetes, dnn = c(\"depression\", \"DB\"))\n",
    "prop_depression_db <- round(prop.table(table(dataset$depression, dataset$diabetes, dnn = c(\"depression\", \"DB\")),1),digits=2) \n",
    "absolute_depression_db\n",
    "prop_depression_db\n",
    "\n",
    "absolute_age_db <- table(dataset$age, dataset$diabetes, dnn = c(\"age\", \"DB\"))\n",
    "prop_age_db <- round(prop.table(table(dataset$age, dataset$diabetes, dnn = c(\"age\", \"DB\")),1),digits=2) \n",
    "absolute_age_db\n",
    "prop_age_db\n",
    "\n",
    "absolute_bmi_obesity_db <- table(dataset$bmi_obesity, dataset$diabetes, dnn = c(\"bmi_obesity\", \"DB\"))\n",
    "prop_bmi_obesity_db <- round(prop.table(table(dataset$bmi_obesity, dataset$diabetes, dnn = c(\"bmi_obesity\", \"DB\")),1),digits=2) \n",
    "absolute_bmi_obesity_db\n",
    "prop_bmi_obesity_db\n",
    "\n",
    "absolute_waist_obesity_db <- table(dataset$waist_obesity, dataset$diabetes, dnn = c(\"waist_obesity\", \"DB\"))\n",
    "prop_waist_obesity_db <- round(prop.table(table(dataset$waist_obesity, dataset$diabetes, dnn = c(\"waist_obesity\", \"DB\")),1),digits=2) \n",
    "absolute_waist_obesity_db\n",
    "prop_waist_obesity_db\n",
    "\n",
    "absolute_hypertension_db <- table(dataset$hypertension, dataset$diabetes, dnn = c(\"hypertension\", \"DB\"))\n",
    "prop_hypertension_db <- round(prop.table(table(dataset$hypertension, dataset$diabetes, dnn = c(\"hypertension\", \"DB\")),1),digits=2) \n",
    "absolute_hypertension_db\n",
    "prop_hypertension_db\n",
    "\n",
    "absolute_marital_db <- table(dataset$marital, dataset$diabetes, dnn = c(\"marital\", \"DB\"))\n",
    "prop_marital_db <- round(prop.table(table(dataset$marital, dataset$diabetes, dnn = c(\"marital\", \"DB\")),1),digits=2) \n",
    "absolute_marital_db\n",
    "prop_marital_db\n",
    "\n",
    "absolute_education_db <- table(dataset$education, dataset$diabetes, dnn = c(\"education\", \"DB\"))\n",
    "prop_education_db <- round(prop.table(table(dataset$education, dataset$diabetes, dnn = c(\"education\", \"DB\")),1),digits=2) \n",
    "absolute_education_db\n",
    "prop_education_db\n",
    " "
   ]
  },
  {
   "cell_type": "code",
   "execution_count": 32,
   "metadata": {},
   "outputs": [
    {
     "data": {
      "text/plain": [
       "          activity\n",
       "Sex        0:High 1:Moderate 2:Low\n",
       "  0:Male     1191       1284  1580\n",
       "  1:Female    751       1359  1911"
      ]
     },
     "metadata": {},
     "output_type": "display_data"
    },
    {
     "data": {
      "text/plain": [
       "          activity\n",
       "Sex        0:High 1:Moderate 2:Low\n",
       "  0:Male     0.29       0.32  0.39\n",
       "  1:Female   0.19       0.34  0.48"
      ]
     },
     "metadata": {},
     "output_type": "display_data"
    },
    {
     "data": {
      "text/plain": [
       "         activity\n",
       "residence 0:High 1:Moderate 2:Low\n",
       "  0:Urban    977       1600  2227\n",
       "  1:Rural    965       1043  1264"
      ]
     },
     "metadata": {},
     "output_type": "display_data"
    },
    {
     "data": {
      "text/plain": [
       "         activity\n",
       "residence 0:High 1:Moderate 2:Low\n",
       "  0:Urban   0.20       0.33  0.46\n",
       "  1:Rural   0.29       0.32  0.39"
      ]
     },
     "metadata": {},
     "output_type": "display_data"
    },
    {
     "data": {
      "text/plain": [
       "         activity\n",
       "insurance 0:High 1:Moderate 2:Low\n",
       "    0:No    1017       1287  1693\n",
       "    1:Yes    925       1356  1798"
      ]
     },
     "metadata": {},
     "output_type": "display_data"
    },
    {
     "data": {
      "text/plain": [
       "         activity\n",
       "insurance 0:High 1:Moderate 2:Low\n",
       "    0:No    0.25       0.32  0.42\n",
       "    1:Yes   0.23       0.33  0.44"
      ]
     },
     "metadata": {},
     "output_type": "display_data"
    },
    {
     "data": {
      "text/plain": [
       "          activity\n",
       "depression 0:High 1:Moderate 2:Low\n",
       "     0:No    1543       2176  2915\n",
       "     1:Yes    399        467   576"
      ]
     },
     "metadata": {},
     "output_type": "display_data"
    },
    {
     "data": {
      "text/plain": [
       "          activity\n",
       "depression 0:High 1:Moderate 2:Low\n",
       "     0:No    0.23       0.33  0.44\n",
       "     1:Yes   0.28       0.32  0.40"
      ]
     },
     "metadata": {},
     "output_type": "display_data"
    },
    {
     "data": {
      "text/plain": [
       "         activity\n",
       "age       0:High 1:Moderate 2:Low\n",
       "  0:45-54   1135       1349  1783\n",
       "  1:55-64    592        886  1063\n",
       "  2:65-74    186        331   504\n",
       "  3:>=75      29         77   141"
      ]
     },
     "metadata": {},
     "output_type": "display_data"
    },
    {
     "data": {
      "text/plain": [
       "         activity\n",
       "age       0:High 1:Moderate 2:Low\n",
       "  0:45-54   0.27       0.32  0.42\n",
       "  1:55-64   0.23       0.35  0.42\n",
       "  2:65-74   0.18       0.32  0.49\n",
       "  3:>=75    0.12       0.31  0.57"
      ]
     },
     "metadata": {},
     "output_type": "display_data"
    },
    {
     "data": {
      "text/plain": [
       "               activity\n",
       "bmi_obesity     0:High 1:Moderate 2:Low\n",
       "  0:Underweight    200        237   317\n",
       "  1:Normal         851        880  1133\n",
       "  2:At risk        299        469   606\n",
       "  3:Obese I        470        796  1068\n",
       "  4:Obese II       122        261   367"
      ]
     },
     "metadata": {},
     "output_type": "display_data"
    },
    {
     "data": {
      "text/plain": [
       "               activity\n",
       "bmi_obesity     0:High 1:Moderate 2:Low\n",
       "  0:Underweight   0.27       0.31  0.42\n",
       "  1:Normal        0.30       0.31  0.40\n",
       "  2:At risk       0.22       0.34  0.44\n",
       "  3:Obese I       0.20       0.34  0.46\n",
       "  4:Obese II      0.16       0.35  0.49"
      ]
     },
     "metadata": {},
     "output_type": "display_data"
    },
    {
     "data": {
      "text/plain": [
       "             activity\n",
       "waist_obesity 0:High 1:Moderate 2:Low\n",
       "     0:Normal   1191       1278  1606\n",
       "     1:Obese     751       1365  1885"
      ]
     },
     "metadata": {},
     "output_type": "display_data"
    },
    {
     "data": {
      "text/plain": [
       "             activity\n",
       "waist_obesity 0:High 1:Moderate 2:Low\n",
       "     0:Normal   0.29       0.31  0.39\n",
       "     1:Obese    0.19       0.34  0.47"
      ]
     },
     "metadata": {},
     "output_type": "display_data"
    },
    {
     "data": {
      "text/plain": [
       "                activity\n",
       "hypertension     0:High 1:Moderate 2:Low\n",
       "  0:Normal         1078       1236  1576\n",
       "  1:Hypertension    864       1407  1915"
      ]
     },
     "metadata": {},
     "output_type": "display_data"
    },
    {
     "data": {
      "text/plain": [
       "                activity\n",
       "hypertension     0:High 1:Moderate 2:Low\n",
       "  0:Normal         0.28       0.32  0.41\n",
       "  1:Hypertension   0.21       0.34  0.46"
      ]
     },
     "metadata": {},
     "output_type": "display_data"
    },
    {
     "data": {
      "text/plain": [
       "           activity\n",
       "marital     0:High 1:Moderate 2:Low\n",
       "  0:Married   1671       2138  2739\n",
       "  1:Others     271        505   752"
      ]
     },
     "metadata": {},
     "output_type": "display_data"
    },
    {
     "data": {
      "text/plain": [
       "           activity\n",
       "marital     0:High 1:Moderate 2:Low\n",
       "  0:Married   0.26       0.33  0.42\n",
       "  1:Others    0.18       0.33  0.49"
      ]
     },
     "metadata": {},
     "output_type": "display_data"
    },
    {
     "data": {
      "text/plain": [
       "            activity\n",
       "education    0:High 1:Moderate 2:Low\n",
       "  0:Tinggi      142        270   422\n",
       "  1:Menengah    557        870  1160\n",
       "  2:Rendah     1243       1503  1909"
      ]
     },
     "metadata": {},
     "output_type": "display_data"
    },
    {
     "data": {
      "text/plain": [
       "            activity\n",
       "education    0:High 1:Moderate 2:Low\n",
       "  0:Tinggi     0.17       0.32  0.51\n",
       "  1:Menengah   0.22       0.34  0.45\n",
       "  2:Rendah     0.27       0.32  0.41"
      ]
     },
     "metadata": {},
     "output_type": "display_data"
    }
   ],
   "source": [
    "#Proportion table for physical activity each independent variable groups\n",
    "    \n",
    "absolute_sex_activity <- table(dataset$sex, dataset$activity, dnn = c(\"Sex\", \"activity\"))\n",
    "prop_sex_activity <- round(prop.table(table(dataset$sex, dataset$activity, dnn = c(\"Sex\", \"activity\")),1),digits=2) \n",
    "absolute_sex_activity\n",
    "prop_sex_activity\n",
    "\n",
    "absolute_residence_activity <- table(dataset$residence, dataset$activity, dnn = c(\"residence\", \"activity\"))\n",
    "prop_residence_activity <- round(prop.table(table(dataset$residence, dataset$activity, dnn = c(\"residence\", \"activity\")),1),digits=2) \n",
    "absolute_residence_activity\n",
    "prop_residence_activity\n",
    "\n",
    "absolute_insurance_activity <- table(dataset$insurance, dataset$activity, dnn = c(\"insurance\", \"activity\"))\n",
    "prop_insurance_activity <- round(prop.table(table(dataset$insurance, dataset$activity, dnn = c(\"insurance\", \"activity\")),1),digits=2) \n",
    "absolute_insurance_activity\n",
    "prop_insurance_activity\n",
    "\n",
    "absolute_depression_activity <- table(dataset$depression, dataset$activity, dnn = c(\"depression\", \"activity\"))\n",
    "prop_depression_activity <- round(prop.table(table(dataset$depression, dataset$activity, dnn = c(\"depression\", \"activity\")),1),digits=2) \n",
    "absolute_depression_activity\n",
    "prop_depression_activity\n",
    "\n",
    "absolute_age_activity <- table(dataset$age, dataset$activity, dnn = c(\"age\", \"activity\"))\n",
    "prop_age_activity <- round(prop.table(table(dataset$age, dataset$activity, dnn = c(\"age\", \"activity\")),1),digits=2) \n",
    "absolute_age_activity\n",
    "prop_age_activity\n",
    "\n",
    "absolute_bmi_obesity_activity <- table(dataset$bmi_obesity, dataset$activity, dnn = c(\"bmi_obesity\", \"activity\"))\n",
    "prop_bmi_obesity_activity <- round(prop.table(table(dataset$bmi_obesity, dataset$activity, dnn = c(\"bmi_obesity\", \"activity\")),1),digits=2) \n",
    "absolute_bmi_obesity_activity\n",
    "prop_bmi_obesity_activity\n",
    "\n",
    "absolute_waist_obesity_activity <- table(dataset$waist_obesity, dataset$activity, dnn = c(\"waist_obesity\", \"activity\"))\n",
    "prop_waist_obesity_activity <- round(prop.table(table(dataset$waist_obesity, dataset$activity, dnn = c(\"waist_obesity\", \"activity\")),1),digits=2) \n",
    "absolute_waist_obesity_activity\n",
    "prop_waist_obesity_activity\n",
    "\n",
    "absolute_hypertension_activity <- table(dataset$hypertension, dataset$activity, dnn = c(\"hypertension\", \"activity\"))\n",
    "prop_hypertension_activity <- round(prop.table(table(dataset$hypertension, dataset$activity, dnn = c(\"hypertension\", \"activity\")),1),digits=2) \n",
    "absolute_hypertension_activity\n",
    "prop_hypertension_activity\n",
    "\n",
    "absolute_marital_activity <- table(dataset$marital, dataset$activity, dnn = c(\"marital\", \"activity\"))\n",
    "prop_marital_activity <- round(prop.table(table(dataset$marital, dataset$activity, dnn = c(\"marital\", \"activity\")),1),digits=2) \n",
    "absolute_marital_activity\n",
    "prop_marital_activity\n",
    "\n",
    "absolute_education_activity <- table(dataset$education, dataset$activity, dnn = c(\"education\", \"activity\"))\n",
    "prop_education_activity <- round(prop.table(table(dataset$education, dataset$activity, dnn = c(\"education\", \"activity\")),1),digits=2) \n",
    "absolute_education_activity\n",
    "prop_education_activity\n",
    " "
   ]
  },
  {
   "cell_type": "markdown",
   "metadata": {},
   "source": [
    "# Bivariate analysis using chi square"
   ]
  },
  {
   "cell_type": "code",
   "execution_count": 33,
   "metadata": {
    "scrolled": true
   },
   "outputs": [
    {
     "name": "stdout",
     "output_type": "stream",
     "text": [
      "\n",
      "\tPearson's Chi-squared test with Yates' continuity correction\n",
      "\n",
      "data:  dataset$marital and dataset$diabetes\n",
      "X-squared = 0.032703, df = 1, p-value = 0.8565\n",
      "\n",
      "\n",
      "\tPearson's Chi-squared test with Yates' continuity correction\n",
      "\n",
      "data:  dataset$sex and dataset$diabetes\n",
      "X-squared = 1.993, df = 1, p-value = 0.158\n",
      "\n",
      "\n",
      "\tPearson's Chi-squared test\n",
      "\n",
      "data:  dataset$education and dataset$diabetes\n",
      "X-squared = 43.75, df = 2, p-value = 0.000000000316\n",
      "\n",
      "\n",
      "\tPearson's Chi-squared test with Yates' continuity correction\n",
      "\n",
      "data:  dataset$residence and dataset$diabetes\n",
      "X-squared = 62.247, df = 1, p-value = 0.00000000000000303\n",
      "\n",
      "\n",
      "\tPearson's Chi-squared test with Yates' continuity correction\n",
      "\n",
      "data:  dataset$insurance and dataset$diabetes\n",
      "X-squared = 19.17, df = 1, p-value = 0.00001196\n",
      "\n",
      "\n",
      "\tPearson's Chi-squared test\n",
      "\n",
      "data:  dataset$activity and dataset$diabetes\n",
      "X-squared = 30.909, df = 2, p-value = 0.0000001942\n",
      "\n",
      "\n",
      "\tPearson's Chi-squared test with Yates' continuity correction\n",
      "\n",
      "data:  dataset$depression and dataset$diabetes\n",
      "X-squared = 0.0022265, df = 1, p-value = 0.9624\n",
      "\n",
      "\n",
      "\tPearson's Chi-squared test\n",
      "\n",
      "data:  dataset$age and dataset$diabetes\n",
      "X-squared = 51.895, df = 3, p-value = 0.00000000003154\n",
      "\n",
      "\n",
      "\tPearson's Chi-squared test\n",
      "\n",
      "data:  dataset$bmi_obesity and dataset$diabetes\n",
      "X-squared = 41.08, df = 4, p-value = 0.00000002587\n",
      "\n",
      "\n",
      "\tPearson's Chi-squared test with Yates' continuity correction\n",
      "\n",
      "data:  dataset$waist_obesity and dataset$diabetes\n",
      "X-squared = 56.886, df = 1, p-value = 0.00000000000004617\n",
      "\n",
      "\n",
      "\tPearson's Chi-squared test with Yates' continuity correction\n",
      "\n",
      "data:  dataset$hypertension and dataset$diabetes\n",
      "X-squared = 65.771, df = 1, p-value = 0.0000000000000005065\n",
      "\n"
     ]
    }
   ],
   "source": [
    "# Bivariate analysis chi square using cleaned and prepared dataset for all independent variables to diabetes\n",
    "\n",
    "marital_db_test <- chisq.test(dataset$marital, dataset$diabetes) #marital_status \n",
    "print(marital_db_test)\n",
    "\n",
    "sex_db_test <- chisq.test(dataset$sex, dataset$diabetes) #sex\n",
    "print(sex_db_test)\n",
    "\n",
    "edu_db_test <- chisq.test(dataset$education, dataset$diabetes) #education\n",
    "print(edu_db_test)\n",
    "\n",
    "residence_db_test <- chisq.test(dataset$residence, dataset$diabetes) #residence or urban_rural\n",
    "print(residence_db_test)\n",
    "\n",
    "insurance_db_test <- chisq.test(dataset$insurance, dataset$diabetes) #insurance\n",
    "print(insurance_db_test)\n",
    "\n",
    "activity_db_test <- chisq.test(dataset$activity, dataset$diabetes) #physical activity\n",
    "print(activity_db_test)\n",
    "\n",
    "depression_db_test <- chisq.test(dataset$depression, dataset$diabetes) #depression\n",
    "print(depression_db_test)\n",
    "\n",
    "age_db_test <- chisq.test(dataset$age, dataset$diabetes) #age\n",
    "print(age_db_test)\n",
    "\n",
    "bmi_db_test <- chisq.test(dataset$bmi_obesity, dataset$diabetes) #bmi\n",
    "print(bmi_db_test)\n",
    "\n",
    "waist_db_test <- chisq.test(dataset$waist_obesity, dataset$diabetes) #waist circumference\n",
    "print(waist_db_test)\n",
    "\n",
    "hypertension_db_test <- chisq.test(dataset$hypertension, dataset$diabetes) #hypertension\n",
    "print(hypertension_db_test)\n"
   ]
  },
  {
   "cell_type": "code",
   "execution_count": 34,
   "metadata": {
    "scrolled": true
   },
   "outputs": [
    {
     "name": "stdout",
     "output_type": "stream",
     "text": [
      "\n",
      "\tPearson's Chi-squared test\n",
      "\n",
      "data:  dataset$marital and dataset$activity\n",
      "X-squared = 46.905, df = 2, p-value = 0.00000000006526\n",
      "\n",
      "\n",
      "\tPearson's Chi-squared test\n",
      "\n",
      "data:  dataset$sex and dataset$activity\n",
      "X-squared = 133.06, df = 2, p-value < 0.00000000000000022\n",
      "\n",
      "\n",
      "\tPearson's Chi-squared test\n",
      "\n",
      "data:  dataset$education and dataset$activity\n",
      "X-squared = 55.845, df = 4, p-value = 0.00000000002161\n",
      "\n",
      "\n",
      "\tPearson's Chi-squared test\n",
      "\n",
      "data:  dataset$residence and dataset$activity\n",
      "X-squared = 95.94, df = 2, p-value < 0.00000000000000022\n",
      "\n",
      "\n",
      "\tPearson's Chi-squared test\n",
      "\n",
      "data:  dataset$insurance and dataset$activity\n",
      "X-squared = 8.4862, df = 2, p-value = 0.01436\n",
      "\n",
      "\n",
      "\tPearson's Chi-squared test\n",
      "\n",
      "data:  dataset$activity and dataset$activity\n",
      "X-squared = 16152, df = 4, p-value < 0.00000000000000022\n",
      "\n",
      "\n",
      "\tPearson's Chi-squared test\n",
      "\n",
      "data:  dataset$depression and dataset$activity\n",
      "X-squared = 14.022, df = 2, p-value = 0.000902\n",
      "\n",
      "\n",
      "\tPearson's Chi-squared test\n",
      "\n",
      "data:  dataset$age and dataset$activity\n",
      "X-squared = 70.582, df = 6, p-value = 0.0000000000003107\n",
      "\n",
      "\n",
      "\tPearson's Chi-squared test\n",
      "\n",
      "data:  dataset$bmi_obesity and dataset$activity\n",
      "X-squared = 102.44, df = 8, p-value < 0.00000000000000022\n",
      "\n",
      "\n",
      "\tPearson's Chi-squared test\n",
      "\n",
      "data:  dataset$waist_obesity and dataset$activity\n",
      "X-squared = 124.18, df = 2, p-value < 0.00000000000000022\n",
      "\n",
      "\n",
      "\tPearson's Chi-squared test\n",
      "\n",
      "data:  dataset$hypertension and dataset$activity\n",
      "X-squared = 56.792, df = 2, p-value = 0.0000000000004653\n",
      "\n"
     ]
    }
   ],
   "source": [
    "# Bivariate analysis chi square using cleaned and prepared dataset for all independent variables to physical activity\n",
    "\n",
    "marital_act_test <- chisq.test(dataset$marital, dataset$activity) #marital_status \n",
    "print(marital_act_test)\n",
    "\n",
    "sex_act_test <- chisq.test(dataset$sex, dataset$activity) #sex\n",
    "print(sex_act_test)\n",
    "\n",
    "edu_act_test <- chisq.test(dataset$education, dataset$activity) #education\n",
    "print(edu_act_test)\n",
    "\n",
    "residence_act_test <- chisq.test(dataset$residence, dataset$activity) #residence or urban_rural\n",
    "print(residence_act_test)\n",
    "\n",
    "insurance_act_test <- chisq.test(dataset$insurance, dataset$activity) #insurance\n",
    "print(insurance_act_test)\n",
    "\n",
    "activity_act_test <- chisq.test(dataset$activity, dataset$activity) #physical activity\n",
    "print(activity_act_test)\n",
    "\n",
    "depression_act_test <- chisq.test(dataset$depression, dataset$activity) #depression\n",
    "print(depression_act_test)\n",
    "\n",
    "age_act_test <- chisq.test(dataset$age, dataset$activity) #age\n",
    "print(age_act_test)\n",
    "\n",
    "bmi_act_test <- chisq.test(dataset$bmi_obesity, dataset$activity) #bmi\n",
    "print(bmi_act_test)\n",
    "\n",
    "waist_act_test <- chisq.test(dataset$waist_obesity, dataset$activity) #waist circumference\n",
    "print(waist_act_test)\n",
    "\n",
    "hypertension_act_test <- chisq.test(dataset$hypertension, dataset$activity) #hypertension\n",
    "print(hypertension_act_test)\n"
   ]
  },
  {
   "cell_type": "markdown",
   "metadata": {},
   "source": [
    "# Measure of Association - Prevalence Ratio (PR)"
   ]
  },
  {
   "cell_type": "code",
   "execution_count": 35,
   "metadata": {
    "scrolled": true
   },
   "outputs": [
    {
     "data": {
      "text/plain": [
       "   pidlink           diabetes          activity          sex      \n",
       " Length:8076        1:Yes: 481   2:Low     :3491   1:Female:4021  \n",
       " Class :character   0:No :7595   1:Moderate:2643   0:Male  :4055  \n",
       " Mode  :character                0:High    :1942                  \n",
       "                                                                  \n",
       "                                                                  \n",
       "   residence    insurance    depression        age              bmi_obesity  \n",
       " 1:Rural:3272   1:Yes:4079   1:Yes:1442   3:>=75 : 247   4:Obese II   : 750  \n",
       " 0:Urban:4804   0:No :3997   0:No :6634   2:65-74:1021   3:Obese I    :2334  \n",
       "                                          1:55-64:2541   2:At risk    :1374  \n",
       "                                          0:45-54:4267   1:Normal     :2864  \n",
       "                                                         0:Underweight: 754  \n",
       "  waist_obesity          hypertension       marital          education   \n",
       " 1:Obese :4001   1:Hypertension:4186   1:Others :1528   2:Rendah  :4655  \n",
       " 0:Normal:4075   0:Normal      :3890   0:Married:6548   1:Menengah:2587  \n",
       "                                                        0:Tinggi  : 834  \n",
       "                                                                         \n",
       "                                                                         "
      ]
     },
     "metadata": {},
     "output_type": "display_data"
    }
   ],
   "source": [
    "# Reverse order factor level just for calculating Prevalence Ratio, because positive exposures and outcomes come first (PR)\n",
    "dataset_reversed <- dataset %>%\n",
    "                    mutate(diabetes = factor(diabetes, levels = rev(levels(diabetes))), \n",
    "                           activity = factor(activity, levels = rev(levels(activity))),\n",
    "                           insurance = factor(insurance, levels = rev(levels(insurance))),\n",
    "                           marital = factor(marital, levels = rev(levels(marital))),\n",
    "                           sex = factor(sex, levels = rev(levels(sex))),\n",
    "                           residence = factor(residence, levels = rev(levels(residence))),\n",
    "                           depression = factor(depression, levels = rev(levels(depression))),\n",
    "                           age = factor(age, levels = rev(levels(age))),\n",
    "                           bmi_obesity = factor(bmi_obesity, levels = rev(levels(bmi_obesity))),\n",
    "                           waist_obesity = factor(waist_obesity, levels = rev(levels(waist_obesity))),\n",
    "                           hypertension = factor(hypertension, levels = rev(levels(hypertension))),\n",
    "                           education = factor(education, levels = rev(levels(education))))\n",
    "summary(dataset_reversed)"
   ]
  },
  {
   "cell_type": "code",
   "execution_count": 36,
   "metadata": {
    "scrolled": true
   },
   "outputs": [],
   "source": [
    "#Create contingency table (2 by 2 table) for PR\n",
    "ins_db_table <- table(dataset_reversed$insurance, dataset_reversed$diabetes)\n",
    "res_db_table <- table(dataset_reversed$residence, dataset_reversed$diabetes)\n",
    "dep_db_table <- table(dataset_reversed$depression, dataset_reversed$diabetes)\n",
    "waist_db_table <- table(dataset_reversed$waist_obesity, dataset_reversed$diabetes)\n",
    "hyp_db_table <- table(dataset_reversed$hypertension, dataset_reversed$diabetes)\n",
    "mar_db_table <- table(dataset_reversed$marital, dataset_reversed$diabetes)\n",
    "sex_db_table <- table(dataset_reversed$sex, dataset_reversed$diabetes)"
   ]
  },
  {
   "cell_type": "code",
   "execution_count": 37,
   "metadata": {
    "scrolled": true
   },
   "outputs": [
    {
     "name": "stderr",
     "output_type": "stream",
     "text": [
      "Warning message in N0 * (N0 + N1) * a:\n",
      "“NAs produced by integer overflow”Warning message in N0 * N1 * (c + a):\n",
      "“NAs produced by integer overflow”Warning message in N0 * N1 * (c + a):\n",
      "“NAs produced by integer overflow”Warning message in N0 * (N0 + N1) * a:\n",
      "“NAs produced by integer overflow”Warning message in N0 * N1 * (c + a):\n",
      "“NAs produced by integer overflow”Warning message in N0 * N1 * (c + a):\n",
      "“NAs produced by integer overflow”Warning message in N0 * (N0 + N1) * a:\n",
      "“NAs produced by integer overflow”Warning message in N0 * N1 * (c + a):\n",
      "“NAs produced by integer overflow”Warning message in N0 * N1 * (c + a):\n",
      "“NAs produced by integer overflow”Warning message in N0 * (N0 + N1) * a:\n",
      "“NAs produced by integer overflow”Warning message in N0 * N1 * (c + a):\n",
      "“NAs produced by integer overflow”Warning message in N0 * N1 * (c + a):\n",
      "“NAs produced by integer overflow”Warning message in N0 * (N0 + N1) * a:\n",
      "“NAs produced by integer overflow”Warning message in N0 * N1 * (c + a):\n",
      "“NAs produced by integer overflow”Warning message in N0 * N1 * (c + a):\n",
      "“NAs produced by integer overflow”Warning message in N0 * (N0 + N1) * a:\n",
      "“NAs produced by integer overflow”Warning message in N0 * N1 * (c + a):\n",
      "“NAs produced by integer overflow”Warning message in N0 * N1 * (c + a):\n",
      "“NAs produced by integer overflow”Warning message in N0 * (N0 + N1) * a:\n",
      "“NAs produced by integer overflow”Warning message in N0 * N1 * (c + a):\n",
      "“NAs produced by integer overflow”Warning message in N0 * N1 * (c + a):\n",
      "“NAs produced by integer overflow”Warning message in N0 * (N0 + N1) * a:\n",
      "“NAs produced by integer overflow”Warning message in N0 * N1 * (c + a):\n",
      "“NAs produced by integer overflow”Warning message in N0 * N1 * (c + a):\n",
      "“NAs produced by integer overflow”Warning message in N0 * (N0 + N1) * a:\n",
      "“NAs produced by integer overflow”Warning message in N0 * N1 * (c + a):\n",
      "“NAs produced by integer overflow”Warning message in N0 * N1 * (c + a):\n",
      "“NAs produced by integer overflow”Warning message in N0 * (N0 + N1) * a:\n",
      "“NAs produced by integer overflow”Warning message in N0 * N1 * (c + a):\n",
      "“NAs produced by integer overflow”Warning message in N0 * N1 * (c + a):\n",
      "“NAs produced by integer overflow”Warning message in N0 * (N0 + N1) * a:\n",
      "“NAs produced by integer overflow”Warning message in N0 * N1 * (c + a):\n",
      "“NAs produced by integer overflow”Warning message in N0 * N1 * (c + a):\n",
      "“NAs produced by integer overflow”Warning message in N0 * (N0 + N1) * a:\n",
      "“NAs produced by integer overflow”Warning message in N0 * N1 * (c + a):\n",
      "“NAs produced by integer overflow”Warning message in N0 * N1 * (c + a):\n",
      "“NAs produced by integer overflow”Warning message in N0 * (N0 + N1) * a:\n",
      "“NAs produced by integer overflow”Warning message in N0 * N1 * (c + a):\n",
      "“NAs produced by integer overflow”Warning message in N0 * N1 * (c + a):\n",
      "“NAs produced by integer overflow”Warning message in N0 * (N0 + N1) * a:\n",
      "“NAs produced by integer overflow”Warning message in N0 * N1 * (c + a):\n",
      "“NAs produced by integer overflow”Warning message in N0 * N1 * (c + a):\n",
      "“NAs produced by integer overflow”"
     ]
    },
    {
     "data": {
      "text/plain": [
       "             Outcome +    Outcome -      Total        Prevalence *        Odds\n",
       "Exposed +          290         3789       4079                7.11      0.0765\n",
       "Exposed -          191         3806       3997                4.78      0.0502\n",
       "Total              481         7595       8076                5.96      0.0633\n",
       "\n",
       "Point estimates and 95% CIs:\n",
       "-------------------------------------------------------------------\n",
       "Prevalence ratio                             1.49 (1.25, 1.78)\n",
       "Odds ratio                                   1.53 (1.26, 1.84)\n",
       "Attrib prevalence *                          2.33 (1.30, 3.36)\n",
       "Attrib prevalence in population *            1.18 (0.34, 2.02)\n",
       "Attrib fraction in exposed (%)              32.79 (19.74, 43.71)\n",
       "Attrib fraction in population (%)           19.77 (10.71, 27.91)\n",
       "-------------------------------------------------------------------\n",
       " Test that odds ratio = 1: chi2(1) = 19.584 Pr>chi2 = < 0.001\n",
       " Wald confidence limits\n",
       " CI: confidence interval\n",
       " * Outcomes per 100 population units "
      ]
     },
     "metadata": {},
     "output_type": "display_data"
    },
    {
     "data": {
      "text/plain": [
       "             Outcome +    Outcome -      Total        Prevalence *        Odds\n",
       "Exposed +          112         3160       3272                3.42      0.0354\n",
       "Exposed -          369         4435       4804                7.68      0.0832\n",
       "Total              481         7595       8076                5.96      0.0633\n",
       "\n",
       "Point estimates and 95% CIs:\n",
       "-------------------------------------------------------------------\n",
       "Prevalence ratio                             0.45 (0.36, 0.55)\n",
       "Odds ratio                                   0.43 (0.34, 0.53)\n",
       "Attrib prevalence *                          -4.26 (-5.24, -3.28)\n",
       "Attrib prevalence in population *            -1.73 (-2.64, -0.81)\n",
       "Attrib fraction in exposed (%)              -124.40 (-175.93, -82.49)\n",
       "Attrib fraction in population (%)           -28.97 (-35.41, -22.83)\n",
       "-------------------------------------------------------------------\n",
       " Test that odds ratio = 1: chi2(1) = 63.005 Pr>chi2 = < 0.001\n",
       " Wald confidence limits\n",
       " CI: confidence interval\n",
       " * Outcomes per 100 population units "
      ]
     },
     "metadata": {},
     "output_type": "display_data"
    },
    {
     "data": {
      "text/plain": [
       "             Outcome +    Outcome -      Total        Prevalence *        Odds\n",
       "Exposed +           85         1357       1442                5.89      0.0626\n",
       "Exposed -          396         6238       6634                5.97      0.0635\n",
       "Total              481         7595       8076                5.96      0.0633\n",
       "\n",
       "Point estimates and 95% CIs:\n",
       "-------------------------------------------------------------------\n",
       "Prevalence ratio                             0.99 (0.79, 1.24)\n",
       "Odds ratio                                   0.99 (0.77, 1.26)\n",
       "Attrib prevalence *                          -0.07 (-1.42, 1.27)\n",
       "Attrib prevalence in population *            -0.01 (-0.78, 0.76)\n",
       "Attrib fraction in exposed (%)              -1.27 (-27.11, 19.32)\n",
       "Attrib fraction in population (%)           -0.22 (-4.33, 3.72)\n",
       "-------------------------------------------------------------------\n",
       " Test that odds ratio = 1: chi2(1) = 0.012 Pr>chi2 = 0.914\n",
       " Wald confidence limits\n",
       " CI: confidence interval\n",
       " * Outcomes per 100 population units "
      ]
     },
     "metadata": {},
     "output_type": "display_data"
    },
    {
     "data": {
      "text/plain": [
       "             Outcome +    Outcome -      Total        Prevalence *        Odds\n",
       "Exposed +          319         3682       4001                7.97      0.0866\n",
       "Exposed -          162         3913       4075                3.98      0.0414\n",
       "Total              481         7595       8076                5.96      0.0633\n",
       "\n",
       "Point estimates and 95% CIs:\n",
       "-------------------------------------------------------------------\n",
       "Prevalence ratio                             2.01 (1.67, 2.41)\n",
       "Odds ratio                                   2.09 (1.72, 2.54)\n",
       "Attrib prevalence *                          4.00 (2.97, 5.03)\n",
       "Attrib prevalence in population *            1.98 (1.19, 2.77)\n",
       "Attrib fraction in exposed (%)              50.14 (40.07, 58.52)\n",
       "Attrib fraction in population (%)           33.25 (24.57, 40.93)\n",
       "-------------------------------------------------------------------\n",
       " Test that odds ratio = 1: chi2(1) = 57.598 Pr>chi2 = < 0.001\n",
       " Wald confidence limits\n",
       " CI: confidence interval\n",
       " * Outcomes per 100 population units "
      ]
     },
     "metadata": {},
     "output_type": "display_data"
    },
    {
     "data": {
      "text/plain": [
       "             Outcome +    Outcome -      Total        Prevalence *        Odds\n",
       "Exposed +          336         3850       4186                8.03      0.0873\n",
       "Exposed -          145         3745       3890                3.73      0.0387\n",
       "Total              481         7595       8076                5.96      0.0633\n",
       "\n",
       "Point estimates and 95% CIs:\n",
       "-------------------------------------------------------------------\n",
       "Prevalence ratio                             2.15 (1.78, 2.60)\n",
       "Odds ratio                                   2.25 (1.85, 2.75)\n",
       "Attrib prevalence *                          4.30 (3.28, 5.32)\n",
       "Attrib prevalence in population *            2.23 (1.44, 3.02)\n",
       "Attrib fraction in exposed (%)              53.56 (43.86, 61.59)\n",
       "Attrib fraction in population (%)           37.42 (28.53, 45.20)\n",
       "-------------------------------------------------------------------\n",
       " Test that odds ratio = 1: chi2(1) = 66.536 Pr>chi2 = < 0.001\n",
       " Wald confidence limits\n",
       " CI: confidence interval\n",
       " * Outcomes per 100 population units "
      ]
     },
     "metadata": {},
     "output_type": "display_data"
    },
    {
     "data": {
      "text/plain": [
       "             Outcome +    Outcome -      Total        Prevalence *        Odds\n",
       "Exposed +           89         1439       1528                5.82      0.0618\n",
       "Exposed -          392         6156       6548                5.99      0.0637\n",
       "Total              481         7595       8076                5.96      0.0633\n",
       "\n",
       "Point estimates and 95% CIs:\n",
       "-------------------------------------------------------------------\n",
       "Prevalence ratio                             0.97 (0.78, 1.22)\n",
       "Odds ratio                                   0.97 (0.77, 1.23)\n",
       "Attrib prevalence *                          -0.16 (-1.47, 1.15)\n",
       "Attrib prevalence in population *            -0.03 (-0.80, 0.74)\n",
       "Attrib fraction in exposed (%)              -2.78 (-28.50, 17.79)\n",
       "Attrib fraction in population (%)           -0.51 (-4.75, 3.55)\n",
       "-------------------------------------------------------------------\n",
       " Test that odds ratio = 1: chi2(1) = 0.058 Pr>chi2 = 0.81\n",
       " Wald confidence limits\n",
       " CI: confidence interval\n",
       " * Outcomes per 100 population units "
      ]
     },
     "metadata": {},
     "output_type": "display_data"
    },
    {
     "data": {
      "text/plain": [
       "             Outcome +    Outcome -      Total        Prevalence *        Odds\n",
       "Exposed +          255         3766       4021                6.34      0.0677\n",
       "Exposed -          226         3829       4055                5.57      0.0590\n",
       "Total              481         7595       8076                5.96      0.0633\n",
       "\n",
       "Point estimates and 95% CIs:\n",
       "-------------------------------------------------------------------\n",
       "Prevalence ratio                             1.14 (0.96, 1.35)\n",
       "Odds ratio                                   1.15 (0.95, 1.38)\n",
       "Attrib prevalence *                          0.77 (-0.26, 1.80)\n",
       "Attrib prevalence in population *            0.38 (-0.49, 1.26)\n",
       "Attrib fraction in exposed (%)              12.12 (-4.55, 26.13)\n",
       "Attrib fraction in population (%)           6.42 (-2.60, 14.65)\n",
       "-------------------------------------------------------------------\n",
       " Test that odds ratio = 1: chi2(1) = 2.128 Pr>chi2 = 0.145\n",
       " Wald confidence limits\n",
       " CI: confidence interval\n",
       " * Outcomes per 100 population units "
      ]
     },
     "metadata": {},
     "output_type": "display_data"
    }
   ],
   "source": [
    "# Calculate PR for 2 by 2 table\n",
    "\n",
    "pr_insurance <- epi.2by2(ins_db_table, method = \"cross.sectional\", conf.level = 0.95, units = 100, \n",
    "   outcome = \"as.columns\")\n",
    "pr_residence <- epi.2by2(res_db_table, method = \"cross.sectional\", conf.level = 0.95, units = 100, \n",
    "   outcome = \"as.columns\")\n",
    "pr_depression <- epi.2by2(dep_db_table, method = \"cross.sectional\", conf.level = 0.95, units = 100, \n",
    "   outcome = \"as.columns\")\n",
    "pr_waist <- epi.2by2(waist_db_table, method = \"cross.sectional\", conf.level = 0.95, units = 100, \n",
    "   outcome = \"as.columns\")\n",
    "pr_hypertension <- epi.2by2(hyp_db_table, method = \"cross.sectional\", conf.level = 0.95, units = 100, \n",
    "   outcome = \"as.columns\")\n",
    "pr_marital <- epi.2by2(mar_db_table, method = \"cross.sectional\", conf.level = 0.95, units = 100, \n",
    "   outcome = \"as.columns\")\n",
    "pr_sex <- epi.2by2(sex_db_table, method = \"cross.sectional\", conf.level = 0.95, units = 100, \n",
    "   outcome = \"as.columns\")\n",
    "\n",
    "pr_insurance\n",
    "pr_residence\n",
    "pr_depression\n",
    "pr_waist\n",
    "pr_hypertension\n",
    "pr_marital\n",
    "pr_sex"
   ]
  },
  {
   "cell_type": "code",
   "execution_count": 38,
   "metadata": {
    "scrolled": true
   },
   "outputs": [
    {
     "name": "stderr",
     "output_type": "stream",
     "text": [
      "Adding missing grouping variables: `activity`, `diabetes`\n",
      "Adding missing grouping variables: `bmi_obesity`, `diabetes`\n",
      "Adding missing grouping variables: `age`, `diabetes`\n",
      "Adding missing grouping variables: `education`, `diabetes`\n"
     ]
    },
    {
     "data": {
      "text/html": [
       "<table>\n",
       "<thead><tr><th scope=col>activity</th><th scope=col>diabetes</th><th scope=col>have_db</th><th scope=col>total</th><th scope=col>prevalence</th><th scope=col>pr</th></tr></thead>\n",
       "<tbody>\n",
       "\t<tr><td>0:High    </td><td>1:Yes     </td><td> 68       </td><td>1942      </td><td>0.03501545</td><td>1.000000  </td></tr>\n",
       "\t<tr><td>1:Moderate</td><td>1:Yes     </td><td>161       </td><td>2643      </td><td>0.06091563</td><td>1.739679  </td></tr>\n",
       "\t<tr><td>2:Low     </td><td>1:Yes     </td><td>252       </td><td>3491      </td><td>0.07218562</td><td>2.061536  </td></tr>\n",
       "</tbody>\n",
       "</table>\n"
      ],
      "text/latex": [
       "\\begin{tabular}{r|llllll}\n",
       " activity & diabetes & have\\_db & total & prevalence & pr\\\\\n",
       "\\hline\n",
       "\t 0:High     & 1:Yes      &  68        & 1942       & 0.03501545 & 1.000000  \\\\\n",
       "\t 1:Moderate & 1:Yes      & 161        & 2643       & 0.06091563 & 1.739679  \\\\\n",
       "\t 2:Low      & 1:Yes      & 252        & 3491       & 0.07218562 & 2.061536  \\\\\n",
       "\\end{tabular}\n"
      ],
      "text/markdown": [
       "\n",
       "activity | diabetes | have_db | total | prevalence | pr | \n",
       "|---|---|---|\n",
       "| 0:High     | 1:Yes      |  68        | 1942       | 0.03501545 | 1.000000   | \n",
       "| 1:Moderate | 1:Yes      | 161        | 2643       | 0.06091563 | 1.739679   | \n",
       "| 2:Low      | 1:Yes      | 252        | 3491       | 0.07218562 | 2.061536   | \n",
       "\n",
       "\n"
      ],
      "text/plain": [
       "  activity   diabetes have_db total prevalence pr      \n",
       "1 0:High     1:Yes     68     1942  0.03501545 1.000000\n",
       "2 1:Moderate 1:Yes    161     2643  0.06091563 1.739679\n",
       "3 2:Low      1:Yes    252     3491  0.07218562 2.061536"
      ]
     },
     "metadata": {},
     "output_type": "display_data"
    },
    {
     "data": {
      "text/html": [
       "<table>\n",
       "<thead><tr><th scope=col>bmi_obesity</th><th scope=col>diabetes</th><th scope=col>have_db</th><th scope=col>total</th><th scope=col>prevalence</th><th scope=col>pr</th></tr></thead>\n",
       "<tbody>\n",
       "\t<tr><td>0:Underweight</td><td>1:Yes        </td><td> 19          </td><td> 754         </td><td>0.02519894   </td><td>1.000000     </td></tr>\n",
       "\t<tr><td>1:Normal     </td><td>1:Yes        </td><td>134          </td><td>2864         </td><td>0.04678771   </td><td>1.856733     </td></tr>\n",
       "\t<tr><td>2:At risk    </td><td>1:Yes        </td><td>101          </td><td>1374         </td><td>0.07350801   </td><td>2.917107     </td></tr>\n",
       "\t<tr><td>3:Obese I    </td><td>1:Yes        </td><td>178          </td><td>2334         </td><td>0.07626392   </td><td>3.026474     </td></tr>\n",
       "\t<tr><td>4:Obese II   </td><td>1:Yes        </td><td> 49          </td><td> 750         </td><td>0.06533333   </td><td>2.592702     </td></tr>\n",
       "</tbody>\n",
       "</table>\n"
      ],
      "text/latex": [
       "\\begin{tabular}{r|llllll}\n",
       " bmi\\_obesity & diabetes & have\\_db & total & prevalence & pr\\\\\n",
       "\\hline\n",
       "\t 0:Underweight & 1:Yes         &  19           &  754          & 0.02519894    & 1.000000     \\\\\n",
       "\t 1:Normal      & 1:Yes         & 134           & 2864          & 0.04678771    & 1.856733     \\\\\n",
       "\t 2:At risk     & 1:Yes         & 101           & 1374          & 0.07350801    & 2.917107     \\\\\n",
       "\t 3:Obese I     & 1:Yes         & 178           & 2334          & 0.07626392    & 3.026474     \\\\\n",
       "\t 4:Obese II    & 1:Yes         &  49           &  750          & 0.06533333    & 2.592702     \\\\\n",
       "\\end{tabular}\n"
      ],
      "text/markdown": [
       "\n",
       "bmi_obesity | diabetes | have_db | total | prevalence | pr | \n",
       "|---|---|---|---|---|\n",
       "| 0:Underweight | 1:Yes         |  19           |  754          | 0.02519894    | 1.000000      | \n",
       "| 1:Normal      | 1:Yes         | 134           | 2864          | 0.04678771    | 1.856733      | \n",
       "| 2:At risk     | 1:Yes         | 101           | 1374          | 0.07350801    | 2.917107      | \n",
       "| 3:Obese I     | 1:Yes         | 178           | 2334          | 0.07626392    | 3.026474      | \n",
       "| 4:Obese II    | 1:Yes         |  49           |  750          | 0.06533333    | 2.592702      | \n",
       "\n",
       "\n"
      ],
      "text/plain": [
       "  bmi_obesity   diabetes have_db total prevalence pr      \n",
       "1 0:Underweight 1:Yes     19      754  0.02519894 1.000000\n",
       "2 1:Normal      1:Yes    134     2864  0.04678771 1.856733\n",
       "3 2:At risk     1:Yes    101     1374  0.07350801 2.917107\n",
       "4 3:Obese I     1:Yes    178     2334  0.07626392 3.026474\n",
       "5 4:Obese II    1:Yes     49      750  0.06533333 2.592702"
      ]
     },
     "metadata": {},
     "output_type": "display_data"
    },
    {
     "data": {
      "text/html": [
       "<table>\n",
       "<thead><tr><th scope=col>age</th><th scope=col>diabetes</th><th scope=col>have_db</th><th scope=col>total</th><th scope=col>prevalence</th><th scope=col>pr</th></tr></thead>\n",
       "<tbody>\n",
       "\t<tr><td>0:45-54   </td><td>1:Yes     </td><td>185       </td><td>4267      </td><td>0.04335599</td><td>1.0000000 </td></tr>\n",
       "\t<tr><td>1:55-64   </td><td>1:Yes     </td><td>215       </td><td>2541      </td><td>0.08461236</td><td>1.9515726 </td></tr>\n",
       "\t<tr><td>2:65-74   </td><td>1:Yes     </td><td> 71       </td><td>1021      </td><td>0.06953967</td><td>1.6039230 </td></tr>\n",
       "\t<tr><td>3:&gt;=75 </td><td>1:Yes     </td><td> 10       </td><td> 247      </td><td>0.04048583</td><td>0.9338002 </td></tr>\n",
       "</tbody>\n",
       "</table>\n"
      ],
      "text/latex": [
       "\\begin{tabular}{r|llllll}\n",
       " age & diabetes & have\\_db & total & prevalence & pr\\\\\n",
       "\\hline\n",
       "\t 0:45-54    & 1:Yes      & 185        & 4267       & 0.04335599 & 1.0000000 \\\\\n",
       "\t 1:55-64    & 1:Yes      & 215        & 2541       & 0.08461236 & 1.9515726 \\\\\n",
       "\t 2:65-74    & 1:Yes      &  71        & 1021       & 0.06953967 & 1.6039230 \\\\\n",
       "\t 3:>=75     & 1:Yes      &  10        &  247       & 0.04048583 & 0.9338002 \\\\\n",
       "\\end{tabular}\n"
      ],
      "text/markdown": [
       "\n",
       "age | diabetes | have_db | total | prevalence | pr | \n",
       "|---|---|---|---|\n",
       "| 0:45-54    | 1:Yes      | 185        | 4267       | 0.04335599 | 1.0000000  | \n",
       "| 1:55-64    | 1:Yes      | 215        | 2541       | 0.08461236 | 1.9515726  | \n",
       "| 2:65-74    | 1:Yes      |  71        | 1021       | 0.06953967 | 1.6039230  | \n",
       "| 3:>=75     | 1:Yes      |  10        |  247       | 0.04048583 | 0.9338002  | \n",
       "\n",
       "\n"
      ],
      "text/plain": [
       "  age     diabetes have_db total prevalence pr       \n",
       "1 0:45-54 1:Yes    185     4267  0.04335599 1.0000000\n",
       "2 1:55-64 1:Yes    215     2541  0.08461236 1.9515726\n",
       "3 2:65-74 1:Yes     71     1021  0.06953967 1.6039230\n",
       "4 3:>=75  1:Yes     10      247  0.04048583 0.9338002"
      ]
     },
     "metadata": {},
     "output_type": "display_data"
    },
    {
     "data": {
      "text/html": [
       "<table>\n",
       "<thead><tr><th scope=col>education</th><th scope=col>diabetes</th><th scope=col>have_db</th><th scope=col>total</th><th scope=col>prevalence</th><th scope=col>pr</th></tr></thead>\n",
       "<tbody>\n",
       "\t<tr><td>0:Tinggi  </td><td>1:Yes     </td><td> 87       </td><td> 834      </td><td>0.10431655</td><td>1.0000000 </td></tr>\n",
       "\t<tr><td>1:Menengah</td><td>1:Yes     </td><td>172       </td><td>2587      </td><td>0.06648628</td><td>0.6373512 </td></tr>\n",
       "\t<tr><td>2:Rendah  </td><td>1:Yes     </td><td>222       </td><td>4655      </td><td>0.04769066</td><td>0.4571725 </td></tr>\n",
       "</tbody>\n",
       "</table>\n"
      ],
      "text/latex": [
       "\\begin{tabular}{r|llllll}\n",
       " education & diabetes & have\\_db & total & prevalence & pr\\\\\n",
       "\\hline\n",
       "\t 0:Tinggi   & 1:Yes      &  87        &  834       & 0.10431655 & 1.0000000 \\\\\n",
       "\t 1:Menengah & 1:Yes      & 172        & 2587       & 0.06648628 & 0.6373512 \\\\\n",
       "\t 2:Rendah   & 1:Yes      & 222        & 4655       & 0.04769066 & 0.4571725 \\\\\n",
       "\\end{tabular}\n"
      ],
      "text/markdown": [
       "\n",
       "education | diabetes | have_db | total | prevalence | pr | \n",
       "|---|---|---|\n",
       "| 0:Tinggi   | 1:Yes      |  87        |  834       | 0.10431655 | 1.0000000  | \n",
       "| 1:Menengah | 1:Yes      | 172        | 2587       | 0.06648628 | 0.6373512  | \n",
       "| 2:Rendah   | 1:Yes      | 222        | 4655       | 0.04769066 | 0.4571725  | \n",
       "\n",
       "\n"
      ],
      "text/plain": [
       "  education  diabetes have_db total prevalence pr       \n",
       "1 0:Tinggi   1:Yes     87      834  0.10431655 1.0000000\n",
       "2 1:Menengah 1:Yes    172     2587  0.06648628 0.6373512\n",
       "3 2:Rendah   1:Yes    222     4655  0.04769066 0.4571725"
      ]
     },
     "metadata": {},
     "output_type": "display_data"
    }
   ],
   "source": [
    "# Calculate PR for multiple exposure groups using refference group\n",
    "\n",
    "# PR physical activity \n",
    "prevalence_activity <- dataset %>%\n",
    "                select(activity, diabetes) %>%\n",
    "                group_by(activity, diabetes) %>%\n",
    "                filter(diabetes == \"1:Yes\") %>%\n",
    "                count() %>%\n",
    "                rename(\"have_db\" = n)\n",
    "\n",
    "total_activity <- dataset %>%\n",
    "                select(activity) %>%\n",
    "                group_by(activity) %>%\n",
    "                count() %>%\n",
    "                rename(\"total\" = n)\n",
    "\n",
    "activity_table_pr <- left_join(prevalence_activity, total_activity, by = \"activity\")\n",
    "\n",
    "prev_activity <- activity_table_pr %>%\n",
    "                    mutate(prevalence = have_db / total)\n",
    "\n",
    "reff_activity_table <- prev_activity %>%\n",
    "                filter(activity == \"0:High\") %>%\n",
    "                select(prevalence)\n",
    "reff_activity <- reff_activity_table$prevalence\n",
    "\n",
    "pr_activity <- prev_activity %>%\n",
    "                mutate(pr = prevalence / reff_activity)\n",
    "\n",
    "# PR bmi obesity\n",
    "prevalence_bmi_obesity <- dataset %>%\n",
    "                select(bmi_obesity, diabetes) %>%\n",
    "                group_by(bmi_obesity, diabetes) %>%\n",
    "                filter(diabetes == \"1:Yes\") %>%\n",
    "                count() %>%\n",
    "                rename(\"have_db\" = n)\n",
    "\n",
    "total_bmi_obesity <- dataset %>%\n",
    "                select(bmi_obesity) %>%\n",
    "                group_by(bmi_obesity) %>%\n",
    "                count() %>%\n",
    "                rename(\"total\" = n)\n",
    "\n",
    "bmi_obesity_table_pr <- left_join(prevalence_bmi_obesity, total_bmi_obesity, by = \"bmi_obesity\")\n",
    "\n",
    "prev_bmi_obesity <- bmi_obesity_table_pr %>%\n",
    "                    mutate(prevalence = have_db / total)\n",
    "\n",
    "reff_bmi_obesity_table <- prev_bmi_obesity %>%\n",
    "                filter(bmi_obesity == \"0:Underweight\") %>%\n",
    "                select(prevalence)\n",
    "\n",
    "reff_bmi_obesity <- reff_bmi_obesity_table$prevalence\n",
    "\n",
    "pr_bmi_obesity <- prev_bmi_obesity %>%\n",
    "                mutate(pr = prevalence / reff_bmi_obesity)\n",
    "\n",
    "# PR age\n",
    "prevalence_age <- dataset %>%\n",
    "                select(age, diabetes) %>%\n",
    "                group_by(age, diabetes) %>%\n",
    "                filter(diabetes == \"1:Yes\") %>%\n",
    "                count() %>%\n",
    "                rename(\"have_db\" = n)\n",
    "\n",
    "total_age <- dataset %>%\n",
    "                select(age) %>%\n",
    "                group_by(age) %>%\n",
    "                count() %>%\n",
    "                rename(\"total\" = n)\n",
    "\n",
    "age_table_pr <- left_join(prevalence_age, total_age, by = \"age\")\n",
    "\n",
    "prev_age <- age_table_pr %>%\n",
    "                    mutate(prevalence = have_db / total)\n",
    "\n",
    "reff_age_table <- prev_age %>%\n",
    "                filter(age == \"0:45-54\") %>%\n",
    "                select(prevalence)\n",
    "\n",
    "reff_age <- reff_age_table$prevalence\n",
    "\n",
    "pr_age <- prev_age %>%\n",
    "                mutate(pr = prevalence / reff_age)\n",
    "\n",
    "# PR education\n",
    "prevalence_education <- dataset %>%\n",
    "                select(education, diabetes) %>%\n",
    "                group_by(education, diabetes) %>%\n",
    "                filter(diabetes == \"1:Yes\") %>%\n",
    "                count() %>%\n",
    "                rename(\"have_db\" = n)\n",
    "\n",
    "total_education <- dataset %>%\n",
    "                select(education) %>%\n",
    "                group_by(education) %>%\n",
    "                count() %>%\n",
    "                rename(\"total\" = n)\n",
    "\n",
    "education_table_pr <- left_join(prevalence_education, total_education, by = \"education\")\n",
    "\n",
    "prev_education <- education_table_pr %>%\n",
    "                    mutate(prevalence = have_db / total)\n",
    "\n",
    "reff_education_table <- prev_education %>%\n",
    "                filter(education == \"0:Tinggi\") %>%\n",
    "                select(prevalence)\n",
    "\n",
    "reff_education <- reff_education_table$prevalence\n",
    "\n",
    "pr_education <- prev_education %>%\n",
    "                mutate(pr = prevalence / reff_education)\n",
    "\n",
    "pr_activity\n",
    "pr_bmi_obesity\n",
    "pr_age\n",
    "pr_education"
   ]
  },
  {
   "cell_type": "markdown",
   "metadata": {},
   "source": [
    "# Multivariate analysis - Logistic Regression !"
   ]
  },
  {
   "cell_type": "code",
   "execution_count": 39,
   "metadata": {
    "scrolled": true
   },
   "outputs": [
    {
     "data": {
      "text/plain": [
       "\n",
       "Call:\n",
       "glm(formula = diabetes ~ activity + hypertension + waist_obesity + \n",
       "    bmi_obesity + age + insurance + residence + education + marital + \n",
       "    sex + depression, family = binomial(link = \"logit\"), data = dataset)\n",
       "\n",
       "Deviance Residuals: \n",
       "    Min       1Q   Median       3Q      Max  \n",
       "-0.8634  -0.3912  -0.2916  -0.2127   3.1154  \n",
       "\n",
       "Coefficients:\n",
       "                           Estimate Std. Error z value             Pr(>|z|)    \n",
       "(Intercept)                -3.42327    0.19630 -17.439 < 0.0000000000000002 ***\n",
       "activity1:Moderate          0.35865    0.15118   2.372             0.017674 *  \n",
       "activity2:Low               0.52391    0.14366   3.647             0.000265 ***\n",
       "hypertension1:Hypertension  0.63944    0.10626   6.018        0.00000000177 ***\n",
       "waist_obesity.L             0.38627    0.10264   3.763             0.000168 ***\n",
       "bmi_obesity.L               0.02349    0.21600   0.109             0.913403    \n",
       "bmi_obesity.Q              -0.47147    0.16336  -2.886             0.003902 ** \n",
       "bmi_obesity.C               0.06644    0.11706   0.568             0.570351    \n",
       "bmi_obesity^4               0.03576    0.10059   0.356             0.722172    \n",
       "age.L                      -0.02704    0.23368  -0.116             0.907896    \n",
       "age.Q                      -0.61037    0.18303  -3.335             0.000854 ***\n",
       "age.C                       0.14296    0.12287   1.164             0.244619    \n",
       "insurance1:Yes              0.21030    0.10254   2.051             0.040283 *  \n",
       "residence1:Rural           -0.60346    0.11570  -5.216        0.00000018294 ***\n",
       "education.L                -0.45436    0.10498  -4.328        0.00001505278 ***\n",
       "education.Q                 0.05070    0.08659   0.585             0.558213    \n",
       "marital1:Others            -0.22718    0.13241  -1.716             0.086197 .  \n",
       "sex1:Female                -0.04498    0.11405  -0.394             0.693311    \n",
       "depression1:Yes             0.12259    0.12667   0.968             0.333142    \n",
       "---\n",
       "Signif. codes:  0 ‘***’ 0.001 ‘**’ 0.01 ‘*’ 0.05 ‘.’ 0.1 ‘ ’ 1\n",
       "\n",
       "(Dispersion parameter for binomial family taken to be 1)\n",
       "\n",
       "    Null deviance: 3646.4  on 8075  degrees of freedom\n",
       "Residual deviance: 3384.3  on 8057  degrees of freedom\n",
       "AIC: 3422.3\n",
       "\n",
       "Number of Fisher Scoring iterations: 6\n"
      ]
     },
     "metadata": {},
     "output_type": "display_data"
    }
   ],
   "source": [
    "# Take all variable into account to create a totally complete models\n",
    "logit_complete <- glm(diabetes ~ activity + hypertension + waist_obesity + bmi_obesity + age + insurance + residence + education + marital + sex + depression, data=dataset, family=binomial(link=\"logit\"))\n",
    "summary(logit_complete)\n"
   ]
  },
  {
   "cell_type": "code",
   "execution_count": 40,
   "metadata": {
    "scrolled": true
   },
   "outputs": [
    {
     "data": {
      "text/plain": [
       "\n",
       "Call:\n",
       "glm(formula = diabetes ~ activity + hypertension + waist_obesity + \n",
       "    bmi_obesity + age + insurance + residence + education, family = binomial(link = \"logit\"), \n",
       "    data = dataset)\n",
       "\n",
       "Deviance Residuals: \n",
       "    Min       1Q   Median       3Q      Max  \n",
       "-0.8546  -0.3918  -0.2922  -0.2138   3.1056  \n",
       "\n",
       "Coefficients:\n",
       "                           Estimate Std. Error z value             Pr(>|z|)    \n",
       "(Intercept)                -3.46668    0.19132 -18.120 < 0.0000000000000002 ***\n",
       "activity1:Moderate          0.34699    0.15091   2.299             0.021486 *  \n",
       "activity2:Low               0.50498    0.14310   3.529             0.000417 ***\n",
       "hypertension1:Hypertension  0.63752    0.10621   6.002        0.00000000194 ***\n",
       "waist_obesity.L             0.34445    0.09320   3.696             0.000219 ***\n",
       "bmi_obesity.L               0.05683    0.21424   0.265             0.790821    \n",
       "bmi_obesity.Q              -0.47703    0.16294  -2.928             0.003416 ** \n",
       "bmi_obesity.C               0.05953    0.11684   0.510             0.610365    \n",
       "bmi_obesity^4               0.03310    0.10052   0.329             0.741918    \n",
       "age.L                      -0.07192    0.23128  -0.311             0.755844    \n",
       "age.Q                      -0.60595    0.18299  -3.311             0.000929 ***\n",
       "age.C                       0.14620    0.12280   1.191             0.233831    \n",
       "insurance1:Yes              0.21340    0.10246   2.083             0.037261 *  \n",
       "residence1:Rural           -0.59520    0.11556  -5.150        0.00000025989 ***\n",
       "education.L                -0.47062    0.10236  -4.598        0.00000427565 ***\n",
       "education.Q                 0.04715    0.08648   0.545             0.585600    \n",
       "---\n",
       "Signif. codes:  0 ‘***’ 0.001 ‘**’ 0.01 ‘*’ 0.05 ‘.’ 0.1 ‘ ’ 1\n",
       "\n",
       "(Dispersion parameter for binomial family taken to be 1)\n",
       "\n",
       "    Null deviance: 3646.4  on 8075  degrees of freedom\n",
       "Residual deviance: 3388.9  on 8060  degrees of freedom\n",
       "AIC: 3420.9\n",
       "\n",
       "Number of Fisher Scoring iterations: 6\n"
      ]
     },
     "metadata": {},
     "output_type": "display_data"
    }
   ],
   "source": [
    "# Take only signifficant variable from previous chi square test into account \n",
    "logit_filtered <- glm(diabetes ~ activity + hypertension + waist_obesity + bmi_obesity + age + insurance + residence + education, data=dataset, family=binomial(link=\"logit\"))\n",
    "summary(logit_filtered)"
   ]
  },
  {
   "cell_type": "code",
   "execution_count": 41,
   "metadata": {
    "scrolled": true
   },
   "outputs": [
    {
     "data": {
      "text/plain": [
       "\n",
       "Call:\n",
       "glm(formula = diabetes ~ activity + hypertension + waist_obesity + \n",
       "    bmi_obesity + age + insurance + residence + education + marital + \n",
       "    sex + depression + sex * activity + sex * bmi_obesity + sex * \n",
       "    education + sex * depression, family = binomial(link = \"logit\"), \n",
       "    data = dataset_unordered)\n",
       "\n",
       "Deviance Residuals: \n",
       "    Min       1Q   Median       3Q      Max  \n",
       "-1.0081  -0.3900  -0.2843  -0.2010   3.2090  \n",
       "\n",
       "Coefficients:\n",
       "                                  Estimate Std. Error z value\n",
       "(Intercept)                       -3.84152    0.45318  -8.477\n",
       "activity1:Moderate                 0.16195    0.19938   0.812\n",
       "activity2:Low                      0.19957    0.19188   1.040\n",
       "hypertension1:Hypertension         0.62264    0.10683   5.828\n",
       "waist_obesity1:Obese               0.58908    0.15619   3.772\n",
       "bmi_obesity1:Normal                0.97412    0.40112   2.429\n",
       "bmi_obesity2:At risk               0.78025    0.42463   1.837\n",
       "bmi_obesity3:Obese I               0.64892    0.43061   1.507\n",
       "bmi_obesity4:Obese II              0.33671    0.50384   0.668\n",
       "age1:55-64                         0.72624    0.10859   6.688\n",
       "age2:65-74                         0.52231    0.15594   3.349\n",
       "age3:>=75                          0.06625    0.34469   0.192\n",
       "insurance1:Yes                     0.22755    0.10263   2.217\n",
       "residence1:Rural                  -0.63033    0.11605  -5.431\n",
       "education1:Menengah               -0.58369    0.17668  -3.304\n",
       "education2:Rendah                 -1.32003    0.20280  -6.509\n",
       "marital1:Others                   -0.27411    0.13361  -2.052\n",
       "sex1:Female                       -0.49531    0.61310  -0.808\n",
       "depression1:Yes                    0.41538    0.18504   2.245\n",
       "activity1:Moderate:sex1:Female     0.36211    0.31162   1.162\n",
       "activity2:Low:sex1:Female          0.60989    0.29682   2.055\n",
       "bmi_obesity1:Normal:sex1:Female   -1.12868    0.52561  -2.147\n",
       "bmi_obesity2:At risk:sex1:Female  -0.51665    0.53725  -0.962\n",
       "bmi_obesity3:Obese I:sex1:Female  -0.68251    0.51630  -1.322\n",
       "bmi_obesity4:Obese II:sex1:Female -0.65590    0.59093  -1.110\n",
       "education1:Menengah:sex1:Female    0.60840    0.31070   1.958\n",
       "education2:Rendah:sex1:Female      1.38892    0.31270   4.442\n",
       "sex1:Female:depression1:Yes       -0.51826    0.25437  -2.037\n",
       "                                              Pr(>|z|)    \n",
       "(Intercept)                       < 0.0000000000000002 ***\n",
       "activity1:Moderate                            0.416616    \n",
       "activity2:Low                                 0.298305    \n",
       "hypertension1:Hypertension             0.0000000055993 ***\n",
       "waist_obesity1:Obese                          0.000162 ***\n",
       "bmi_obesity1:Normal                           0.015161 *  \n",
       "bmi_obesity2:At risk                          0.066139 .  \n",
       "bmi_obesity3:Obese I                          0.131814    \n",
       "bmi_obesity4:Obese II                         0.503955    \n",
       "age1:55-64                             0.0000000000226 ***\n",
       "age2:65-74                                    0.000810 ***\n",
       "age3:>=75                                     0.847586    \n",
       "insurance1:Yes                                0.026616 *  \n",
       "residence1:Rural                       0.0000000558955 ***\n",
       "education1:Menengah                           0.000955 ***\n",
       "education2:Rendah                      0.0000000000757 ***\n",
       "marital1:Others                               0.040214 *  \n",
       "sex1:Female                                   0.419156    \n",
       "depression1:Yes                               0.024783 *  \n",
       "activity1:Moderate:sex1:Female                0.245233    \n",
       "activity2:Low:sex1:Female                     0.039904 *  \n",
       "bmi_obesity1:Normal:sex1:Female               0.031765 *  \n",
       "bmi_obesity2:At risk:sex1:Female              0.336223    \n",
       "bmi_obesity3:Obese I:sex1:Female              0.186188    \n",
       "bmi_obesity4:Obese II:sex1:Female             0.267027    \n",
       "education1:Menengah:sex1:Female               0.050210 .  \n",
       "education2:Rendah:sex1:Female          0.0000089249630 ***\n",
       "sex1:Female:depression1:Yes                   0.041604 *  \n",
       "---\n",
       "Signif. codes:  0 ‘***’ 0.001 ‘**’ 0.01 ‘*’ 0.05 ‘.’ 0.1 ‘ ’ 1\n",
       "\n",
       "(Dispersion parameter for binomial family taken to be 1)\n",
       "\n",
       "    Null deviance: 3646.4  on 8075  degrees of freedom\n",
       "Residual deviance: 3345.3  on 8048  degrees of freedom\n",
       "AIC: 3401.3\n",
       "\n",
       "Number of Fisher Scoring iterations: 6\n"
      ]
     },
     "metadata": {},
     "output_type": "display_data"
    },
    {
     "data": {
      "text/html": [
       "3597.17943745312"
      ],
      "text/latex": [
       "3597.17943745312"
      ],
      "text/markdown": [
       "3597.17943745312"
      ],
      "text/plain": [
       "[1] 3597.179"
      ]
     },
     "metadata": {},
     "output_type": "display_data"
    }
   ],
   "source": [
    "# Add interaction between sex variable and some independent variables to create a better models\n",
    "logit_interaction <- glm(diabetes ~ activity + hypertension + waist_obesity + bmi_obesity + age + insurance + residence + education + marital + sex + depression \n",
    "                         + sex*activity + sex*bmi_obesity + sex*education + sex*depression, data=dataset_unordered, family=binomial(link=\"logit\"))\n",
    "summary(logit_interaction)\n",
    "BIC(logit_interaction)\n"
   ]
  }
 ],
 "metadata": {
  "kernelspec": {
   "display_name": "R",
   "language": "R",
   "name": "ir"
  },
  "language_info": {
   "codemirror_mode": "r",
   "file_extension": ".r",
   "mimetype": "text/x-r-source",
   "name": "R",
   "pygments_lexer": "r",
   "version": "3.5.1"
  }
 },
 "nbformat": 4,
 "nbformat_minor": 2
}
